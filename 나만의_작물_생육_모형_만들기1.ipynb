{
  "nbformat": 4,
  "nbformat_minor": 0,
  "metadata": {
    "colab": {
      "name": "나만의 작물 생육 모형 만들기1",
      "provenance": [],
      "collapsed_sections": [
        "OikWsQsIT4aa",
        "zkUjmmnGT-T7",
        "y7zoByJ2UB1L",
        "bpcQtiQsUc9y",
        "Z7LM4HE5eaTj",
        "GbQpGSK0hubw",
        "mKr-WKvcI7uX"
      ],
      "include_colab_link": true
    },
    "kernelspec": {
      "name": "python3",
      "display_name": "Python 3"
    },
    "language_info": {
      "name": "python"
    }
  },
  "cells": [
    {
      "cell_type": "markdown",
      "metadata": {
        "id": "view-in-github",
        "colab_type": "text"
      },
      "source": [
        "<a href=\"https://colab.research.google.com/github/dogbull/nihhs-v22/blob/main/%EB%82%98%EB%A7%8C%EC%9D%98_%EC%9E%91%EB%AC%BC_%EC%83%9D%EC%9C%A1_%EB%AA%A8%ED%98%95_%EB%A7%8C%EB%93%A4%EA%B8%B01.ipynb\" target=\"_parent\"><img src=\"https://colab.research.google.com/assets/colab-badge.svg\" alt=\"Open In Colab\"/></a>"
      ]
    },
    {
      "cell_type": "markdown",
      "source": [
        "# 나만의 작물 생육 모형 만들기1\n",
        "* [**나만의 작물 생육 모형 만들기1 (1/4)**](https://colab.research.google.com/drive/1rCZZD8RO2ujJcg4OW-N_10Dm6Nfh8K6l?hl)\n",
        "* [나만의 작물 생육 모형 만들기2 (2/4)](https://colab.research.google.com/drive/13jqzPAHMVxPNTGmMR1X97ecDQaVIQMXH)\n",
        "* [나만의 작물 생육 모형 만들기3 (3/4)](https://colab.research.google.com/drive/12ldfgoyE5USxiZ15EbsQRvQDTEnZLp55)\n",
        "* [나만의 작물 생육 모형 만들기4 (4/4)](https://colab.research.google.com/drive/1epUU1uIVmCjaPA_3KZWP0EoC9dPvyj4x)\n"
      ],
      "metadata": {
        "id": "oa_CDW6kQvSZ"
      }
    },
    {
      "cell_type": "markdown",
      "source": [
        "---\n",
        "`나만의 작물 생육 모형 만들기`에서는 [파이썬](https://www.python.org/) 컴퓨터 프로그래밍 언어를 이용하여 작물 생육 모형을 제작하는 실습을 수행합니다. 이 실습은 파이썬 환경설정에 소요되는 시간을 줄이기 위해 개인 컴퓨팅 환경이 아닌 [Google Colab](https://colab.research.google.com/?hl=ko)을 이용하여 진행하도록 합니다.\n",
        "\n",
        "본 실습에서는 아래와 같은 내용을 다룹니다.\n",
        "\n",
        "* Python과 Colab에 대해 알아봅니다.\n",
        "* 기상청종관기상관측자료(KMA ASOS)를 시각화합니다.\n",
        "* GDD(Growthing Degree Days) 작물 생육 모형을 제작합니다.\n",
        "* CHD(Chill-Days) 작물 생육 모형을 제작합니다.\n",
        "* 격자형 자료를 생성하고 시각화합니다.\n",
        "\n"
      ],
      "metadata": {
        "id": "AaNO2x0NQdF0"
      }
    },
    {
      "cell_type": "markdown",
      "source": [
        "---\n",
        "안녕하세요. `나만의 작물 생육 모형 만들기` 첫 번째 시간입니다.\n",
        "\n",
        "이번 시간에는 `Python과 Colab`에 대해 알아보겠습니다.\n",
        "\n",
        "Python이 여러 프로그래밍 언어 중 하나인 것 처럼, Colab은 Google에서 출시한 여러 제품 중 하나입니다([Colab FAQ](https://research.google.com/colaboratory/faq.html)). Colab을 이용하면 누구나 웹 브라우저를 통해 임의의 Python 프로그램 코드를 작성하고 실행할 수 있습니다. 몇 가지 제약 사항이 있지만 학습을 위한 용도로는 큰 무리가 없다고 생각되며 비용을 지불하면 보다 나은 환경을 제공받을 수 있습니다.\n",
        "\n",
        "비단 Python 뿐만 아니라 사용자가 작성한 프로그램을 실행하기 위해서는 해당 프로그램을 실행할 컴퓨팅 환경이 준비되어 있어야 합니다. 예를들어 개인 노트북이나 데스크탑 컴퓨터에서 파이썬 프로그램을 실행하려면 먼저 [파이썬 인터프리터를 다운로드](https://www.python.org/downloads/)받아 해당 컴퓨터에 설치해야 합니다. 그리고 프로그램 실행에 필요한 외부라이브러리(파이썬 인터프리터에 포함되어 있지 않은 제 3의 프로그램 또는 기능 등)를 구해와서 설치해 주어야합니다. 이러한 활동이 컴퓨터 프로그램 개발 환경 구축의 일부분인데 다양한 이유인해 많은 시간이 소요될 수 있습니다. `Colab`은 우리가 가진 몇 가지 문제점의 일부를 해결해 줍니다. 다만 몇 가지 제약 사항이 새로운 난관을 만들어 내기도 합니다.\n",
        "\n",
        "\n"
      ],
      "metadata": {
        "id": "uF_RngVwtQ9g"
      }
    },
    {
      "cell_type": "markdown",
      "source": [
        "## 1.  Python과 Colab\n",
        "\n",
        "컴퓨터 프로그램은 가장 기본적으로 `대입`, `비교`, `분기`로 구성되어 있습니다.\n",
        "\n",
        "* `대입`은 값을 할당하는 것입니다.\n",
        "* `비교`는 두 값을 비교하여 부울값(참 또는 거짓)을 얻어내는 것입니다.\n",
        "* `분기`는 다음에 실행될 프로그램 코드의 위치를 변경하는 것입니다.\n",
        "\n",
        "위 세 가지 만으로도 많은 것을 할 수 있습니다."
      ],
      "metadata": {
        "id": "9JR_exLk0hLd"
      }
    },
    {
      "cell_type": "markdown",
      "source": [
        "### A. 대입"
      ],
      "metadata": {
        "id": "OikWsQsIT4aa"
      }
    },
    {
      "cell_type": "code",
      "source": [
        "# 대입1\n",
        "# 변수 a에 10을 할당합니다.\n",
        "\n",
        "a = 10"
      ],
      "metadata": {
        "id": "xDgchiua0kNK"
      },
      "execution_count": 1,
      "outputs": []
    },
    {
      "cell_type": "code",
      "source": [
        "# 변수 a에 대입(할당)된 값을 출력합니다.\n",
        "\n",
        "a"
      ],
      "metadata": {
        "colab": {
          "base_uri": "https://localhost:8080/"
        },
        "id": "g0hfMkBW0p3h",
        "outputId": "54b46b6c-126c-477b-b637-5f2e60b8d254"
      },
      "execution_count": 2,
      "outputs": [
        {
          "output_type": "execute_result",
          "data": {
            "text/plain": [
              "10"
            ]
          },
          "metadata": {},
          "execution_count": 2
        }
      ]
    },
    {
      "cell_type": "code",
      "source": [
        "# 변수 a에 대입(할당)된 값을 출력합니다. print 함수를 이용하여 출력하였습니다.\n",
        "\n",
        "print(a)"
      ],
      "metadata": {
        "colab": {
          "base_uri": "https://localhost:8080/"
        },
        "id": "NgwwRHtv0yoq",
        "outputId": "f35ffced-7aee-4c71-ebc1-2f7766a08309"
      },
      "execution_count": 3,
      "outputs": [
        {
          "output_type": "stream",
          "name": "stdout",
          "text": [
            "10\n"
          ]
        }
      ]
    },
    {
      "cell_type": "code",
      "source": [
        " # 두 번 출력하려고 해도 맨 마지막의 출력만 유효합니다.\n",
        " \n",
        " a\n",
        " a"
      ],
      "metadata": {
        "colab": {
          "base_uri": "https://localhost:8080/"
        },
        "id": "GXbpw_jWTmVP",
        "outputId": "8814bd9f-09d2-48f5-9630-15eb8f0af15f"
      },
      "execution_count": 4,
      "outputs": [
        {
          "output_type": "execute_result",
          "data": {
            "text/plain": [
              "10"
            ]
          },
          "metadata": {},
          "execution_count": 4
        }
      ]
    },
    {
      "cell_type": "code",
      "source": [
        " # 여러 번 출력하려면 출력함수를 사용해야 합니다.\n",
        " \n",
        " print(a)\n",
        " print(a)"
      ],
      "metadata": {
        "colab": {
          "base_uri": "https://localhost:8080/"
        },
        "id": "yeNGClX7Tsqf",
        "outputId": "0baaafa3-28fb-40df-9b05-0622408d8a34"
      },
      "execution_count": 5,
      "outputs": [
        {
          "output_type": "stream",
          "name": "stdout",
          "text": [
            "10\n",
            "10\n"
          ]
        }
      ]
    },
    {
      "cell_type": "code",
      "source": [
        "# 변수 a에 대입(할당)된 값을 출력합니다. 문자열과 조합하여 출력하였습니다.\n",
        "\n",
        "print(f'변수 a에 할당 된 값은 {a}입니다.')"
      ],
      "metadata": {
        "colab": {
          "base_uri": "https://localhost:8080/"
        },
        "id": "8DYj8iw705eg",
        "outputId": "2a7e06f8-12ab-4ccc-dccf-ebbee6e4bce9"
      },
      "execution_count": 6,
      "outputs": [
        {
          "output_type": "stream",
          "name": "stdout",
          "text": [
            "변수 a에 할당 된 값은 10입니다.\n"
          ]
        }
      ]
    },
    {
      "cell_type": "code",
      "source": [
        "# 대입2\n",
        "# 변수 b에 3을 할당합니다.\n",
        "\n",
        "b = 3"
      ],
      "metadata": {
        "id": "DXJSS_yY7lPQ"
      },
      "execution_count": 7,
      "outputs": []
    },
    {
      "cell_type": "code",
      "source": [
        "# 변수 b에 대입된 값을 출력합니다.\n",
        "\n",
        "print(b)"
      ],
      "metadata": {
        "colab": {
          "base_uri": "https://localhost:8080/"
        },
        "id": "1wo1Kvj2Fe6c",
        "outputId": "1c83a976-9b43-4236-8319-baf14af51e8a"
      },
      "execution_count": 8,
      "outputs": [
        {
          "output_type": "stream",
          "name": "stdout",
          "text": [
            "3\n"
          ]
        }
      ]
    },
    {
      "cell_type": "code",
      "source": [
        "# 변수 a와 b에 대입된 값을 출력합니다.\n",
        "# 이전에 대입했던 변수 a의 값은 아직 유효합니다.\n",
        "\n",
        "print(a, b)"
      ],
      "metadata": {
        "colab": {
          "base_uri": "https://localhost:8080/"
        },
        "id": "SSv6WdaNFl3T",
        "outputId": "a42a4d3d-3af5-4f67-d104-6b14641cfd55"
      },
      "execution_count": 9,
      "outputs": [
        {
          "output_type": "stream",
          "name": "stdout",
          "text": [
            "10 3\n"
          ]
        }
      ]
    },
    {
      "cell_type": "code",
      "source": [
        "# 대입3\n",
        "# a에서 b를 나눈 값을 c에 할당합니다.\n",
        "\n",
        "c = a  / b"
      ],
      "metadata": {
        "id": "rAmIbakwFtk6"
      },
      "execution_count": 10,
      "outputs": []
    },
    {
      "cell_type": "code",
      "source": [
        "# 변수 c를 출력(변수 c에 할당된 값을 출력)합니다.\n",
        "\n",
        "print(c)"
      ],
      "metadata": {
        "colab": {
          "base_uri": "https://localhost:8080/"
        },
        "id": "bvA8MyOuF2G9",
        "outputId": "4a1a5a0c-6660-4f0d-b048-6cc8e11ecaec"
      },
      "execution_count": 11,
      "outputs": [
        {
          "output_type": "stream",
          "name": "stdout",
          "text": [
            "3.3333333333333335\n"
          ]
        }
      ]
    },
    {
      "cell_type": "markdown",
      "source": [
        "### B. 비교"
      ],
      "metadata": {
        "id": "zkUjmmnGT-T7"
      }
    },
    {
      "cell_type": "code",
      "source": [
        "# 같은지 비교합니다.\n",
        "\n",
        "a == b"
      ],
      "metadata": {
        "colab": {
          "base_uri": "https://localhost:8080/"
        },
        "id": "jT44N04RGBav",
        "outputId": "fbacdeb6-f523-47b4-c6db-a94caa8e6c6f"
      },
      "execution_count": 12,
      "outputs": [
        {
          "output_type": "execute_result",
          "data": {
            "text/plain": [
              "False"
            ]
          },
          "metadata": {},
          "execution_count": 12
        }
      ]
    },
    {
      "cell_type": "code",
      "source": [
        "# 같은 않은지 비교합니다.\n",
        "\n",
        "a != b"
      ],
      "metadata": {
        "colab": {
          "base_uri": "https://localhost:8080/"
        },
        "id": "fp4SC6DsDYQx",
        "outputId": "dfddcb61-66a0-44e7-cde9-316e69fd40d7"
      },
      "execution_count": 13,
      "outputs": [
        {
          "output_type": "execute_result",
          "data": {
            "text/plain": [
              "True"
            ]
          },
          "metadata": {},
          "execution_count": 13
        }
      ]
    },
    {
      "cell_type": "code",
      "source": [
        "# 더 큰지 비교합니다.\n",
        "\n",
        "a > b"
      ],
      "metadata": {
        "colab": {
          "base_uri": "https://localhost:8080/"
        },
        "id": "HBZ4fpuXGDDg",
        "outputId": "66c2075a-84b1-42d2-94c9-281e522f1d34"
      },
      "execution_count": 14,
      "outputs": [
        {
          "output_type": "execute_result",
          "data": {
            "text/plain": [
              "True"
            ]
          },
          "metadata": {},
          "execution_count": 14
        }
      ]
    },
    {
      "cell_type": "code",
      "source": [
        "# 수학적으로 같지만, 프로그램 실행 결과로는 같지 않을 수 있습니다.\n",
        "\n",
        "x = 10 / 3 / 10\n",
        "y = 1 / 3\n",
        "z = x == y\n",
        "\n",
        "print(x, y, z)"
      ],
      "metadata": {
        "colab": {
          "base_uri": "https://localhost:8080/"
        },
        "id": "w_YdSzsvGgzY",
        "outputId": "7623abcd-7395-4e28-c6c5-9f37e6dced23"
      },
      "execution_count": 15,
      "outputs": [
        {
          "output_type": "stream",
          "name": "stdout",
          "text": [
            "0.33333333333333337 0.3333333333333333 False\n"
          ]
        }
      ]
    },
    {
      "cell_type": "code",
      "source": [
        "# Python만의 특수한 나누기 연산자(//) 입니다.\n",
        "# 소수점 이하는 버립니다. 즉 몫(quotient)을 계산합니다.\n",
        "\n",
        "print(a / b, a // b)"
      ],
      "metadata": {
        "colab": {
          "base_uri": "https://localhost:8080/"
        },
        "id": "M43CF-YNM4wy",
        "outputId": "1e846cef-97b5-4ba1-b9c6-ac6c5a4490d0"
      },
      "execution_count": 16,
      "outputs": [
        {
          "output_type": "stream",
          "name": "stdout",
          "text": [
            "3.3333333333333335 3\n"
          ]
        }
      ]
    },
    {
      "cell_type": "markdown",
      "source": [
        "### C. 분기"
      ],
      "metadata": {
        "id": "y7zoByJ2UB1L"
      }
    },
    {
      "cell_type": "code",
      "source": [
        "# 비교문을 이용한 분기1 입니다.\n",
        "\n",
        "if a == b:\n",
        "    print('a와 b는 같습니다.')\n",
        "else:\n",
        "    print('a와 b는 다릅니다.')"
      ],
      "metadata": {
        "colab": {
          "base_uri": "https://localhost:8080/"
        },
        "id": "R1b8x0OAGMJo",
        "outputId": "52e0967d-e2d9-419a-d532-8ed1fd23ca9a"
      },
      "execution_count": 17,
      "outputs": [
        {
          "output_type": "stream",
          "name": "stdout",
          "text": [
            "a와 b는 다릅니다.\n"
          ]
        }
      ]
    },
    {
      "cell_type": "code",
      "source": [
        "# 함수 호출을 이용한 분기1 입니다.\n",
        "\n",
        "def say_name():\n",
        "    print('홍길동')\n",
        "\n",
        "def say_hello():\n",
        "    print('안녕')\n",
        "\n",
        "say_hello()\n",
        "say_name()"
      ],
      "metadata": {
        "colab": {
          "base_uri": "https://localhost:8080/"
        },
        "id": "UUA-cxCcGZTt",
        "outputId": "b017f8fb-3b97-4c13-9993-f68825d00d3d"
      },
      "execution_count": 18,
      "outputs": [
        {
          "output_type": "stream",
          "name": "stdout",
          "text": [
            "안녕\n",
            "홍길동\n"
          ]
        }
      ]
    },
    {
      "cell_type": "code",
      "source": [
        "# 함수 호출을 이용한 분기2 입니다.\n",
        "\n",
        "say_name()\n",
        "say_hello()"
      ],
      "metadata": {
        "colab": {
          "base_uri": "https://localhost:8080/"
        },
        "id": "XCPO9HdeHhc_",
        "outputId": "79e36486-8548-489c-c2fc-c148104ba697"
      },
      "execution_count": 19,
      "outputs": [
        {
          "output_type": "stream",
          "name": "stdout",
          "text": [
            "홍길동\n",
            "안녕\n"
          ]
        }
      ]
    },
    {
      "cell_type": "code",
      "source": [
        "# 함수 호출을 이용한 분기3 입니다.\n",
        "\n",
        "def say_message():\n",
        "    say_name()\n",
        "    print('님,')\n",
        "    say_hello()\n",
        "    print('하세요.')\n",
        "\n",
        "say_message()"
      ],
      "metadata": {
        "colab": {
          "base_uri": "https://localhost:8080/"
        },
        "id": "N9cQ6uJ1Hp6-",
        "outputId": "b248a634-9b97-4ed6-c4ae-6a766548475a"
      },
      "execution_count": 20,
      "outputs": [
        {
          "output_type": "stream",
          "name": "stdout",
          "text": [
            "홍길동\n",
            "님,\n",
            "안녕\n",
            "하세요.\n"
          ]
        }
      ]
    },
    {
      "cell_type": "markdown",
      "source": [
        "### D. 예제\n",
        "---\n",
        "이상으로 `Python`과 `Colab`을 이용하여 `대입`, `비교`, `분기`에 대해 알아보았습니다. 이제 이 세 가지 조합으로 풀 수 있는 몇 가지 문제에 대해 알아보겠습니다."
      ],
      "metadata": {
        "id": "TbhthcGIIaXo"
      }
    },
    {
      "cell_type": "markdown",
      "source": [
        "#### a. 홀수인지 짝수인지 검사\n",
        "\n",
        "어떤 수가 홀수인지 짝수인지 비교하여 그 결과값(참 또는 거짓)을 제공하는 기능을 갖는 함수를 작성해 보겠습니다."
      ],
      "metadata": {
        "id": "bpcQtiQsUc9y"
      }
    },
    {
      "cell_type": "code",
      "source": [
        "# 짝수를 2로 나누에서 나머지가 0입니다.\n",
        "\n",
        "print(6 / 2)\n",
        "print(3 / 2)"
      ],
      "metadata": {
        "colab": {
          "base_uri": "https://localhost:8080/"
        },
        "id": "HpNaGroYUzZr",
        "outputId": "99c955f0-5e0d-4ceb-85e2-9910211aef80"
      },
      "execution_count": 21,
      "outputs": [
        {
          "output_type": "stream",
          "name": "stdout",
          "text": [
            "3.0\n",
            "1.5\n"
          ]
        }
      ]
    },
    {
      "cell_type": "code",
      "source": [
        "# Python built-in 함수은 divmod 를 이용해 보았습니다.\n",
        "# divmod는 몫(quotient)과 나머지(remainder)를 반환합니다.\n",
        "\n",
        "print(divmod(6, 2))\n",
        "print(divmod(3, 2))"
      ],
      "metadata": {
        "colab": {
          "base_uri": "https://localhost:8080/"
        },
        "id": "CVUIT12jVIx2",
        "outputId": "05e857c4-7e7f-453f-9cd4-69a76c9e5bff"
      },
      "execution_count": 22,
      "outputs": [
        {
          "output_type": "stream",
          "name": "stdout",
          "text": [
            "(3, 0)\n",
            "(1, 1)\n"
          ]
        }
      ]
    },
    {
      "cell_type": "code",
      "source": [
        "# 주어진 값이 짝수인지 검사하는 함수 입니다.\n",
        "# 2로 나누어 나머지가 0인지 검사합니다. 나머지가 0이면 짝수입니다.\n",
        "\n",
        "def is_even1(a):\n",
        "    quotient, remainder = divmod(a, 2)\n",
        "    return remainder == 0"
      ],
      "metadata": {
        "id": "6FL6V1EaWNlX"
      },
      "execution_count": 23,
      "outputs": []
    },
    {
      "cell_type": "code",
      "source": [
        "# 3이 짝수인지 검사합니다.\n",
        "\n",
        "is_even1(3)"
      ],
      "metadata": {
        "colab": {
          "base_uri": "https://localhost:8080/"
        },
        "id": "2IqHiMFfXEgK",
        "outputId": "f7ddacf9-1422-411e-ef41-87ef798f937d"
      },
      "execution_count": 24,
      "outputs": [
        {
          "output_type": "execute_result",
          "data": {
            "text/plain": [
              "False"
            ]
          },
          "metadata": {},
          "execution_count": 24
        }
      ]
    },
    {
      "cell_type": "code",
      "source": [
        "# 6이 짝수인지 검사합니다.\n",
        "\n",
        "is_even1(6)"
      ],
      "metadata": {
        "colab": {
          "base_uri": "https://localhost:8080/"
        },
        "id": "nbYpL7WKXWqC",
        "outputId": "0cd7ec15-1562-42bc-87c1-712292293be1"
      },
      "execution_count": 25,
      "outputs": [
        {
          "output_type": "execute_result",
          "data": {
            "text/plain": [
              "True"
            ]
          },
          "metadata": {},
          "execution_count": 25
        }
      ]
    },
    {
      "cell_type": "code",
      "source": [
        "# 간단한 버전의 짝수 검사 함수입니다.\n",
        "\n",
        "def is_even2(a):\n",
        "    remainder = a % 2\n",
        "    return remainder == 0"
      ],
      "metadata": {
        "id": "nNB0Vv2qWgBx"
      },
      "execution_count": 26,
      "outputs": []
    },
    {
      "cell_type": "code",
      "source": [
        "# 3이 짝수인지 검사합니다.\n",
        "\n",
        "is_even2(3)"
      ],
      "metadata": {
        "colab": {
          "base_uri": "https://localhost:8080/"
        },
        "id": "jIKWGEhHXaYM",
        "outputId": "fc868c91-881e-47ef-be40-cb5dc232eb95"
      },
      "execution_count": 27,
      "outputs": [
        {
          "output_type": "execute_result",
          "data": {
            "text/plain": [
              "False"
            ]
          },
          "metadata": {},
          "execution_count": 27
        }
      ]
    },
    {
      "cell_type": "code",
      "source": [
        "# 6이 짝수인지 검사합니다.\n",
        "\n",
        "is_even2(6)"
      ],
      "metadata": {
        "colab": {
          "base_uri": "https://localhost:8080/"
        },
        "id": "FvSKc8raXfC6",
        "outputId": "590f0f23-2476-46fd-9dac-1c46d4b98f99"
      },
      "execution_count": 28,
      "outputs": [
        {
          "output_type": "execute_result",
          "data": {
            "text/plain": [
              "True"
            ]
          },
          "metadata": {},
          "execution_count": 28
        }
      ]
    },
    {
      "cell_type": "markdown",
      "source": [
        "#### b. 최대, 최소값 찾기\n",
        "\n",
        "임의의 배열에서 최대, 최소값을 찾아보도록 하겠습니다."
      ],
      "metadata": {
        "id": "Z7LM4HE5eaTj"
      }
    },
    {
      "cell_type": "code",
      "source": [
        "# 1부터 9까지 숫자 중, 짝수 배열 생성. 방법1\n",
        "\n",
        "array1 = [2, 4, 6, 8]\n",
        "print(array1)"
      ],
      "metadata": {
        "colab": {
          "base_uri": "https://localhost:8080/"
        },
        "id": "MuwX9UiSei3U",
        "outputId": "98320791-582d-47d6-83f8-812e3338b50b"
      },
      "execution_count": 29,
      "outputs": [
        {
          "output_type": "stream",
          "name": "stdout",
          "text": [
            "[2, 4, 6, 8]\n"
          ]
        }
      ]
    },
    {
      "cell_type": "markdown",
      "source": [
        ""
      ],
      "metadata": {
        "id": "NXc3ccgMfde8"
      }
    },
    {
      "cell_type": "code",
      "source": [
        "# 1부터 9까지 숫자 중, 짝수 배열 생성. 방법2\n",
        "\n",
        "array2 = []\n",
        "for x in range(1, 10):\n",
        "    if x % 2 == 0:\n",
        "        array2.append(x)\n",
        "\n",
        "print(array2)"
      ],
      "metadata": {
        "colab": {
          "base_uri": "https://localhost:8080/"
        },
        "id": "zgkmvurFfelL",
        "outputId": "7aad3d31-20fc-4e61-e736-c116edc81831"
      },
      "execution_count": 30,
      "outputs": [
        {
          "output_type": "stream",
          "name": "stdout",
          "text": [
            "[2, 4, 6, 8]\n"
          ]
        }
      ]
    },
    {
      "cell_type": "code",
      "source": [
        "# 1부터 9까지 숫자 중, 짝수 배열 생성. 방법3\n",
        "\n",
        "array3 = list(range(2, 10, 2))\n",
        "print(array2)"
      ],
      "metadata": {
        "colab": {
          "base_uri": "https://localhost:8080/"
        },
        "id": "pFZg_6ZAeuJt",
        "outputId": "c41eb4ba-83e7-4904-8815-1e6650107911"
      },
      "execution_count": 31,
      "outputs": [
        {
          "output_type": "stream",
          "name": "stdout",
          "text": [
            "[2, 4, 6, 8]\n"
          ]
        }
      ]
    },
    {
      "cell_type": "code",
      "source": [
        "# 첫 번째, 두 번째, 세 번째 방법 모두 결과는 동일합니다.\n",
        "\n",
        "print(array1 == array2, array1 == array3)"
      ],
      "metadata": {
        "colab": {
          "base_uri": "https://localhost:8080/"
        },
        "id": "VVUrRTLse-n3",
        "outputId": "fb395c07-6e72-49fe-e85b-2560db990065"
      },
      "execution_count": 32,
      "outputs": [
        {
          "output_type": "stream",
          "name": "stdout",
          "text": [
            "True True\n"
          ]
        }
      ]
    },
    {
      "cell_type": "code",
      "source": [
        "# 반목문을 이용하여 최대값을 찾기습니다.\n",
        "\n",
        "max_value = -9999\n",
        "for x in array1:\n",
        "    if x > max_value:\n",
        "        max_value = x\n",
        "\n",
        "print(f'{array1}의 최대값은 {max_value}입니다.')"
      ],
      "metadata": {
        "colab": {
          "base_uri": "https://localhost:8080/"
        },
        "id": "tM0BgpgOfFaV",
        "outputId": "70b71543-b49d-4546-9354-c64ee63e1a53"
      },
      "execution_count": 33,
      "outputs": [
        {
          "output_type": "stream",
          "name": "stdout",
          "text": [
            "[2, 4, 6, 8]의 최대값은 8입니다.\n"
          ]
        }
      ]
    },
    {
      "cell_type": "code",
      "source": [
        "# 반목문을 이용하여 최소값을 찾기습니다.\n",
        "\n",
        "min_value = 9999\n",
        "for x in array1:\n",
        "    if min_value > x:\n",
        "        min_value = x\n",
        "\n",
        "print(f'{array1}의 최소값은 {min_value}입니다.')"
      ],
      "metadata": {
        "colab": {
          "base_uri": "https://localhost:8080/"
        },
        "id": "rGgW8_NxgNvh",
        "outputId": "35500a7d-832c-451f-e25e-8ab3af34a0b8"
      },
      "execution_count": 34,
      "outputs": [
        {
          "output_type": "stream",
          "name": "stdout",
          "text": [
            "[2, 4, 6, 8]의 최소값은 2입니다.\n"
          ]
        }
      ]
    },
    {
      "cell_type": "code",
      "source": [
        "# 반목문을 이용하여 최대, 최소값 동시에 찾기습니다.\n",
        "\n",
        "max_value = -9999\n",
        "min_value =  9999\n",
        "for x in array1:\n",
        "    if x > max_value:\n",
        "        max_value = x\n",
        "    if min_value > x:\n",
        "        min_value = x\n",
        "\n",
        "print(f'{array1}의 최대값은 {max_value}, 최소값은 {min_value} 입니다.')"
      ],
      "metadata": {
        "colab": {
          "base_uri": "https://localhost:8080/"
        },
        "id": "uQxXM0W1gXea",
        "outputId": "04b565af-f146-428f-fb47-40a9f5092499"
      },
      "execution_count": 35,
      "outputs": [
        {
          "output_type": "stream",
          "name": "stdout",
          "text": [
            "[2, 4, 6, 8]의 최대값은 8, 최소값은 2 입니다.\n"
          ]
        }
      ]
    },
    {
      "cell_type": "code",
      "source": [
        "# 반복문 내부에서 비교문 대신 Python built-in 함수인 min/max를 이용하여 최대 최소값 찾기을 찾습니다.\n",
        "\n",
        "max_value = -9999\n",
        "min_value =  9999\n",
        "for x in array1:\n",
        "    max_value = max(max_value, x)\n",
        "    min_value = min(min_value, x)\n",
        "\n",
        "print(f'{array1}의 최대값은 {max_value}, 최소값은 {min_value} 입니다.')"
      ],
      "metadata": {
        "colab": {
          "base_uri": "https://localhost:8080/"
        },
        "id": "XcnArHnggjns",
        "outputId": "b9b286de-0eed-441c-fcd9-62e0f3242323"
      },
      "execution_count": 36,
      "outputs": [
        {
          "output_type": "stream",
          "name": "stdout",
          "text": [
            "[2, 4, 6, 8]의 최대값은 8, 최소값은 2 입니다.\n"
          ]
        }
      ]
    },
    {
      "cell_type": "code",
      "source": [
        "# Python built-in 함수인 min/max를 이용하여 최대 최소값을 찾습니다.\n",
        "\n",
        "max_value = max(array1)\n",
        "min_value = min(array1)\n",
        "\n",
        "print(f'{array1}의 최대값은 {max_value}, 최소값은 {min_value} 입니다.')"
      ],
      "metadata": {
        "colab": {
          "base_uri": "https://localhost:8080/"
        },
        "id": "dGOMlSV9gqKh",
        "outputId": "e28b3628-6d8b-44e1-d846-47d6a61715b4"
      },
      "execution_count": 37,
      "outputs": [
        {
          "output_type": "stream",
          "name": "stdout",
          "text": [
            "[2, 4, 6, 8]의 최대값은 8, 최소값은 2 입니다.\n"
          ]
        }
      ]
    },
    {
      "cell_type": "markdown",
      "source": [
        "#### c. 배열의 각 항목을 제곱하기\n",
        "\n",
        "배열의 각 항목을 제곱하여 출력하거나, 새로운 배열로 생성하는 방법을 알아보겠습니다."
      ],
      "metadata": {
        "id": "GbQpGSK0hubw"
      }
    },
    {
      "cell_type": "code",
      "source": [
        "# 1부터 9까지의 배열을 생성합니다.\n",
        "\n",
        "array1 = list(range(1, 10))\n",
        "\n",
        "array1"
      ],
      "metadata": {
        "colab": {
          "base_uri": "https://localhost:8080/"
        },
        "id": "NNxxgKJ-hz50",
        "outputId": "fec5f5f0-f6f1-4d1b-edde-c4381e588114"
      },
      "execution_count": 38,
      "outputs": [
        {
          "output_type": "execute_result",
          "data": {
            "text/plain": [
              "[1, 2, 3, 4, 5, 6, 7, 8, 9]"
            ]
          },
          "metadata": {},
          "execution_count": 38
        }
      ]
    },
    {
      "cell_type": "code",
      "source": [
        "# 배열 array1의 각 원소를 제곱하여 출력해봅니다.\n",
        "\n",
        "for x in array1:\n",
        "    power = x ** 2\n",
        "    print(f'{x}의 제곱은 {power}입니다.')"
      ],
      "metadata": {
        "colab": {
          "base_uri": "https://localhost:8080/"
        },
        "id": "3A_L-hdqh5Up",
        "outputId": "8d6cf65d-5611-4c00-8844-15a568b45514"
      },
      "execution_count": 39,
      "outputs": [
        {
          "output_type": "stream",
          "name": "stdout",
          "text": [
            "1의 제곱은 1입니다.\n",
            "2의 제곱은 4입니다.\n",
            "3의 제곱은 9입니다.\n",
            "4의 제곱은 16입니다.\n",
            "5의 제곱은 25입니다.\n",
            "6의 제곱은 36입니다.\n",
            "7의 제곱은 49입니다.\n",
            "8의 제곱은 64입니다.\n",
            "9의 제곱은 81입니다.\n"
          ]
        }
      ]
    },
    {
      "cell_type": "code",
      "source": [
        "# 배열 array1의 각 원소를 제곱하여 array2에 추가합니다.\n",
        "\n",
        "array2 = []\n",
        "for x in array1:\n",
        "    power = x ** 2\n",
        "    array2.append(power)\n",
        "\n",
        "print(array1)\n",
        "print(array2)"
      ],
      "metadata": {
        "colab": {
          "base_uri": "https://localhost:8080/"
        },
        "id": "bGApng1siVra",
        "outputId": "bebb5f08-c9c5-4db7-94fe-ed1ca13bfe64"
      },
      "execution_count": 40,
      "outputs": [
        {
          "output_type": "stream",
          "name": "stdout",
          "text": [
            "[1, 2, 3, 4, 5, 6, 7, 8, 9]\n",
            "[1, 4, 9, 16, 25, 36, 49, 64, 81]\n"
          ]
        }
      ]
    },
    {
      "cell_type": "code",
      "source": [
        "# 배열 array1과 array2를 출력합니다.\n",
        "\n",
        "for a, b in zip(array1, array2):\n",
        "    print(f'{a}의 제곱은 {b}입니다.')"
      ],
      "metadata": {
        "colab": {
          "base_uri": "https://localhost:8080/"
        },
        "id": "kN2Drq0jiglz",
        "outputId": "64adbc38-7762-44a5-cbc5-9747b9cb5d6c"
      },
      "execution_count": 41,
      "outputs": [
        {
          "output_type": "stream",
          "name": "stdout",
          "text": [
            "1의 제곱은 1입니다.\n",
            "2의 제곱은 4입니다.\n",
            "3의 제곱은 9입니다.\n",
            "4의 제곱은 16입니다.\n",
            "5의 제곱은 25입니다.\n",
            "6의 제곱은 36입니다.\n",
            "7의 제곱은 49입니다.\n",
            "8의 제곱은 64입니다.\n",
            "9의 제곱은 81입니다.\n"
          ]
        }
      ]
    },
    {
      "cell_type": "markdown",
      "source": [
        "#### d. 콜라츠 추축\n",
        "\n",
        "\n",
        "[콜라츠 추측](https://ko.wikipedia.org/wiki/%EC%BD%9C%EB%9D%BC%EC%B8%A0_%EC%B6%94%EC%B8%A1)이라는 문제에 대해 알아보겠습니다.\n"
      ],
      "metadata": {
        "id": "mKr-WKvcI7uX"
      }
    },
    {
      "cell_type": "markdown",
      "source": [
        "콜라츠 추축은 임의의 모든 자연수가 아래와 같은 조작을 거치면 항상 1이 된다는 추측이며 수학적으로 아직 증명되지 못했습니다.\n",
        "\n",
        "* 짝수라면 2로 나눈다.\n",
        "* 홀수라면 3을 곱하고 1을 더한다.\n",
        "* 1이면 멈춘다.\n",
        "\n",
        "위 조건 중 세 번째 조건이 없다면 (4, 2, 1, 4, 2, 1...) 무한히 반복됩니다. 숫자가 커졌다 작아졌다(오르락 내리락)하는 모습이 우박이 생성되는 모습과 비슷하다 하여 `우박수`라는 별명을 갖고 있습니다.\n",
        "\n",
        "아래에 콜라츠 추축을 수행하는 코드 조각들이 있습니다. `while`, `return`, `break` 등 시간 관계상 설명되지 못한 구분들이 다소 많은데 대략적인 의미만 알아 두셔도 무방합니다. 다만 직접 타이핑 해 보시길 추천드립니다.\n"
      ],
      "metadata": {
        "id": "Z3mmJjaCLgAY"
      }
    },
    {
      "cell_type": "code",
      "source": [
        "# 우선 함수를 하나 만듭니다.\n",
        "def step(old_val):\n",
        "    # x를 2로 나눈 나머지가 0 이면 짝수입니다.\n",
        "    is_even = (old_val % 2) == 0\n",
        "\n",
        "    if is_even:\n",
        "        # 짝수라면 2로 나눕니다.\n",
        "        new_val = old_val // 2\n",
        "    else:\n",
        "        # 홀수라면 3을 곱하고 1을 더합니다.\n",
        "        new_val = old_val * 3 + 1\n",
        "    \n",
        "    # 무한 반복 방지를 위한 구문입니다.\n",
        "    assert old_val != new_val, f'{old_val}은 잘못된 입력입니다.'\n",
        "\n",
        "    return new_val"
      ],
      "metadata": {
        "id": "xwskrM917vc3"
      },
      "execution_count": 42,
      "outputs": []
    },
    {
      "cell_type": "code",
      "source": [
        "# 10을 입력면 5갇 되는지 확인합니다(짝수면 2로 나누게 되므로).\n",
        "\n",
        "step(10)"
      ],
      "metadata": {
        "colab": {
          "base_uri": "https://localhost:8080/"
        },
        "id": "mi_w06ksL1Bk",
        "outputId": "71bb5685-c329-41c5-dea3-32822be228f9"
      },
      "execution_count": 43,
      "outputs": [
        {
          "output_type": "execute_result",
          "data": {
            "text/plain": [
              "5"
            ]
          },
          "metadata": {},
          "execution_count": 43
        }
      ]
    },
    {
      "cell_type": "code",
      "source": [
        "# 5를 입력면 16이 되는지 확인합니다(홀 수면 3을 곱한 후 1일 더하게 되므로).\n",
        "\n",
        "step(5)"
      ],
      "metadata": {
        "colab": {
          "base_uri": "https://localhost:8080/"
        },
        "id": "UJOyCPQ7L_F8",
        "outputId": "3c9477d6-7295-42e0-b3b8-cba99a0014d6"
      },
      "execution_count": 44,
      "outputs": [
        {
          "output_type": "execute_result",
          "data": {
            "text/plain": [
              "16"
            ]
          },
          "metadata": {},
          "execution_count": 44
        }
      ]
    },
    {
      "cell_type": "code",
      "source": [
        "# 1이 될 때 까지 무한(유한일 것이라 추축 되지만-콜라츠 추축) 반복하는 함수 작성합니다.\n",
        "\n",
        "def check(x):\n",
        "    print(f'check {x}')\n",
        "    while True:\n",
        "        if x == 1:\n",
        "            print(f'{x}\\n')\n",
        "            break\n",
        "        else:\n",
        "            print(f'{x} --> ', end='')\n",
        "        x = step(x)"
      ],
      "metadata": {
        "id": "VHYn3BxpMH3-"
      },
      "execution_count": 45,
      "outputs": []
    },
    {
      "cell_type": "code",
      "source": [
        "# 3을 입력하여 숫자가 어떻게 변동되는지 확인합니다.\n",
        "\n",
        "check(3)"
      ],
      "metadata": {
        "colab": {
          "base_uri": "https://localhost:8080/"
        },
        "id": "-wM7SenHHcND",
        "outputId": "7189ac75-a0c6-488b-db55-759733edee8f"
      },
      "execution_count": 46,
      "outputs": [
        {
          "output_type": "stream",
          "name": "stdout",
          "text": [
            "check 3\n",
            "3 --> 10 --> 5 --> 16 --> 8 --> 4 --> 2 --> 1\n",
            "\n"
          ]
        }
      ]
    },
    {
      "cell_type": "code",
      "source": [
        "# 10을 입력하여 숫자가 어떻게 변동되는지 확인합니다.\n",
        "\n",
        "check(10)"
      ],
      "metadata": {
        "colab": {
          "base_uri": "https://localhost:8080/"
        },
        "id": "tvVQuZ7DHnic",
        "outputId": "b6559a7e-d0dd-4df4-ba57-736a07dbffbb"
      },
      "execution_count": 47,
      "outputs": [
        {
          "output_type": "stream",
          "name": "stdout",
          "text": [
            "check 10\n",
            "10 --> 5 --> 16 --> 8 --> 4 --> 2 --> 1\n",
            "\n"
          ]
        }
      ]
    },
    {
      "cell_type": "code",
      "source": [
        "# 1부터 10까지의 수에 대해 변동을 출력해 봅니다.\n",
        "\n",
        "for i in range(1, 11):\n",
        "    check(i)"
      ],
      "metadata": {
        "colab": {
          "base_uri": "https://localhost:8080/"
        },
        "id": "ugb_NBwIMvPP",
        "outputId": "6432de85-6bab-45b3-d49b-a88e8a409428"
      },
      "execution_count": 48,
      "outputs": [
        {
          "output_type": "stream",
          "name": "stdout",
          "text": [
            "check 1\n",
            "1\n",
            "\n",
            "check 2\n",
            "2 --> 1\n",
            "\n",
            "check 3\n",
            "3 --> 10 --> 5 --> 16 --> 8 --> 4 --> 2 --> 1\n",
            "\n",
            "check 4\n",
            "4 --> 2 --> 1\n",
            "\n",
            "check 5\n",
            "5 --> 16 --> 8 --> 4 --> 2 --> 1\n",
            "\n",
            "check 6\n",
            "6 --> 3 --> 10 --> 5 --> 16 --> 8 --> 4 --> 2 --> 1\n",
            "\n",
            "check 7\n",
            "7 --> 22 --> 11 --> 34 --> 17 --> 52 --> 26 --> 13 --> 40 --> 20 --> 10 --> 5 --> 16 --> 8 --> 4 --> 2 --> 1\n",
            "\n",
            "check 8\n",
            "8 --> 4 --> 2 --> 1\n",
            "\n",
            "check 9\n",
            "9 --> 28 --> 14 --> 7 --> 22 --> 11 --> 34 --> 17 --> 52 --> 26 --> 13 --> 40 --> 20 --> 10 --> 5 --> 16 --> 8 --> 4 --> 2 --> 1\n",
            "\n",
            "check 10\n",
            "10 --> 5 --> 16 --> 8 --> 4 --> 2 --> 1\n",
            "\n"
          ]
        }
      ]
    },
    {
      "cell_type": "code",
      "source": [
        "# 임의의 자연수가 몇 번의 반복을 거쳐야 1이 되는지 확인하는 함수를 작성해 보겠습니다.\n",
        "\n",
        "def check_count(num):\n",
        "    count = 0\n",
        "    x = num\n",
        "    while True:\n",
        "        count += 1\n",
        "        if x == 1:\n",
        "            break\n",
        "        x = step(x)\n",
        "    print(f'자연수 {num}는 {count}회 반복입니다.')"
      ],
      "metadata": {
        "id": "l-6E0mc0SHtg"
      },
      "execution_count": 49,
      "outputs": []
    },
    {
      "cell_type": "code",
      "source": [
        "# 1부터 10까지 반복 횟수를 출력해 봅니다.\n",
        "\n",
        "for i in range(1, 11):\n",
        "    check_count(i)"
      ],
      "metadata": {
        "colab": {
          "base_uri": "https://localhost:8080/"
        },
        "id": "JS6mBPCtBcTP",
        "outputId": "cc9b3ea2-e4d7-4e8f-c651-e5c7ebd8a4aa"
      },
      "execution_count": 50,
      "outputs": [
        {
          "output_type": "stream",
          "name": "stdout",
          "text": [
            "자연수 1는 1회 반복입니다.\n",
            "자연수 2는 2회 반복입니다.\n",
            "자연수 3는 8회 반복입니다.\n",
            "자연수 4는 3회 반복입니다.\n",
            "자연수 5는 6회 반복입니다.\n",
            "자연수 6는 9회 반복입니다.\n",
            "자연수 7는 17회 반복입니다.\n",
            "자연수 8는 4회 반복입니다.\n",
            "자연수 9는 20회 반복입니다.\n",
            "자연수 10는 7회 반복입니다.\n"
          ]
        }
      ]
    },
    {
      "cell_type": "markdown",
      "source": [
        "#### e. 시각화\n",
        "\n",
        "차트를 생성하여 colab에 표출하거나 이미지로 저장하는 방법 등 시각화 자료를 생성하는 방법에대해 알아보겠습니다. "
      ],
      "metadata": {
        "id": "XuqpP9XCcKP5"
      }
    },
    {
      "cell_type": "code",
      "source": [
        "import matplotlib.pylab as plt"
      ],
      "metadata": {
        "id": "xn65SalzCgE7"
      },
      "execution_count": 51,
      "outputs": []
    },
    {
      "cell_type": "code",
      "source": [
        "# 1부터 9까지의 배열을 생성하고 시각화합니다.\n",
        "\n",
        "array = list(range(1, 10))\n",
        "\n",
        "plt.plot(array)"
      ],
      "metadata": {
        "colab": {
          "base_uri": "https://localhost:8080/",
          "height": 283
        },
        "id": "zYf55609c_w7",
        "outputId": "8c987619-a44f-48be-9f39-0ce5c5c01fa0"
      },
      "execution_count": 52,
      "outputs": [
        {
          "output_type": "execute_result",
          "data": {
            "text/plain": [
              "[<matplotlib.lines.Line2D at 0x7f8834f49810>]"
            ]
          },
          "metadata": {},
          "execution_count": 52
        },
        {
          "output_type": "display_data",
          "data": {
            "text/plain": [
              "<Figure size 432x288 with 1 Axes>"
            ],
            "image/png": "[encoded data removed]"
          },
          "metadata": {
            "needs_background": "light"
          }
        }
      ]
    },
    {
      "cell_type": "code",
      "source": [
        "# 1부터 9까지의 배열을 생성합니다(array1).\n",
        "# array1의 각 원소를 제곱한 새로운 배열을 생성합니다(array2).\n",
        "# array1과 array2를 시각화합니다.\n",
        "\n",
        "array1 = list(range(1, 10))\n",
        "\n",
        "array2 = []\n",
        "for x in array1:\n",
        "    power = x ** 2\n",
        "    array2.append(power)\n",
        "\n",
        "plt.plot(array1)\n",
        "plt.plot(array2)"
      ],
      "metadata": {
        "colab": {
          "base_uri": "https://localhost:8080/",
          "height": 283
        },
        "id": "rSQj3pg-d4PP",
        "outputId": "aa1018cf-e704-4af0-836d-b6c2eb1e0f51"
      },
      "execution_count": 53,
      "outputs": [
        {
          "output_type": "execute_result",
          "data": {
            "text/plain": [
              "[<matplotlib.lines.Line2D at 0x7f883499ef10>]"
            ]
          },
          "metadata": {},
          "execution_count": 53
        },
        {
          "output_type": "display_data",
          "data": {
            "text/plain": [
              "<Figure size 432x288 with 1 Axes>"
            ],
            "image/png": "[encoded data removed]"
          },
          "metadata": {
            "needs_background": "light"
          }
        }
      ]
    },
    {
      "cell_type": "code",
      "source": [
        "# 아래의 함수는 앞서 보여드린 콜라츠 추측 예제에서 불필요한 출력을 없애는 대신,\n",
        "# 반복 횟수(count)를 반환하도록 수정하였습니다.\n",
        "\n",
        "def check_count_quiet(num):\n",
        "    count = 0\n",
        "    x = num\n",
        "    while True:\n",
        "        count += 1\n",
        "        if x == 1:\n",
        "            break\n",
        "        x = step(x)\n",
        "    return count"
      ],
      "metadata": {
        "id": "XVAZlmd9daU9"
      },
      "execution_count": 54,
      "outputs": []
    },
    {
      "cell_type": "code",
      "source": [
        "# 1부터 999까지의 배열을 생성합니다(array1).\n",
        "# array1의 각 원소에 대해 콜라츠 추측 반복횟수를 계산합니다(array2).\n",
        "# array2를 시각화합니다.\n",
        "\n",
        "array1 = list(range(1, 1000))\n",
        "\n",
        "array2 = []\n",
        "for x in array1:\n",
        "    power = check_count_quiet(x)\n",
        "    array2.append(power)\n",
        "\n",
        "plt.plot(array2)"
      ],
      "metadata": {
        "colab": {
          "base_uri": "https://localhost:8080/",
          "height": 283
        },
        "id": "fs2CpdWmBRNf",
        "outputId": "e483cfa4-f250-4265-b9f2-5b9e6cf252cc"
      },
      "execution_count": 55,
      "outputs": [
        {
          "output_type": "execute_result",
          "data": {
            "text/plain": [
              "[<matplotlib.lines.Line2D at 0x7f883492ab10>]"
            ]
          },
          "metadata": {},
          "execution_count": 55
        },
        {
          "output_type": "display_data",
          "data": {
            "text/plain": [
              "<Figure size 432x288 with 1 Axes>"
            ],
            "image/png": "[encoded data removed]"
          },
          "metadata": {
            "needs_background": "light"
          }
        }
      ]
    },
    {
      "cell_type": "code",
      "source": [
        "# 시인성을 높이기 위해 조금 더 크게 그려봅니다.\n",
        "# 아래와 같이 크기를 변경하게 되면 향후 모든 차트도 이 크기로 그려집니다.\n",
        "\n",
        "plt.rcParams['figure.figsize'] = [20, 4]\n",
        "\n",
        "\n",
        "plt.plot(array2)"
      ],
      "metadata": {
        "colab": {
          "base_uri": "https://localhost:8080/",
          "height": 283
        },
        "id": "xIB4osVz_UZ0",
        "outputId": "a0f4afd4-1f37-4337-9718-1a8e30a484f2"
      },
      "execution_count": 56,
      "outputs": [
        {
          "output_type": "execute_result",
          "data": {
            "text/plain": [
              "[<matplotlib.lines.Line2D at 0x7f88348a6110>]"
            ]
          },
          "metadata": {},
          "execution_count": 56
        },
        {
          "output_type": "display_data",
          "data": {
            "text/plain": [
              "<Figure size 1440x288 with 1 Axes>"
            ],
            "image/png": "[encoded data removed]"
          },
          "metadata": {
            "needs_background": "light"
          }
        }
      ]
    },
    {
      "cell_type": "code",
      "source": [
        "# 반복 횟수의 히스토그램을 그려봅니다.\n",
        "\n",
        "plt.hist(array2, bins=100)"
      ],
      "metadata": {
        "colab": {
          "base_uri": "https://localhost:8080/",
          "height": 669
        },
        "id": "mPsH9oJ-AGHL",
        "outputId": "67027c98-fd63-467d-eb37-79e06ae35eba"
      },
      "execution_count": 57,
      "outputs": [
        {
          "output_type": "execute_result",
          "data": {
            "text/plain": [
              "(array([ 2.,  2.,  3.,  6.,  4., 11., 16., 20., 29., 16., 24., 33., 40.,\n",
              "        14., 32., 47., 33., 19., 25., 21., 30., 20., 10., 29., 18., 30.,\n",
              "        16., 15., 14., 11., 18.,  8.,  3., 11.,  5.,  8.,  1.,  6.,  8.,\n",
              "         5.,  6.,  4.,  1.,  4.,  3.,  2.,  4.,  8.,  7.,  2.,  9.,  6.,\n",
              "         6.,  9.,  5., 12.,  7., 11., 10.,  4., 14., 12., 12., 10., 11.,\n",
              "        20., 15., 22.,  4., 10., 16.,  8., 15.,  8.,  3.,  9.,  2.,  0.,\n",
              "         3.,  7.,  5.,  0.,  5.,  0.,  0.,  2.,  0.,  0.,  0.,  0.,  0.,\n",
              "         0.,  0.,  0.,  0.,  1.,  0.,  1.,  0.,  1.]),\n",
              " array([  1.  ,   2.78,   4.56,   6.34,   8.12,   9.9 ,  11.68,  13.46,\n",
              "         15.24,  17.02,  18.8 ,  20.58,  22.36,  24.14,  25.92,  27.7 ,\n",
              "         29.48,  31.26,  33.04,  34.82,  36.6 ,  38.38,  40.16,  41.94,\n",
              "         43.72,  45.5 ,  47.28,  49.06,  50.84,  52.62,  54.4 ,  56.18,\n",
              "         57.96,  59.74,  61.52,  63.3 ,  65.08,  66.86,  68.64,  70.42,\n",
              "         72.2 ,  73.98,  75.76,  77.54,  79.32,  81.1 ,  82.88,  84.66,\n",
              "         86.44,  88.22,  90.  ,  91.78,  93.56,  95.34,  97.12,  98.9 ,\n",
              "        100.68, 102.46, 104.24, 106.02, 107.8 , 109.58, 111.36, 113.14,\n",
              "        114.92, 116.7 , 118.48, 120.26, 122.04, 123.82, 125.6 , 127.38,\n",
              "        129.16, 130.94, 132.72, 134.5 , 136.28, 138.06, 139.84, 141.62,\n",
              "        143.4 , 145.18, 146.96, 148.74, 150.52, 152.3 , 154.08, 155.86,\n",
              "        157.64, 159.42, 161.2 , 162.98, 164.76, 166.54, 168.32, 170.1 ,\n",
              "        171.88, 173.66, 175.44, 177.22, 179.  ]),\n",
              " <a list of 100 Patch objects>)"
            ]
          },
          "metadata": {},
          "execution_count": 57
        },
        {
          "output_type": "display_data",
          "data": {
            "text/plain": [
              "<Figure size 1440x288 with 1 Axes>"
            ],
            "image/png": "[encoded data removed]"
          },
          "metadata": {
            "needs_background": "light"
          }
        }
      ]
    },
    {
      "cell_type": "markdown",
      "source": [
        "`matplotlib`을 이용한 시각화 자료는 사용자와의 상호작용이 없는 이미지 형식입니다. 이는 정보를 찾기 위해 뒤적이지 않아도되는 장점이 있지만 때로는 관심있는 정보에 접근하기 위해서는 추가적인 수고가 필요한 경우도 있습니다.\n",
        "\n",
        "`bokeh`를 이용하면 사용자가 상호작용할 수 있는 차트를 생성할 수 있습니다. 아래는 `bokeh`를 이용하여 시각화 자료를 생성하는 예제입니다."
      ],
      "metadata": {
        "id": "uqkwZq98KKpo"
      }
    },
    {
      "cell_type": "code",
      "source": [
        "# bokeh를 이용하여 시각화해 봅니다.\n",
        "\n",
        "from bokeh.plotting import  output_notebook, figure, show\n",
        "\n",
        "output_notebook()"
      ],
      "metadata": {
        "id": "xD1o7xK7mcBn"
      },
      "execution_count": 58,
      "outputs": []
    },
    {
      "cell_type": "code",
      "source": [
        "# bokeh를 이용한 임의의 자료를 시각화하였습니다.\n",
        "\n",
        "xs = [1, 2, 3,4,  5,  6]\n",
        "ys = [1, 4, 9,16, 25, 36]\n",
        "\n",
        "fig = figure(plot_width=800, plot_height=300)\n",
        "fig.line(xs, ys)\n",
        "\n",
        "show(fig)"
      ],
      "metadata": {
        "colab": {
          "base_uri": "https://localhost:8080/",
          "height": 317
        },
        "id": "8wtDMWd3mxk4",
        "outputId": "b46afdb2-73f3-419f-a62d-c68bb9ff6264"
      },
      "execution_count": 59,
      "outputs": [
        {
          "output_type": "display_data",
          "data": {
            "application/javascript": [
              "\n",
              "(function(root) {\n",
              "  function now() {\n",
              "    return new Date();\n",
              "  }\n",
              "\n",
              "  var force = true;\n",
              "\n",
              "  if (typeof root._bokeh_onload_callbacks === \"undefined\" || force === true) {\n",
              "    root._bokeh_onload_callbacks = [];\n",
              "    root._bokeh_is_loading = undefined;\n",
              "  }\n",
              "\n",
              "  var JS_MIME_TYPE = 'application/javascript';\n",
              "  var HTML_MIME_TYPE = 'text/html';\n",
              "  var EXEC_MIME_TYPE = 'application/vnd.bokehjs_exec.v0+json';\n",
              "  var CLASS_NAME = 'output_bokeh rendered_html';\n",
              "\n",
              "  /**\n",
              "   * Render data to the DOM node\n",
              "   */\n",
              "  function render(props, node) {\n",
              "    var script = document.createElement(\"script\");\n",
              "    node.appendChild(script);\n",
              "  }\n",
              "\n",
              "  /**\n",
              "   * Handle when an output is cleared or removed\n",
              "   */\n",
              "  function handleClearOutput(event, handle) {\n",
              "    var cell = handle.cell;\n",
              "\n",
              "    var id = cell.output_area._bokeh_element_id;\n",
              "    var server_id = cell.output_area._bokeh_server_id;\n",
              "    // Clean up Bokeh references\n",
              "    if (id != null && id in Bokeh.index) {\n",
              "      Bokeh.index[id].model.document.clear();\n",
              "      delete Bokeh.index[id];\n",
              "    }\n",
              "\n",
              "    if (server_id !== undefined) {\n",
              "      // Clean up Bokeh references\n",
              "      var cmd = \"from bokeh.io.state import curstate; print(curstate().uuid_to_server['\" + server_id + \"'].get_sessions()[0].document.roots[0]._id)\";\n",
              "      cell.notebook.kernel.execute(cmd, {\n",
              "        iopub: {\n",
              "          output: function(msg) {\n",
              "            var id = msg.content.text.trim();\n",
              "            if (id in Bokeh.index) {\n",
              "              Bokeh.index[id].model.document.clear();\n",
              "              delete Bokeh.index[id];\n",
              "            }\n",
              "          }\n",
              "        }\n",
              "      });\n",
              "      // Destroy server and session\n",
              "      var cmd = \"import bokeh.io.notebook as ion; ion.destroy_server('\" + server_id + \"')\";\n",
              "      cell.notebook.kernel.execute(cmd);\n",
              "    }\n",
              "  }\n",
              "\n",
              "  /**\n",
              "   * Handle when a new output is added\n",
              "   */\n",
              "  function handleAddOutput(event, handle) {\n",
              "    var output_area = handle.output_area;\n",
              "    var output = handle.output;\n",
              "\n",
              "    // limit handleAddOutput to display_data with EXEC_MIME_TYPE content only\n",
              "    if ((output.output_type != \"display_data\") || (!Object.prototype.hasOwnProperty.call(output.data, EXEC_MIME_TYPE))) {\n",
              "      return\n",
              "    }\n",
              "\n",
              "    var toinsert = output_area.element.find(\".\" + CLASS_NAME.split(' ')[0]);\n",
              "\n",
              "    if (output.metadata[EXEC_MIME_TYPE][\"id\"] !== undefined) {\n",
              "      toinsert[toinsert.length - 1].firstChild.textContent = output.data[JS_MIME_TYPE];\n",
              "      // store reference to embed id on output_area\n",
              "      output_area._bokeh_element_id = output.metadata[EXEC_MIME_TYPE][\"id\"];\n",
              "    }\n",
              "    if (output.metadata[EXEC_MIME_TYPE][\"server_id\"] !== undefined) {\n",
              "      var bk_div = document.createElement(\"div\");\n",
              "      bk_div.innerHTML = output.data[HTML_MIME_TYPE];\n",
              "      var script_attrs = bk_div.children[0].attributes;\n",
              "      for (var i = 0; i < script_attrs.length; i++) {\n",
              "        toinsert[toinsert.length - 1].firstChild.setAttribute(script_attrs[i].name, script_attrs[i].value);\n",
              "        toinsert[toinsert.length - 1].firstChild.textContent = bk_div.children[0].textContent\n",
              "      }\n",
              "      // store reference to server id on output_area\n",
              "      output_area._bokeh_server_id = output.metadata[EXEC_MIME_TYPE][\"server_id\"];\n",
              "    }\n",
              "  }\n",
              "\n",
              "  function register_renderer(events, OutputArea) {\n",
              "\n",
              "    function append_mime(data, metadata, element) {\n",
              "      // create a DOM node to render to\n",
              "      var toinsert = this.create_output_subarea(\n",
              "        metadata,\n",
              "        CLASS_NAME,\n",
              "        EXEC_MIME_TYPE\n",
              "      );\n",
              "      this.keyboard_manager.register_events(toinsert);\n",
              "      // Render to node\n",
              "      var props = {data: data, metadata: metadata[EXEC_MIME_TYPE]};\n",
              "      render(props, toinsert[toinsert.length - 1]);\n",
              "      element.append(toinsert);\n",
              "      return toinsert\n",
              "    }\n",
              "\n",
              "    /* Handle when an output is cleared or removed */\n",
              "    events.on('clear_output.CodeCell', handleClearOutput);\n",
              "    events.on('delete.Cell', handleClearOutput);\n",
              "\n",
              "    /* Handle when a new output is added */\n",
              "    events.on('output_added.OutputArea', handleAddOutput);\n",
              "\n",
              "    /**\n",
              "     * Register the mime type and append_mime function with output_area\n",
              "     */\n",
              "    OutputArea.prototype.register_mime_type(EXEC_MIME_TYPE, append_mime, {\n",
              "      /* Is output safe? */\n",
              "      safe: true,\n",
              "      /* Index of renderer in `output_area.display_order` */\n",
              "      index: 0\n",
              "    });\n",
              "  }\n",
              "\n",
              "  // register the mime type if in Jupyter Notebook environment and previously unregistered\n",
              "  if (root.Jupyter !== undefined) {\n",
              "    var events = require('base/js/events');\n",
              "    var OutputArea = require('notebook/js/outputarea').OutputArea;\n",
              "\n",
              "    if (OutputArea.prototype.mime_types().indexOf(EXEC_MIME_TYPE) == -1) {\n",
              "      register_renderer(events, OutputArea);\n",
              "    }\n",
              "  }\n",
              "\n",
              "  \n",
              "  if (typeof (root._bokeh_timeout) === \"undefined\" || force === true) {\n",
              "    root._bokeh_timeout = Date.now() + 5000;\n",
              "    root._bokeh_failed_load = false;\n",
              "  }\n",
              "\n",
              "  var NB_LOAD_WARNING = {'data': {'text/html':\n",
              "     \"<div style='background-color: #fdd'>\\n\"+\n",
              "     \"<p>\\n\"+\n",
              "     \"BokehJS does not appear to have successfully loaded. If loading BokehJS from CDN, this \\n\"+\n",
              "     \"may be due to a slow or bad network connection. Possible fixes:\\n\"+\n",
              "     \"</p>\\n\"+\n",
              "     \"<ul>\\n\"+\n",
              "     \"<li>re-rerun `output_notebook()` to attempt to load from CDN again, or</li>\\n\"+\n",
              "     \"<li>use INLINE resources instead, as so:</li>\\n\"+\n",
              "     \"</ul>\\n\"+\n",
              "     \"<code>\\n\"+\n",
              "     \"from bokeh.resources import INLINE\\n\"+\n",
              "     \"output_notebook(resources=INLINE)\\n\"+\n",
              "     \"</code>\\n\"+\n",
              "     \"</div>\"}};\n",
              "\n",
              "  function display_loaded() {\n",
              "    var el = document.getElementById(null);\n",
              "    if (el != null) {\n",
              "      el.textContent = \"BokehJS is loading...\";\n",
              "    }\n",
              "    if (root.Bokeh !== undefined) {\n",
              "      if (el != null) {\n",
              "        el.textContent = \"BokehJS \" + root.Bokeh.version + \" successfully loaded.\";\n",
              "      }\n",
              "    } else if (Date.now() < root._bokeh_timeout) {\n",
              "      setTimeout(display_loaded, 100)\n",
              "    }\n",
              "  }\n",
              "\n",
              "\n",
              "  function run_callbacks() {\n",
              "    try {\n",
              "      root._bokeh_onload_callbacks.forEach(function(callback) {\n",
              "        if (callback != null)\n",
              "          callback();\n",
              "      });\n",
              "    } finally {\n",
              "      delete root._bokeh_onload_callbacks\n",
              "    }\n",
              "    console.debug(\"Bokeh: all callbacks have finished\");\n",
              "  }\n",
              "\n",
              "  function load_libs(css_urls, js_urls, callback) {\n",
              "    if (css_urls == null) css_urls = [];\n",
              "    if (js_urls == null) js_urls = [];\n",
              "\n",
              "    root._bokeh_onload_callbacks.push(callback);\n",
              "    if (root._bokeh_is_loading > 0) {\n",
              "      console.debug(\"Bokeh: BokehJS is being loaded, scheduling callback at\", now());\n",
              "      return null;\n",
              "    }\n",
              "    if (js_urls == null || js_urls.length === 0) {\n",
              "      run_callbacks();\n",
              "      return null;\n",
              "    }\n",
              "    console.debug(\"Bokeh: BokehJS not loaded, scheduling load and callback at\", now());\n",
              "    root._bokeh_is_loading = css_urls.length + js_urls.length;\n",
              "\n",
              "    function on_load() {\n",
              "      root._bokeh_is_loading--;\n",
              "      if (root._bokeh_is_loading === 0) {\n",
              "        console.debug(\"Bokeh: all BokehJS libraries/stylesheets loaded\");\n",
              "        run_callbacks()\n",
              "      }\n",
              "    }\n",
              "\n",
              "    function on_error(url) {\n",
              "      console.error(\"failed to load \" + url);\n",
              "    }\n",
              "\n",
              "    for (let i = 0; i < css_urls.length; i++) {\n",
              "      const url = css_urls[i];\n",
              "      const element = document.createElement(\"link\");\n",
              "      element.onload = on_load;\n",
              "      element.onerror = on_error.bind(null, url);\n",
              "      element.rel = \"stylesheet\";\n",
              "      element.type = \"text/css\";\n",
              "      element.href = url;\n",
              "      console.debug(\"Bokeh: injecting link tag for BokehJS stylesheet: \", url);\n",
              "      document.body.appendChild(element);\n",
              "    }\n",
              "\n",
              "    const hashes = {\"https://cdn.bokeh.org/bokeh/release/bokeh-2.3.3.min.js\": \"dM3QQsP+wXdHg42wTqW85BjZQdLNNIXqlPw/BgKoExPmTG7ZLML4EGqLMfqHT6ON\", \"https://cdn.bokeh.org/bokeh/release/bokeh-tables-2.3.3.min.js\": \"8x57I4YuIfu8XyZfFo0XVr2WAT8EK4rh/uDe3wF7YuW2FNUSNEpJbsPaB1nJ2fz2\", \"https://cdn.bokeh.org/bokeh/release/bokeh-widgets-2.3.3.min.js\": \"3QTqdz9LyAm2i0sG5XTePsHec3UHWwVsrOL68SYRoAXsafvfAyqtQ+h440+qIBhS\"};\n",
              "\n",
              "    for (let i = 0; i < js_urls.length; i++) {\n",
              "      const url = js_urls[i];\n",
              "      const element = document.createElement('script');\n",
              "      element.onload = on_load;\n",
              "      element.onerror = on_error.bind(null, url);\n",
              "      element.async = false;\n",
              "      element.src = url;\n",
              "      if (url in hashes) {\n",
              "        element.crossOrigin = \"anonymous\";\n",
              "        element.integrity = \"sha384-\" + hashes[url];\n",
              "      }\n",
              "      console.debug(\"Bokeh: injecting script tag for BokehJS library: \", url);\n",
              "      document.head.appendChild(element);\n",
              "    }\n",
              "  };\n",
              "\n",
              "  function inject_raw_css(css) {\n",
              "    const element = document.createElement(\"style\");\n",
              "    element.appendChild(document.createTextNode(css));\n",
              "    document.body.appendChild(element);\n",
              "  }\n",
              "\n",
              "  \n",
              "  var js_urls = [\"https://cdn.bokeh.org/bokeh/release/bokeh-2.3.3.min.js\", \"https://cdn.bokeh.org/bokeh/release/bokeh-widgets-2.3.3.min.js\", \"https://cdn.bokeh.org/bokeh/release/bokeh-tables-2.3.3.min.js\"];\n",
              "  var css_urls = [];\n",
              "  \n",
              "\n",
              "  var inline_js = [\n",
              "    function(Bokeh) {\n",
              "      Bokeh.set_log_level(\"info\");\n",
              "    },\n",
              "    function(Bokeh) {\n",
              "    \n",
              "    \n",
              "    }\n",
              "  ];\n",
              "\n",
              "  function run_inline_js() {\n",
              "    \n",
              "    if (root.Bokeh !== undefined || force === true) {\n",
              "      \n",
              "    for (var i = 0; i < inline_js.length; i++) {\n",
              "      inline_js[i].call(root, root.Bokeh);\n",
              "    }\n",
              "    } else if (Date.now() < root._bokeh_timeout) {\n",
              "      setTimeout(run_inline_js, 100);\n",
              "    } else if (!root._bokeh_failed_load) {\n",
              "      console.log(\"Bokeh: BokehJS failed to load within specified timeout.\");\n",
              "      root._bokeh_failed_load = true;\n",
              "    } else if (force !== true) {\n",
              "      var cell = $(document.getElementById(null)).parents('.cell').data().cell;\n",
              "      cell.output_area.append_execute_result(NB_LOAD_WARNING)\n",
              "    }\n",
              "\n",
              "  }\n",
              "\n",
              "  if (root._bokeh_is_loading === 0) {\n",
              "    console.debug(\"Bokeh: BokehJS loaded, going straight to plotting\");\n",
              "    run_inline_js();\n",
              "  } else {\n",
              "    load_libs(css_urls, js_urls, function() {\n",
              "      console.debug(\"Bokeh: BokehJS plotting callback run at\", now());\n",
              "      run_inline_js();\n",
              "    });\n",
              "  }\n",
              "}(window));"
            ],
            "application/vnd.bokehjs_load.v0+json": "\n(function(root) {\n  function now() {\n    return new Date();\n  }\n\n  var force = true;\n\n  if (typeof root._bokeh_onload_callbacks === \"undefined\" || force === true) {\n    root._bokeh_onload_callbacks = [];\n    root._bokeh_is_loading = undefined;\n  }\n\n  \n\n  \n  if (typeof (root._bokeh_timeout) === \"undefined\" || force === true) {\n    root._bokeh_timeout = Date.now() + 5000;\n    root._bokeh_failed_load = false;\n  }\n\n  var NB_LOAD_WARNING = {'data': {'text/html':\n     \"<div style='background-color: #fdd'>\\n\"+\n     \"<p>\\n\"+\n     \"BokehJS does not appear to have successfully loaded. If loading BokehJS from CDN, this \\n\"+\n     \"may be due to a slow or bad network connection. Possible fixes:\\n\"+\n     \"</p>\\n\"+\n     \"<ul>\\n\"+\n     \"<li>re-rerun `output_notebook()` to attempt to load from CDN again, or</li>\\n\"+\n     \"<li>use INLINE resources instead, as so:</li>\\n\"+\n     \"</ul>\\n\"+\n     \"<code>\\n\"+\n     \"from bokeh.resources import INLINE\\n\"+\n     \"output_notebook(resources=INLINE)\\n\"+\n     \"</code>\\n\"+\n     \"</div>\"}};\n\n  function display_loaded() {\n    var el = document.getElementById(null);\n    if (el != null) {\n      el.textContent = \"BokehJS is loading...\";\n    }\n    if (root.Bokeh !== undefined) {\n      if (el != null) {\n        el.textContent = \"BokehJS \" + root.Bokeh.version + \" successfully loaded.\";\n      }\n    } else if (Date.now() < root._bokeh_timeout) {\n      setTimeout(display_loaded, 100)\n    }\n  }\n\n\n  function run_callbacks() {\n    try {\n      root._bokeh_onload_callbacks.forEach(function(callback) {\n        if (callback != null)\n          callback();\n      });\n    } finally {\n      delete root._bokeh_onload_callbacks\n    }\n    console.debug(\"Bokeh: all callbacks have finished\");\n  }\n\n  function load_libs(css_urls, js_urls, callback) {\n    if (css_urls == null) css_urls = [];\n    if (js_urls == null) js_urls = [];\n\n    root._bokeh_onload_callbacks.push(callback);\n    if (root._bokeh_is_loading > 0) {\n      console.debug(\"Bokeh: BokehJS is being loaded, scheduling callback at\", now());\n      return null;\n    }\n    if (js_urls == null || js_urls.length === 0) {\n      run_callbacks();\n      return null;\n    }\n    console.debug(\"Bokeh: BokehJS not loaded, scheduling load and callback at\", now());\n    root._bokeh_is_loading = css_urls.length + js_urls.length;\n\n    function on_load() {\n      root._bokeh_is_loading--;\n      if (root._bokeh_is_loading === 0) {\n        console.debug(\"Bokeh: all BokehJS libraries/stylesheets loaded\");\n        run_callbacks()\n      }\n    }\n\n    function on_error(url) {\n      console.error(\"failed to load \" + url);\n    }\n\n    for (let i = 0; i < css_urls.length; i++) {\n      const url = css_urls[i];\n      const element = document.createElement(\"link\");\n      element.onload = on_load;\n      element.onerror = on_error.bind(null, url);\n      element.rel = \"stylesheet\";\n      element.type = \"text/css\";\n      element.href = url;\n      console.debug(\"Bokeh: injecting link tag for BokehJS stylesheet: \", url);\n      document.body.appendChild(element);\n    }\n\n    const hashes = {\"https://cdn.bokeh.org/bokeh/release/bokeh-2.3.3.min.js\": \"dM3QQsP+wXdHg42wTqW85BjZQdLNNIXqlPw/BgKoExPmTG7ZLML4EGqLMfqHT6ON\", \"https://cdn.bokeh.org/bokeh/release/bokeh-tables-2.3.3.min.js\": \"8x57I4YuIfu8XyZfFo0XVr2WAT8EK4rh/uDe3wF7YuW2FNUSNEpJbsPaB1nJ2fz2\", \"https://cdn.bokeh.org/bokeh/release/bokeh-widgets-2.3.3.min.js\": \"3QTqdz9LyAm2i0sG5XTePsHec3UHWwVsrOL68SYRoAXsafvfAyqtQ+h440+qIBhS\"};\n\n    for (let i = 0; i < js_urls.length; i++) {\n      const url = js_urls[i];\n      const element = document.createElement('script');\n      element.onload = on_load;\n      element.onerror = on_error.bind(null, url);\n      element.async = false;\n      element.src = url;\n      if (url in hashes) {\n        element.crossOrigin = \"anonymous\";\n        element.integrity = \"sha384-\" + hashes[url];\n      }\n      console.debug(\"Bokeh: injecting script tag for BokehJS library: \", url);\n      document.head.appendChild(element);\n    }\n  };\n\n  function inject_raw_css(css) {\n    const element = document.createElement(\"style\");\n    element.appendChild(document.createTextNode(css));\n    document.body.appendChild(element);\n  }\n\n  \n  var js_urls = [\"https://cdn.bokeh.org/bokeh/release/bokeh-2.3.3.min.js\", \"https://cdn.bokeh.org/bokeh/release/bokeh-widgets-2.3.3.min.js\", \"https://cdn.bokeh.org/bokeh/release/bokeh-tables-2.3.3.min.js\"];\n  var css_urls = [];\n  \n\n  var inline_js = [\n    function(Bokeh) {\n      Bokeh.set_log_level(\"info\");\n    },\n    function(Bokeh) {\n    \n    \n    }\n  ];\n\n  function run_inline_js() {\n    \n    if (root.Bokeh !== undefined || force === true) {\n      \n    for (var i = 0; i < inline_js.length; i++) {\n      inline_js[i].call(root, root.Bokeh);\n    }\n    } else if (Date.now() < root._bokeh_timeout) {\n      setTimeout(run_inline_js, 100);\n    } else if (!root._bokeh_failed_load) {\n      console.log(\"Bokeh: BokehJS failed to load within specified timeout.\");\n      root._bokeh_failed_load = true;\n    } else if (force !== true) {\n      var cell = $(document.getElementById(null)).parents('.cell').data().cell;\n      cell.output_area.append_execute_result(NB_LOAD_WARNING)\n    }\n\n  }\n\n  if (root._bokeh_is_loading === 0) {\n    console.debug(\"Bokeh: BokehJS loaded, going straight to plotting\");\n    run_inline_js();\n  } else {\n    load_libs(css_urls, js_urls, function() {\n      console.debug(\"Bokeh: BokehJS plotting callback run at\", now());\n      run_inline_js();\n    });\n  }\n}(window));"
          },
          "metadata": {}
        },
        {
          "output_type": "display_data",
          "data": {
            "text/html": [
              "\n",
              "\n",
              "\n",
              "\n",
              "\n",
              "\n",
              "  <div class=\"bk-root\" id=\"69975abb-e6bf-4774-a84b-ca4b8209f635\" data-root-id=\"1002\"></div>\n"
            ]
          },
          "metadata": {}
        },
        {
          "output_type": "display_data",
          "data": {
            "application/javascript": [
              "(function(root) {\n",
              "  function embed_document(root) {\n",
              "    \n",
              "  var docs_json = {\"4d4c2161-ba6b-46f0-a8dc-0203c669a69a\":{\"defs\":[],\"roots\":{\"references\":[{\"attributes\":{\"below\":[{\"id\":\"1011\"}],\"center\":[{\"id\":\"1014\"},{\"id\":\"1018\"}],\"height\":300,\"left\":[{\"id\":\"1015\"}],\"renderers\":[{\"id\":\"1036\"}],\"title\":{\"id\":\"1038\"},\"toolbar\":{\"id\":\"1026\"},\"width\":800,\"x_range\":{\"id\":\"1003\"},\"x_scale\":{\"id\":\"1007\"},\"y_range\":{\"id\":\"1005\"},\"y_scale\":{\"id\":\"1009\"}},\"id\":\"1002\",\"subtype\":\"Figure\",\"type\":\"Plot\"},{\"attributes\":{\"formatter\":{\"id\":\"1040\"},\"major_label_policy\":{\"id\":\"1041\"},\"ticker\":{\"id\":\"1016\"}},\"id\":\"1015\",\"type\":\"LinearAxis\"},{\"attributes\":{},\"id\":\"1020\",\"type\":\"WheelZoomTool\"},{\"attributes\":{\"axis\":{\"id\":\"1015\"},\"dimension\":1,\"ticker\":null},\"id\":\"1018\",\"type\":\"Grid\"},{\"attributes\":{\"data_source\":{\"id\":\"1033\"},\"glyph\":{\"id\":\"1034\"},\"hover_glyph\":null,\"muted_glyph\":null,\"nonselection_glyph\":{\"id\":\"1035\"},\"view\":{\"id\":\"1037\"}},\"id\":\"1036\",\"type\":\"GlyphRenderer\"},{\"attributes\":{},\"id\":\"1012\",\"type\":\"BasicTicker\"},{\"attributes\":{\"line_alpha\":0.1,\"line_color\":\"#1f77b4\",\"x\":{\"field\":\"x\"},\"y\":{\"field\":\"y\"}},\"id\":\"1035\",\"type\":\"Line\"},{\"attributes\":{\"bottom_units\":\"screen\",\"fill_alpha\":0.5,\"fill_color\":\"lightgrey\",\"left_units\":\"screen\",\"level\":\"overlay\",\"line_alpha\":1.0,\"line_color\":\"black\",\"line_dash\":[4,4],\"line_width\":2,\"right_units\":\"screen\",\"syncable\":false,\"top_units\":\"screen\"},\"id\":\"1025\",\"type\":\"BoxAnnotation\"},{\"attributes\":{\"source\":{\"id\":\"1033\"}},\"id\":\"1037\",\"type\":\"CDSView\"},{\"attributes\":{\"active_multi\":null,\"tools\":[{\"id\":\"1019\"},{\"id\":\"1020\"},{\"id\":\"1021\"},{\"id\":\"1022\"},{\"id\":\"1023\"},{\"id\":\"1024\"}]},\"id\":\"1026\",\"type\":\"Toolbar\"},{\"attributes\":{},\"id\":\"1044\",\"type\":\"AllLabels\"},{\"attributes\":{\"line_color\":\"#1f77b4\",\"x\":{\"field\":\"x\"},\"y\":{\"field\":\"y\"}},\"id\":\"1034\",\"type\":\"Line\"},{\"attributes\":{},\"id\":\"1019\",\"type\":\"PanTool\"},{\"attributes\":{\"formatter\":{\"id\":\"1043\"},\"major_label_policy\":{\"id\":\"1044\"},\"ticker\":{\"id\":\"1012\"}},\"id\":\"1011\",\"type\":\"LinearAxis\"},{\"attributes\":{},\"id\":\"1040\",\"type\":\"BasicTickFormatter\"},{\"attributes\":{\"overlay\":{\"id\":\"1025\"}},\"id\":\"1021\",\"type\":\"BoxZoomTool\"},{\"attributes\":{},\"id\":\"1038\",\"type\":\"Title\"},{\"attributes\":{},\"id\":\"1022\",\"type\":\"SaveTool\"},{\"attributes\":{},\"id\":\"1047\",\"type\":\"Selection\"},{\"attributes\":{},\"id\":\"1023\",\"type\":\"ResetTool\"},{\"attributes\":{},\"id\":\"1003\",\"type\":\"DataRange1d\"},{\"attributes\":{},\"id\":\"1024\",\"type\":\"HelpTool\"},{\"attributes\":{\"axis\":{\"id\":\"1011\"},\"ticker\":null},\"id\":\"1014\",\"type\":\"Grid\"},{\"attributes\":{},\"id\":\"1046\",\"type\":\"UnionRenderers\"},{\"attributes\":{\"data\":{\"x\":[1,2,3,4,5,6],\"y\":[1,4,9,16,25,36]},\"selected\":{\"id\":\"1047\"},\"selection_policy\":{\"id\":\"1046\"}},\"id\":\"1033\",\"type\":\"ColumnDataSource\"},{\"attributes\":{},\"id\":\"1007\",\"type\":\"LinearScale\"},{\"attributes\":{},\"id\":\"1041\",\"type\":\"AllLabels\"},{\"attributes\":{},\"id\":\"1009\",\"type\":\"LinearScale\"},{\"attributes\":{},\"id\":\"1005\",\"type\":\"DataRange1d\"},{\"attributes\":{},\"id\":\"1043\",\"type\":\"BasicTickFormatter\"},{\"attributes\":{},\"id\":\"1016\",\"type\":\"BasicTicker\"}],\"root_ids\":[\"1002\"]},\"title\":\"Bokeh Application\",\"version\":\"2.3.3\"}};\n",
              "  var render_items = [{\"docid\":\"4d4c2161-ba6b-46f0-a8dc-0203c669a69a\",\"root_ids\":[\"1002\"],\"roots\":{\"1002\":\"69975abb-e6bf-4774-a84b-ca4b8209f635\"}}];\n",
              "  root.Bokeh.embed.embed_items_notebook(docs_json, render_items);\n",
              "\n",
              "  }\n",
              "  if (root.Bokeh !== undefined) {\n",
              "    embed_document(root);\n",
              "  } else {\n",
              "    var attempts = 0;\n",
              "    var timer = setInterval(function(root) {\n",
              "      if (root.Bokeh !== undefined) {\n",
              "        clearInterval(timer);\n",
              "        embed_document(root);\n",
              "      } else {\n",
              "        attempts++;\n",
              "        if (attempts > 100) {\n",
              "          clearInterval(timer);\n",
              "          console.log(\"Bokeh: ERROR: Unable to run BokehJS code because BokehJS library is missing\");\n",
              "        }\n",
              "      }\n",
              "    }, 10, root)\n",
              "  }\n",
              "})(window);"
            ],
            "application/vnd.bokehjs_exec.v0+json": ""
          },
          "metadata": {
            "application/vnd.bokehjs_exec.v0+json": {
              "id": "1002"
            }
          }
        }
      ]
    },
    {
      "cell_type": "code",
      "source": [
        "# bokeh에 마우스 인터랙션을 포함하여 시각화해 봅니다.\n",
        "\n",
        "from bokeh.models import HoverTool\n",
        "\n",
        "xs = [1, 2, 3,4,  5,  6]\n",
        "ys = [1, 4, 9,16, 25, 36]\n",
        "\n",
        "tooltips1 = [\n",
        "    ['x', '@x'],\n",
        "    ['y', '@y']\n",
        "]\n",
        "\n",
        "fig = figure(plot_width=800, plot_height=400)\n",
        "fig.line(xs, ys)\n",
        "fig.add_tools(HoverTool(tooltips=tooltips1))\n",
        "\n",
        "show(fig)"
      ],
      "metadata": {
        "colab": {
          "base_uri": "https://localhost:8080/",
          "height": 417
        },
        "id": "PA2d8PykoD9u",
        "outputId": "9429446f-c5c7-4b67-acb2-34c5defd6f77"
      },
      "execution_count": 60,
      "outputs": [
        {
          "output_type": "display_data",
          "data": {
            "application/javascript": [
              "\n",
              "(function(root) {\n",
              "  function now() {\n",
              "    return new Date();\n",
              "  }\n",
              "\n",
              "  var force = true;\n",
              "\n",
              "  if (typeof root._bokeh_onload_callbacks === \"undefined\" || force === true) {\n",
              "    root._bokeh_onload_callbacks = [];\n",
              "    root._bokeh_is_loading = undefined;\n",
              "  }\n",
              "\n",
              "  var JS_MIME_TYPE = 'application/javascript';\n",
              "  var HTML_MIME_TYPE = 'text/html';\n",
              "  var EXEC_MIME_TYPE = 'application/vnd.bokehjs_exec.v0+json';\n",
              "  var CLASS_NAME = 'output_bokeh rendered_html';\n",
              "\n",
              "  /**\n",
              "   * Render data to the DOM node\n",
              "   */\n",
              "  function render(props, node) {\n",
              "    var script = document.createElement(\"script\");\n",
              "    node.appendChild(script);\n",
              "  }\n",
              "\n",
              "  /**\n",
              "   * Handle when an output is cleared or removed\n",
              "   */\n",
              "  function handleClearOutput(event, handle) {\n",
              "    var cell = handle.cell;\n",
              "\n",
              "    var id = cell.output_area._bokeh_element_id;\n",
              "    var server_id = cell.output_area._bokeh_server_id;\n",
              "    // Clean up Bokeh references\n",
              "    if (id != null && id in Bokeh.index) {\n",
              "      Bokeh.index[id].model.document.clear();\n",
              "      delete Bokeh.index[id];\n",
              "    }\n",
              "\n",
              "    if (server_id !== undefined) {\n",
              "      // Clean up Bokeh references\n",
              "      var cmd = \"from bokeh.io.state import curstate; print(curstate().uuid_to_server['\" + server_id + \"'].get_sessions()[0].document.roots[0]._id)\";\n",
              "      cell.notebook.kernel.execute(cmd, {\n",
              "        iopub: {\n",
              "          output: function(msg) {\n",
              "            var id = msg.content.text.trim();\n",
              "            if (id in Bokeh.index) {\n",
              "              Bokeh.index[id].model.document.clear();\n",
              "              delete Bokeh.index[id];\n",
              "            }\n",
              "          }\n",
              "        }\n",
              "      });\n",
              "      // Destroy server and session\n",
              "      var cmd = \"import bokeh.io.notebook as ion; ion.destroy_server('\" + server_id + \"')\";\n",
              "      cell.notebook.kernel.execute(cmd);\n",
              "    }\n",
              "  }\n",
              "\n",
              "  /**\n",
              "   * Handle when a new output is added\n",
              "   */\n",
              "  function handleAddOutput(event, handle) {\n",
              "    var output_area = handle.output_area;\n",
              "    var output = handle.output;\n",
              "\n",
              "    // limit handleAddOutput to display_data with EXEC_MIME_TYPE content only\n",
              "    if ((output.output_type != \"display_data\") || (!Object.prototype.hasOwnProperty.call(output.data, EXEC_MIME_TYPE))) {\n",
              "      return\n",
              "    }\n",
              "\n",
              "    var toinsert = output_area.element.find(\".\" + CLASS_NAME.split(' ')[0]);\n",
              "\n",
              "    if (output.metadata[EXEC_MIME_TYPE][\"id\"] !== undefined) {\n",
              "      toinsert[toinsert.length - 1].firstChild.textContent = output.data[JS_MIME_TYPE];\n",
              "      // store reference to embed id on output_area\n",
              "      output_area._bokeh_element_id = output.metadata[EXEC_MIME_TYPE][\"id\"];\n",
              "    }\n",
              "    if (output.metadata[EXEC_MIME_TYPE][\"server_id\"] !== undefined) {\n",
              "      var bk_div = document.createElement(\"div\");\n",
              "      bk_div.innerHTML = output.data[HTML_MIME_TYPE];\n",
              "      var script_attrs = bk_div.children[0].attributes;\n",
              "      for (var i = 0; i < script_attrs.length; i++) {\n",
              "        toinsert[toinsert.length - 1].firstChild.setAttribute(script_attrs[i].name, script_attrs[i].value);\n",
              "        toinsert[toinsert.length - 1].firstChild.textContent = bk_div.children[0].textContent\n",
              "      }\n",
              "      // store reference to server id on output_area\n",
              "      output_area._bokeh_server_id = output.metadata[EXEC_MIME_TYPE][\"server_id\"];\n",
              "    }\n",
              "  }\n",
              "\n",
              "  function register_renderer(events, OutputArea) {\n",
              "\n",
              "    function append_mime(data, metadata, element) {\n",
              "      // create a DOM node to render to\n",
              "      var toinsert = this.create_output_subarea(\n",
              "        metadata,\n",
              "        CLASS_NAME,\n",
              "        EXEC_MIME_TYPE\n",
              "      );\n",
              "      this.keyboard_manager.register_events(toinsert);\n",
              "      // Render to node\n",
              "      var props = {data: data, metadata: metadata[EXEC_MIME_TYPE]};\n",
              "      render(props, toinsert[toinsert.length - 1]);\n",
              "      element.append(toinsert);\n",
              "      return toinsert\n",
              "    }\n",
              "\n",
              "    /* Handle when an output is cleared or removed */\n",
              "    events.on('clear_output.CodeCell', handleClearOutput);\n",
              "    events.on('delete.Cell', handleClearOutput);\n",
              "\n",
              "    /* Handle when a new output is added */\n",
              "    events.on('output_added.OutputArea', handleAddOutput);\n",
              "\n",
              "    /**\n",
              "     * Register the mime type and append_mime function with output_area\n",
              "     */\n",
              "    OutputArea.prototype.register_mime_type(EXEC_MIME_TYPE, append_mime, {\n",
              "      /* Is output safe? */\n",
              "      safe: true,\n",
              "      /* Index of renderer in `output_area.display_order` */\n",
              "      index: 0\n",
              "    });\n",
              "  }\n",
              "\n",
              "  // register the mime type if in Jupyter Notebook environment and previously unregistered\n",
              "  if (root.Jupyter !== undefined) {\n",
              "    var events = require('base/js/events');\n",
              "    var OutputArea = require('notebook/js/outputarea').OutputArea;\n",
              "\n",
              "    if (OutputArea.prototype.mime_types().indexOf(EXEC_MIME_TYPE) == -1) {\n",
              "      register_renderer(events, OutputArea);\n",
              "    }\n",
              "  }\n",
              "\n",
              "  \n",
              "  if (typeof (root._bokeh_timeout) === \"undefined\" || force === true) {\n",
              "    root._bokeh_timeout = Date.now() + 5000;\n",
              "    root._bokeh_failed_load = false;\n",
              "  }\n",
              "\n",
              "  var NB_LOAD_WARNING = {'data': {'text/html':\n",
              "     \"<div style='background-color: #fdd'>\\n\"+\n",
              "     \"<p>\\n\"+\n",
              "     \"BokehJS does not appear to have successfully loaded. If loading BokehJS from CDN, this \\n\"+\n",
              "     \"may be due to a slow or bad network connection. Possible fixes:\\n\"+\n",
              "     \"</p>\\n\"+\n",
              "     \"<ul>\\n\"+\n",
              "     \"<li>re-rerun `output_notebook()` to attempt to load from CDN again, or</li>\\n\"+\n",
              "     \"<li>use INLINE resources instead, as so:</li>\\n\"+\n",
              "     \"</ul>\\n\"+\n",
              "     \"<code>\\n\"+\n",
              "     \"from bokeh.resources import INLINE\\n\"+\n",
              "     \"output_notebook(resources=INLINE)\\n\"+\n",
              "     \"</code>\\n\"+\n",
              "     \"</div>\"}};\n",
              "\n",
              "  function display_loaded() {\n",
              "    var el = document.getElementById(null);\n",
              "    if (el != null) {\n",
              "      el.textContent = \"BokehJS is loading...\";\n",
              "    }\n",
              "    if (root.Bokeh !== undefined) {\n",
              "      if (el != null) {\n",
              "        el.textContent = \"BokehJS \" + root.Bokeh.version + \" successfully loaded.\";\n",
              "      }\n",
              "    } else if (Date.now() < root._bokeh_timeout) {\n",
              "      setTimeout(display_loaded, 100)\n",
              "    }\n",
              "  }\n",
              "\n",
              "\n",
              "  function run_callbacks() {\n",
              "    try {\n",
              "      root._bokeh_onload_callbacks.forEach(function(callback) {\n",
              "        if (callback != null)\n",
              "          callback();\n",
              "      });\n",
              "    } finally {\n",
              "      delete root._bokeh_onload_callbacks\n",
              "    }\n",
              "    console.debug(\"Bokeh: all callbacks have finished\");\n",
              "  }\n",
              "\n",
              "  function load_libs(css_urls, js_urls, callback) {\n",
              "    if (css_urls == null) css_urls = [];\n",
              "    if (js_urls == null) js_urls = [];\n",
              "\n",
              "    root._bokeh_onload_callbacks.push(callback);\n",
              "    if (root._bokeh_is_loading > 0) {\n",
              "      console.debug(\"Bokeh: BokehJS is being loaded, scheduling callback at\", now());\n",
              "      return null;\n",
              "    }\n",
              "    if (js_urls == null || js_urls.length === 0) {\n",
              "      run_callbacks();\n",
              "      return null;\n",
              "    }\n",
              "    console.debug(\"Bokeh: BokehJS not loaded, scheduling load and callback at\", now());\n",
              "    root._bokeh_is_loading = css_urls.length + js_urls.length;\n",
              "\n",
              "    function on_load() {\n",
              "      root._bokeh_is_loading--;\n",
              "      if (root._bokeh_is_loading === 0) {\n",
              "        console.debug(\"Bokeh: all BokehJS libraries/stylesheets loaded\");\n",
              "        run_callbacks()\n",
              "      }\n",
              "    }\n",
              "\n",
              "    function on_error(url) {\n",
              "      console.error(\"failed to load \" + url);\n",
              "    }\n",
              "\n",
              "    for (let i = 0; i < css_urls.length; i++) {\n",
              "      const url = css_urls[i];\n",
              "      const element = document.createElement(\"link\");\n",
              "      element.onload = on_load;\n",
              "      element.onerror = on_error.bind(null, url);\n",
              "      element.rel = \"stylesheet\";\n",
              "      element.type = \"text/css\";\n",
              "      element.href = url;\n",
              "      console.debug(\"Bokeh: injecting link tag for BokehJS stylesheet: \", url);\n",
              "      document.body.appendChild(element);\n",
              "    }\n",
              "\n",
              "    const hashes = {\"https://cdn.bokeh.org/bokeh/release/bokeh-2.3.3.min.js\": \"dM3QQsP+wXdHg42wTqW85BjZQdLNNIXqlPw/BgKoExPmTG7ZLML4EGqLMfqHT6ON\", \"https://cdn.bokeh.org/bokeh/release/bokeh-tables-2.3.3.min.js\": \"8x57I4YuIfu8XyZfFo0XVr2WAT8EK4rh/uDe3wF7YuW2FNUSNEpJbsPaB1nJ2fz2\", \"https://cdn.bokeh.org/bokeh/release/bokeh-widgets-2.3.3.min.js\": \"3QTqdz9LyAm2i0sG5XTePsHec3UHWwVsrOL68SYRoAXsafvfAyqtQ+h440+qIBhS\"};\n",
              "\n",
              "    for (let i = 0; i < js_urls.length; i++) {\n",
              "      const url = js_urls[i];\n",
              "      const element = document.createElement('script');\n",
              "      element.onload = on_load;\n",
              "      element.onerror = on_error.bind(null, url);\n",
              "      element.async = false;\n",
              "      element.src = url;\n",
              "      if (url in hashes) {\n",
              "        element.crossOrigin = \"anonymous\";\n",
              "        element.integrity = \"sha384-\" + hashes[url];\n",
              "      }\n",
              "      console.debug(\"Bokeh: injecting script tag for BokehJS library: \", url);\n",
              "      document.head.appendChild(element);\n",
              "    }\n",
              "  };\n",
              "\n",
              "  function inject_raw_css(css) {\n",
              "    const element = document.createElement(\"style\");\n",
              "    element.appendChild(document.createTextNode(css));\n",
              "    document.body.appendChild(element);\n",
              "  }\n",
              "\n",
              "  \n",
              "  var js_urls = [\"https://cdn.bokeh.org/bokeh/release/bokeh-2.3.3.min.js\", \"https://cdn.bokeh.org/bokeh/release/bokeh-widgets-2.3.3.min.js\", \"https://cdn.bokeh.org/bokeh/release/bokeh-tables-2.3.3.min.js\"];\n",
              "  var css_urls = [];\n",
              "  \n",
              "\n",
              "  var inline_js = [\n",
              "    function(Bokeh) {\n",
              "      Bokeh.set_log_level(\"info\");\n",
              "    },\n",
              "    function(Bokeh) {\n",
              "    \n",
              "    \n",
              "    }\n",
              "  ];\n",
              "\n",
              "  function run_inline_js() {\n",
              "    \n",
              "    if (root.Bokeh !== undefined || force === true) {\n",
              "      \n",
              "    for (var i = 0; i < inline_js.length; i++) {\n",
              "      inline_js[i].call(root, root.Bokeh);\n",
              "    }\n",
              "    } else if (Date.now() < root._bokeh_timeout) {\n",
              "      setTimeout(run_inline_js, 100);\n",
              "    } else if (!root._bokeh_failed_load) {\n",
              "      console.log(\"Bokeh: BokehJS failed to load within specified timeout.\");\n",
              "      root._bokeh_failed_load = true;\n",
              "    } else if (force !== true) {\n",
              "      var cell = $(document.getElementById(null)).parents('.cell').data().cell;\n",
              "      cell.output_area.append_execute_result(NB_LOAD_WARNING)\n",
              "    }\n",
              "\n",
              "  }\n",
              "\n",
              "  if (root._bokeh_is_loading === 0) {\n",
              "    console.debug(\"Bokeh: BokehJS loaded, going straight to plotting\");\n",
              "    run_inline_js();\n",
              "  } else {\n",
              "    load_libs(css_urls, js_urls, function() {\n",
              "      console.debug(\"Bokeh: BokehJS plotting callback run at\", now());\n",
              "      run_inline_js();\n",
              "    });\n",
              "  }\n",
              "}(window));"
            ],
            "application/vnd.bokehjs_load.v0+json": "\n(function(root) {\n  function now() {\n    return new Date();\n  }\n\n  var force = true;\n\n  if (typeof root._bokeh_onload_callbacks === \"undefined\" || force === true) {\n    root._bokeh_onload_callbacks = [];\n    root._bokeh_is_loading = undefined;\n  }\n\n  \n\n  \n  if (typeof (root._bokeh_timeout) === \"undefined\" || force === true) {\n    root._bokeh_timeout = Date.now() + 5000;\n    root._bokeh_failed_load = false;\n  }\n\n  var NB_LOAD_WARNING = {'data': {'text/html':\n     \"<div style='background-color: #fdd'>\\n\"+\n     \"<p>\\n\"+\n     \"BokehJS does not appear to have successfully loaded. If loading BokehJS from CDN, this \\n\"+\n     \"may be due to a slow or bad network connection. Possible fixes:\\n\"+\n     \"</p>\\n\"+\n     \"<ul>\\n\"+\n     \"<li>re-rerun `output_notebook()` to attempt to load from CDN again, or</li>\\n\"+\n     \"<li>use INLINE resources instead, as so:</li>\\n\"+\n     \"</ul>\\n\"+\n     \"<code>\\n\"+\n     \"from bokeh.resources import INLINE\\n\"+\n     \"output_notebook(resources=INLINE)\\n\"+\n     \"</code>\\n\"+\n     \"</div>\"}};\n\n  function display_loaded() {\n    var el = document.getElementById(null);\n    if (el != null) {\n      el.textContent = \"BokehJS is loading...\";\n    }\n    if (root.Bokeh !== undefined) {\n      if (el != null) {\n        el.textContent = \"BokehJS \" + root.Bokeh.version + \" successfully loaded.\";\n      }\n    } else if (Date.now() < root._bokeh_timeout) {\n      setTimeout(display_loaded, 100)\n    }\n  }\n\n\n  function run_callbacks() {\n    try {\n      root._bokeh_onload_callbacks.forEach(function(callback) {\n        if (callback != null)\n          callback();\n      });\n    } finally {\n      delete root._bokeh_onload_callbacks\n    }\n    console.debug(\"Bokeh: all callbacks have finished\");\n  }\n\n  function load_libs(css_urls, js_urls, callback) {\n    if (css_urls == null) css_urls = [];\n    if (js_urls == null) js_urls = [];\n\n    root._bokeh_onload_callbacks.push(callback);\n    if (root._bokeh_is_loading > 0) {\n      console.debug(\"Bokeh: BokehJS is being loaded, scheduling callback at\", now());\n      return null;\n    }\n    if (js_urls == null || js_urls.length === 0) {\n      run_callbacks();\n      return null;\n    }\n    console.debug(\"Bokeh: BokehJS not loaded, scheduling load and callback at\", now());\n    root._bokeh_is_loading = css_urls.length + js_urls.length;\n\n    function on_load() {\n      root._bokeh_is_loading--;\n      if (root._bokeh_is_loading === 0) {\n        console.debug(\"Bokeh: all BokehJS libraries/stylesheets loaded\");\n        run_callbacks()\n      }\n    }\n\n    function on_error(url) {\n      console.error(\"failed to load \" + url);\n    }\n\n    for (let i = 0; i < css_urls.length; i++) {\n      const url = css_urls[i];\n      const element = document.createElement(\"link\");\n      element.onload = on_load;\n      element.onerror = on_error.bind(null, url);\n      element.rel = \"stylesheet\";\n      element.type = \"text/css\";\n      element.href = url;\n      console.debug(\"Bokeh: injecting link tag for BokehJS stylesheet: \", url);\n      document.body.appendChild(element);\n    }\n\n    const hashes = {\"https://cdn.bokeh.org/bokeh/release/bokeh-2.3.3.min.js\": \"dM3QQsP+wXdHg42wTqW85BjZQdLNNIXqlPw/BgKoExPmTG7ZLML4EGqLMfqHT6ON\", \"https://cdn.bokeh.org/bokeh/release/bokeh-tables-2.3.3.min.js\": \"8x57I4YuIfu8XyZfFo0XVr2WAT8EK4rh/uDe3wF7YuW2FNUSNEpJbsPaB1nJ2fz2\", \"https://cdn.bokeh.org/bokeh/release/bokeh-widgets-2.3.3.min.js\": \"3QTqdz9LyAm2i0sG5XTePsHec3UHWwVsrOL68SYRoAXsafvfAyqtQ+h440+qIBhS\"};\n\n    for (let i = 0; i < js_urls.length; i++) {\n      const url = js_urls[i];\n      const element = document.createElement('script');\n      element.onload = on_load;\n      element.onerror = on_error.bind(null, url);\n      element.async = false;\n      element.src = url;\n      if (url in hashes) {\n        element.crossOrigin = \"anonymous\";\n        element.integrity = \"sha384-\" + hashes[url];\n      }\n      console.debug(\"Bokeh: injecting script tag for BokehJS library: \", url);\n      document.head.appendChild(element);\n    }\n  };\n\n  function inject_raw_css(css) {\n    const element = document.createElement(\"style\");\n    element.appendChild(document.createTextNode(css));\n    document.body.appendChild(element);\n  }\n\n  \n  var js_urls = [\"https://cdn.bokeh.org/bokeh/release/bokeh-2.3.3.min.js\", \"https://cdn.bokeh.org/bokeh/release/bokeh-widgets-2.3.3.min.js\", \"https://cdn.bokeh.org/bokeh/release/bokeh-tables-2.3.3.min.js\"];\n  var css_urls = [];\n  \n\n  var inline_js = [\n    function(Bokeh) {\n      Bokeh.set_log_level(\"info\");\n    },\n    function(Bokeh) {\n    \n    \n    }\n  ];\n\n  function run_inline_js() {\n    \n    if (root.Bokeh !== undefined || force === true) {\n      \n    for (var i = 0; i < inline_js.length; i++) {\n      inline_js[i].call(root, root.Bokeh);\n    }\n    } else if (Date.now() < root._bokeh_timeout) {\n      setTimeout(run_inline_js, 100);\n    } else if (!root._bokeh_failed_load) {\n      console.log(\"Bokeh: BokehJS failed to load within specified timeout.\");\n      root._bokeh_failed_load = true;\n    } else if (force !== true) {\n      var cell = $(document.getElementById(null)).parents('.cell').data().cell;\n      cell.output_area.append_execute_result(NB_LOAD_WARNING)\n    }\n\n  }\n\n  if (root._bokeh_is_loading === 0) {\n    console.debug(\"Bokeh: BokehJS loaded, going straight to plotting\");\n    run_inline_js();\n  } else {\n    load_libs(css_urls, js_urls, function() {\n      console.debug(\"Bokeh: BokehJS plotting callback run at\", now());\n      run_inline_js();\n    });\n  }\n}(window));"
          },
          "metadata": {}
        },
        {
          "output_type": "display_data",
          "data": {
            "text/html": [
              "\n",
              "\n",
              "\n",
              "\n",
              "\n",
              "\n",
              "  <div class=\"bk-root\" id=\"6d19b380-ff1b-4ae7-aa27-2c72fc1a50c1\" data-root-id=\"1104\"></div>\n"
            ]
          },
          "metadata": {}
        },
        {
          "output_type": "display_data",
          "data": {
            "application/javascript": [
              "(function(root) {\n",
              "  function embed_document(root) {\n",
              "    \n",
              "  var docs_json = {\"cf144175-d675-4a34-82c0-5ddeda8f66fc\":{\"defs\":[],\"roots\":{\"references\":[{\"attributes\":{\"below\":[{\"id\":\"1113\"}],\"center\":[{\"id\":\"1116\"},{\"id\":\"1120\"}],\"height\":400,\"left\":[{\"id\":\"1117\"}],\"renderers\":[{\"id\":\"1138\"}],\"title\":{\"id\":\"1153\"},\"toolbar\":{\"id\":\"1128\"},\"width\":800,\"x_range\":{\"id\":\"1105\"},\"x_scale\":{\"id\":\"1109\"},\"y_range\":{\"id\":\"1107\"},\"y_scale\":{\"id\":\"1111\"}},\"id\":\"1104\",\"subtype\":\"Figure\",\"type\":\"Plot\"},{\"attributes\":{},\"id\":\"1159\",\"type\":\"AllLabels\"},{\"attributes\":{\"data_source\":{\"id\":\"1135\"},\"glyph\":{\"id\":\"1136\"},\"hover_glyph\":null,\"muted_glyph\":null,\"nonselection_glyph\":{\"id\":\"1137\"},\"view\":{\"id\":\"1139\"}},\"id\":\"1138\",\"type\":\"GlyphRenderer\"},{\"attributes\":{},\"id\":\"1158\",\"type\":\"BasicTickFormatter\"},{\"attributes\":{},\"id\":\"1156\",\"type\":\"AllLabels\"},{\"attributes\":{\"line_alpha\":0.1,\"line_color\":\"#1f77b4\",\"x\":{\"field\":\"x\"},\"y\":{\"field\":\"y\"}},\"id\":\"1137\",\"type\":\"Line\"},{\"attributes\":{\"callback\":null,\"tooltips\":[[\"x\",\"@x\"],[\"y\",\"@y\"]]},\"id\":\"1140\",\"type\":\"HoverTool\"},{\"attributes\":{\"source\":{\"id\":\"1135\"}},\"id\":\"1139\",\"type\":\"CDSView\"},{\"attributes\":{\"data\":{\"x\":[1,2,3,4,5,6],\"y\":[1,4,9,16,25,36]},\"selected\":{\"id\":\"1162\"},\"selection_policy\":{\"id\":\"1161\"}},\"id\":\"1135\",\"type\":\"ColumnDataSource\"},{\"attributes\":{},\"id\":\"1121\",\"type\":\"PanTool\"},{\"attributes\":{},\"id\":\"1122\",\"type\":\"WheelZoomTool\"},{\"attributes\":{},\"id\":\"1105\",\"type\":\"DataRange1d\"},{\"attributes\":{},\"id\":\"1155\",\"type\":\"BasicTickFormatter\"},{\"attributes\":{\"overlay\":{\"id\":\"1127\"}},\"id\":\"1123\",\"type\":\"BoxZoomTool\"},{\"attributes\":{},\"id\":\"1109\",\"type\":\"LinearScale\"},{\"attributes\":{},\"id\":\"1124\",\"type\":\"SaveTool\"},{\"attributes\":{},\"id\":\"1107\",\"type\":\"DataRange1d\"},{\"attributes\":{},\"id\":\"1125\",\"type\":\"ResetTool\"},{\"attributes\":{\"bottom_units\":\"screen\",\"fill_alpha\":0.5,\"fill_color\":\"lightgrey\",\"left_units\":\"screen\",\"level\":\"overlay\",\"line_alpha\":1.0,\"line_color\":\"black\",\"line_dash\":[4,4],\"line_width\":2,\"right_units\":\"screen\",\"syncable\":false,\"top_units\":\"screen\"},\"id\":\"1127\",\"type\":\"BoxAnnotation\"},{\"attributes\":{},\"id\":\"1126\",\"type\":\"HelpTool\"},{\"attributes\":{},\"id\":\"1111\",\"type\":\"LinearScale\"},{\"attributes\":{\"active_multi\":null,\"tools\":[{\"id\":\"1121\"},{\"id\":\"1122\"},{\"id\":\"1123\"},{\"id\":\"1124\"},{\"id\":\"1125\"},{\"id\":\"1126\"},{\"id\":\"1140\"}]},\"id\":\"1128\",\"type\":\"Toolbar\"},{\"attributes\":{\"formatter\":{\"id\":\"1158\"},\"major_label_policy\":{\"id\":\"1159\"},\"ticker\":{\"id\":\"1114\"}},\"id\":\"1113\",\"type\":\"LinearAxis\"},{\"attributes\":{\"line_color\":\"#1f77b4\",\"x\":{\"field\":\"x\"},\"y\":{\"field\":\"y\"}},\"id\":\"1136\",\"type\":\"Line\"},{\"attributes\":{},\"id\":\"1162\",\"type\":\"Selection\"},{\"attributes\":{},\"id\":\"1114\",\"type\":\"BasicTicker\"},{\"attributes\":{},\"id\":\"1118\",\"type\":\"BasicTicker\"},{\"attributes\":{\"axis\":{\"id\":\"1113\"},\"ticker\":null},\"id\":\"1116\",\"type\":\"Grid\"},{\"attributes\":{\"axis\":{\"id\":\"1117\"},\"dimension\":1,\"ticker\":null},\"id\":\"1120\",\"type\":\"Grid\"},{\"attributes\":{\"formatter\":{\"id\":\"1155\"},\"major_label_policy\":{\"id\":\"1156\"},\"ticker\":{\"id\":\"1118\"}},\"id\":\"1117\",\"type\":\"LinearAxis\"},{\"attributes\":{},\"id\":\"1161\",\"type\":\"UnionRenderers\"},{\"attributes\":{},\"id\":\"1153\",\"type\":\"Title\"}],\"root_ids\":[\"1104\"]},\"title\":\"Bokeh Application\",\"version\":\"2.3.3\"}};\n",
              "  var render_items = [{\"docid\":\"cf144175-d675-4a34-82c0-5ddeda8f66fc\",\"root_ids\":[\"1104\"],\"roots\":{\"1104\":\"6d19b380-ff1b-4ae7-aa27-2c72fc1a50c1\"}}];\n",
              "  root.Bokeh.embed.embed_items_notebook(docs_json, render_items);\n",
              "\n",
              "  }\n",
              "  if (root.Bokeh !== undefined) {\n",
              "    embed_document(root);\n",
              "  } else {\n",
              "    var attempts = 0;\n",
              "    var timer = setInterval(function(root) {\n",
              "      if (root.Bokeh !== undefined) {\n",
              "        clearInterval(timer);\n",
              "        embed_document(root);\n",
              "      } else {\n",
              "        attempts++;\n",
              "        if (attempts > 100) {\n",
              "          clearInterval(timer);\n",
              "          console.log(\"Bokeh: ERROR: Unable to run BokehJS code because BokehJS library is missing\");\n",
              "        }\n",
              "      }\n",
              "    }, 10, root)\n",
              "  }\n",
              "})(window);"
            ],
            "application/vnd.bokehjs_exec.v0+json": ""
          },
          "metadata": {
            "application/vnd.bokehjs_exec.v0+json": {
              "id": "1104"
            }
          }
        }
      ]
    },
    {
      "cell_type": "code",
      "source": [
        "# bokeh에 마우스 인터랙션을 포함하여 콜라츠 추축 반복 수를 시각화하였습니다.\n",
        "\n",
        "from bokeh.models import HoverTool\n",
        "\n",
        "fig = figure(plot_width=800, plot_height=400)\n",
        "fig.line(array1, array2)\n",
        "\n",
        "tooltips1 = [\n",
        "    ['입력된 수', '@x'],\n",
        "    ['반복 횟수', '@y']\n",
        "]\n",
        "\n",
        "fig.add_tools(HoverTool(tooltips=tooltips1))\n",
        "\n",
        "show(fig)"
      ],
      "metadata": {
        "colab": {
          "base_uri": "https://localhost:8080/",
          "height": 417
        },
        "id": "pB3R9LqKqPko",
        "outputId": "8f0d25e0-73da-4721-9781-b0c9072a45ab"
      },
      "execution_count": 61,
      "outputs": [
        {
          "output_type": "display_data",
          "data": {
            "application/javascript": [
              "\n",
              "(function(root) {\n",
              "  function now() {\n",
              "    return new Date();\n",
              "  }\n",
              "\n",
              "  var force = true;\n",
              "\n",
              "  if (typeof root._bokeh_onload_callbacks === \"undefined\" || force === true) {\n",
              "    root._bokeh_onload_callbacks = [];\n",
              "    root._bokeh_is_loading = undefined;\n",
              "  }\n",
              "\n",
              "  var JS_MIME_TYPE = 'application/javascript';\n",
              "  var HTML_MIME_TYPE = 'text/html';\n",
              "  var EXEC_MIME_TYPE = 'application/vnd.bokehjs_exec.v0+json';\n",
              "  var CLASS_NAME = 'output_bokeh rendered_html';\n",
              "\n",
              "  /**\n",
              "   * Render data to the DOM node\n",
              "   */\n",
              "  function render(props, node) {\n",
              "    var script = document.createElement(\"script\");\n",
              "    node.appendChild(script);\n",
              "  }\n",
              "\n",
              "  /**\n",
              "   * Handle when an output is cleared or removed\n",
              "   */\n",
              "  function handleClearOutput(event, handle) {\n",
              "    var cell = handle.cell;\n",
              "\n",
              "    var id = cell.output_area._bokeh_element_id;\n",
              "    var server_id = cell.output_area._bokeh_server_id;\n",
              "    // Clean up Bokeh references\n",
              "    if (id != null && id in Bokeh.index) {\n",
              "      Bokeh.index[id].model.document.clear();\n",
              "      delete Bokeh.index[id];\n",
              "    }\n",
              "\n",
              "    if (server_id !== undefined) {\n",
              "      // Clean up Bokeh references\n",
              "      var cmd = \"from bokeh.io.state import curstate; print(curstate().uuid_to_server['\" + server_id + \"'].get_sessions()[0].document.roots[0]._id)\";\n",
              "      cell.notebook.kernel.execute(cmd, {\n",
              "        iopub: {\n",
              "          output: function(msg) {\n",
              "            var id = msg.content.text.trim();\n",
              "            if (id in Bokeh.index) {\n",
              "              Bokeh.index[id].model.document.clear();\n",
              "              delete Bokeh.index[id];\n",
              "            }\n",
              "          }\n",
              "        }\n",
              "      });\n",
              "      // Destroy server and session\n",
              "      var cmd = \"import bokeh.io.notebook as ion; ion.destroy_server('\" + server_id + \"')\";\n",
              "      cell.notebook.kernel.execute(cmd);\n",
              "    }\n",
              "  }\n",
              "\n",
              "  /**\n",
              "   * Handle when a new output is added\n",
              "   */\n",
              "  function handleAddOutput(event, handle) {\n",
              "    var output_area = handle.output_area;\n",
              "    var output = handle.output;\n",
              "\n",
              "    // limit handleAddOutput to display_data with EXEC_MIME_TYPE content only\n",
              "    if ((output.output_type != \"display_data\") || (!Object.prototype.hasOwnProperty.call(output.data, EXEC_MIME_TYPE))) {\n",
              "      return\n",
              "    }\n",
              "\n",
              "    var toinsert = output_area.element.find(\".\" + CLASS_NAME.split(' ')[0]);\n",
              "\n",
              "    if (output.metadata[EXEC_MIME_TYPE][\"id\"] !== undefined) {\n",
              "      toinsert[toinsert.length - 1].firstChild.textContent = output.data[JS_MIME_TYPE];\n",
              "      // store reference to embed id on output_area\n",
              "      output_area._bokeh_element_id = output.metadata[EXEC_MIME_TYPE][\"id\"];\n",
              "    }\n",
              "    if (output.metadata[EXEC_MIME_TYPE][\"server_id\"] !== undefined) {\n",
              "      var bk_div = document.createElement(\"div\");\n",
              "      bk_div.innerHTML = output.data[HTML_MIME_TYPE];\n",
              "      var script_attrs = bk_div.children[0].attributes;\n",
              "      for (var i = 0; i < script_attrs.length; i++) {\n",
              "        toinsert[toinsert.length - 1].firstChild.setAttribute(script_attrs[i].name, script_attrs[i].value);\n",
              "        toinsert[toinsert.length - 1].firstChild.textContent = bk_div.children[0].textContent\n",
              "      }\n",
              "      // store reference to server id on output_area\n",
              "      output_area._bokeh_server_id = output.metadata[EXEC_MIME_TYPE][\"server_id\"];\n",
              "    }\n",
              "  }\n",
              "\n",
              "  function register_renderer(events, OutputArea) {\n",
              "\n",
              "    function append_mime(data, metadata, element) {\n",
              "      // create a DOM node to render to\n",
              "      var toinsert = this.create_output_subarea(\n",
              "        metadata,\n",
              "        CLASS_NAME,\n",
              "        EXEC_MIME_TYPE\n",
              "      );\n",
              "      this.keyboard_manager.register_events(toinsert);\n",
              "      // Render to node\n",
              "      var props = {data: data, metadata: metadata[EXEC_MIME_TYPE]};\n",
              "      render(props, toinsert[toinsert.length - 1]);\n",
              "      element.append(toinsert);\n",
              "      return toinsert\n",
              "    }\n",
              "\n",
              "    /* Handle when an output is cleared or removed */\n",
              "    events.on('clear_output.CodeCell', handleClearOutput);\n",
              "    events.on('delete.Cell', handleClearOutput);\n",
              "\n",
              "    /* Handle when a new output is added */\n",
              "    events.on('output_added.OutputArea', handleAddOutput);\n",
              "\n",
              "    /**\n",
              "     * Register the mime type and append_mime function with output_area\n",
              "     */\n",
              "    OutputArea.prototype.register_mime_type(EXEC_MIME_TYPE, append_mime, {\n",
              "      /* Is output safe? */\n",
              "      safe: true,\n",
              "      /* Index of renderer in `output_area.display_order` */\n",
              "      index: 0\n",
              "    });\n",
              "  }\n",
              "\n",
              "  // register the mime type if in Jupyter Notebook environment and previously unregistered\n",
              "  if (root.Jupyter !== undefined) {\n",
              "    var events = require('base/js/events');\n",
              "    var OutputArea = require('notebook/js/outputarea').OutputArea;\n",
              "\n",
              "    if (OutputArea.prototype.mime_types().indexOf(EXEC_MIME_TYPE) == -1) {\n",
              "      register_renderer(events, OutputArea);\n",
              "    }\n",
              "  }\n",
              "\n",
              "  \n",
              "  if (typeof (root._bokeh_timeout) === \"undefined\" || force === true) {\n",
              "    root._bokeh_timeout = Date.now() + 5000;\n",
              "    root._bokeh_failed_load = false;\n",
              "  }\n",
              "\n",
              "  var NB_LOAD_WARNING = {'data': {'text/html':\n",
              "     \"<div style='background-color: #fdd'>\\n\"+\n",
              "     \"<p>\\n\"+\n",
              "     \"BokehJS does not appear to have successfully loaded. If loading BokehJS from CDN, this \\n\"+\n",
              "     \"may be due to a slow or bad network connection. Possible fixes:\\n\"+\n",
              "     \"</p>\\n\"+\n",
              "     \"<ul>\\n\"+\n",
              "     \"<li>re-rerun `output_notebook()` to attempt to load from CDN again, or</li>\\n\"+\n",
              "     \"<li>use INLINE resources instead, as so:</li>\\n\"+\n",
              "     \"</ul>\\n\"+\n",
              "     \"<code>\\n\"+\n",
              "     \"from bokeh.resources import INLINE\\n\"+\n",
              "     \"output_notebook(resources=INLINE)\\n\"+\n",
              "     \"</code>\\n\"+\n",
              "     \"</div>\"}};\n",
              "\n",
              "  function display_loaded() {\n",
              "    var el = document.getElementById(null);\n",
              "    if (el != null) {\n",
              "      el.textContent = \"BokehJS is loading...\";\n",
              "    }\n",
              "    if (root.Bokeh !== undefined) {\n",
              "      if (el != null) {\n",
              "        el.textContent = \"BokehJS \" + root.Bokeh.version + \" successfully loaded.\";\n",
              "      }\n",
              "    } else if (Date.now() < root._bokeh_timeout) {\n",
              "      setTimeout(display_loaded, 100)\n",
              "    }\n",
              "  }\n",
              "\n",
              "\n",
              "  function run_callbacks() {\n",
              "    try {\n",
              "      root._bokeh_onload_callbacks.forEach(function(callback) {\n",
              "        if (callback != null)\n",
              "          callback();\n",
              "      });\n",
              "    } finally {\n",
              "      delete root._bokeh_onload_callbacks\n",
              "    }\n",
              "    console.debug(\"Bokeh: all callbacks have finished\");\n",
              "  }\n",
              "\n",
              "  function load_libs(css_urls, js_urls, callback) {\n",
              "    if (css_urls == null) css_urls = [];\n",
              "    if (js_urls == null) js_urls = [];\n",
              "\n",
              "    root._bokeh_onload_callbacks.push(callback);\n",
              "    if (root._bokeh_is_loading > 0) {\n",
              "      console.debug(\"Bokeh: BokehJS is being loaded, scheduling callback at\", now());\n",
              "      return null;\n",
              "    }\n",
              "    if (js_urls == null || js_urls.length === 0) {\n",
              "      run_callbacks();\n",
              "      return null;\n",
              "    }\n",
              "    console.debug(\"Bokeh: BokehJS not loaded, scheduling load and callback at\", now());\n",
              "    root._bokeh_is_loading = css_urls.length + js_urls.length;\n",
              "\n",
              "    function on_load() {\n",
              "      root._bokeh_is_loading--;\n",
              "      if (root._bokeh_is_loading === 0) {\n",
              "        console.debug(\"Bokeh: all BokehJS libraries/stylesheets loaded\");\n",
              "        run_callbacks()\n",
              "      }\n",
              "    }\n",
              "\n",
              "    function on_error(url) {\n",
              "      console.error(\"failed to load \" + url);\n",
              "    }\n",
              "\n",
              "    for (let i = 0; i < css_urls.length; i++) {\n",
              "      const url = css_urls[i];\n",
              "      const element = document.createElement(\"link\");\n",
              "      element.onload = on_load;\n",
              "      element.onerror = on_error.bind(null, url);\n",
              "      element.rel = \"stylesheet\";\n",
              "      element.type = \"text/css\";\n",
              "      element.href = url;\n",
              "      console.debug(\"Bokeh: injecting link tag for BokehJS stylesheet: \", url);\n",
              "      document.body.appendChild(element);\n",
              "    }\n",
              "\n",
              "    const hashes = {\"https://cdn.bokeh.org/bokeh/release/bokeh-2.3.3.min.js\": \"dM3QQsP+wXdHg42wTqW85BjZQdLNNIXqlPw/BgKoExPmTG7ZLML4EGqLMfqHT6ON\", \"https://cdn.bokeh.org/bokeh/release/bokeh-tables-2.3.3.min.js\": \"8x57I4YuIfu8XyZfFo0XVr2WAT8EK4rh/uDe3wF7YuW2FNUSNEpJbsPaB1nJ2fz2\", \"https://cdn.bokeh.org/bokeh/release/bokeh-widgets-2.3.3.min.js\": \"3QTqdz9LyAm2i0sG5XTePsHec3UHWwVsrOL68SYRoAXsafvfAyqtQ+h440+qIBhS\"};\n",
              "\n",
              "    for (let i = 0; i < js_urls.length; i++) {\n",
              "      const url = js_urls[i];\n",
              "      const element = document.createElement('script');\n",
              "      element.onload = on_load;\n",
              "      element.onerror = on_error.bind(null, url);\n",
              "      element.async = false;\n",
              "      element.src = url;\n",
              "      if (url in hashes) {\n",
              "        element.crossOrigin = \"anonymous\";\n",
              "        element.integrity = \"sha384-\" + hashes[url];\n",
              "      }\n",
              "      console.debug(\"Bokeh: injecting script tag for BokehJS library: \", url);\n",
              "      document.head.appendChild(element);\n",
              "    }\n",
              "  };\n",
              "\n",
              "  function inject_raw_css(css) {\n",
              "    const element = document.createElement(\"style\");\n",
              "    element.appendChild(document.createTextNode(css));\n",
              "    document.body.appendChild(element);\n",
              "  }\n",
              "\n",
              "  \n",
              "  var js_urls = [\"https://cdn.bokeh.org/bokeh/release/bokeh-2.3.3.min.js\", \"https://cdn.bokeh.org/bokeh/release/bokeh-widgets-2.3.3.min.js\", \"https://cdn.bokeh.org/bokeh/release/bokeh-tables-2.3.3.min.js\"];\n",
              "  var css_urls = [];\n",
              "  \n",
              "\n",
              "  var inline_js = [\n",
              "    function(Bokeh) {\n",
              "      Bokeh.set_log_level(\"info\");\n",
              "    },\n",
              "    function(Bokeh) {\n",
              "    \n",
              "    \n",
              "    }\n",
              "  ];\n",
              "\n",
              "  function run_inline_js() {\n",
              "    \n",
              "    if (root.Bokeh !== undefined || force === true) {\n",
              "      \n",
              "    for (var i = 0; i < inline_js.length; i++) {\n",
              "      inline_js[i].call(root, root.Bokeh);\n",
              "    }\n",
              "    } else if (Date.now() < root._bokeh_timeout) {\n",
              "      setTimeout(run_inline_js, 100);\n",
              "    } else if (!root._bokeh_failed_load) {\n",
              "      console.log(\"Bokeh: BokehJS failed to load within specified timeout.\");\n",
              "      root._bokeh_failed_load = true;\n",
              "    } else if (force !== true) {\n",
              "      var cell = $(document.getElementById(null)).parents('.cell').data().cell;\n",
              "      cell.output_area.append_execute_result(NB_LOAD_WARNING)\n",
              "    }\n",
              "\n",
              "  }\n",
              "\n",
              "  if (root._bokeh_is_loading === 0) {\n",
              "    console.debug(\"Bokeh: BokehJS loaded, going straight to plotting\");\n",
              "    run_inline_js();\n",
              "  } else {\n",
              "    load_libs(css_urls, js_urls, function() {\n",
              "      console.debug(\"Bokeh: BokehJS plotting callback run at\", now());\n",
              "      run_inline_js();\n",
              "    });\n",
              "  }\n",
              "}(window));"
            ],
            "application/vnd.bokehjs_load.v0+json": "\n(function(root) {\n  function now() {\n    return new Date();\n  }\n\n  var force = true;\n\n  if (typeof root._bokeh_onload_callbacks === \"undefined\" || force === true) {\n    root._bokeh_onload_callbacks = [];\n    root._bokeh_is_loading = undefined;\n  }\n\n  \n\n  \n  if (typeof (root._bokeh_timeout) === \"undefined\" || force === true) {\n    root._bokeh_timeout = Date.now() + 5000;\n    root._bokeh_failed_load = false;\n  }\n\n  var NB_LOAD_WARNING = {'data': {'text/html':\n     \"<div style='background-color: #fdd'>\\n\"+\n     \"<p>\\n\"+\n     \"BokehJS does not appear to have successfully loaded. If loading BokehJS from CDN, this \\n\"+\n     \"may be due to a slow or bad network connection. Possible fixes:\\n\"+\n     \"</p>\\n\"+\n     \"<ul>\\n\"+\n     \"<li>re-rerun `output_notebook()` to attempt to load from CDN again, or</li>\\n\"+\n     \"<li>use INLINE resources instead, as so:</li>\\n\"+\n     \"</ul>\\n\"+\n     \"<code>\\n\"+\n     \"from bokeh.resources import INLINE\\n\"+\n     \"output_notebook(resources=INLINE)\\n\"+\n     \"</code>\\n\"+\n     \"</div>\"}};\n\n  function display_loaded() {\n    var el = document.getElementById(null);\n    if (el != null) {\n      el.textContent = \"BokehJS is loading...\";\n    }\n    if (root.Bokeh !== undefined) {\n      if (el != null) {\n        el.textContent = \"BokehJS \" + root.Bokeh.version + \" successfully loaded.\";\n      }\n    } else if (Date.now() < root._bokeh_timeout) {\n      setTimeout(display_loaded, 100)\n    }\n  }\n\n\n  function run_callbacks() {\n    try {\n      root._bokeh_onload_callbacks.forEach(function(callback) {\n        if (callback != null)\n          callback();\n      });\n    } finally {\n      delete root._bokeh_onload_callbacks\n    }\n    console.debug(\"Bokeh: all callbacks have finished\");\n  }\n\n  function load_libs(css_urls, js_urls, callback) {\n    if (css_urls == null) css_urls = [];\n    if (js_urls == null) js_urls = [];\n\n    root._bokeh_onload_callbacks.push(callback);\n    if (root._bokeh_is_loading > 0) {\n      console.debug(\"Bokeh: BokehJS is being loaded, scheduling callback at\", now());\n      return null;\n    }\n    if (js_urls == null || js_urls.length === 0) {\n      run_callbacks();\n      return null;\n    }\n    console.debug(\"Bokeh: BokehJS not loaded, scheduling load and callback at\", now());\n    root._bokeh_is_loading = css_urls.length + js_urls.length;\n\n    function on_load() {\n      root._bokeh_is_loading--;\n      if (root._bokeh_is_loading === 0) {\n        console.debug(\"Bokeh: all BokehJS libraries/stylesheets loaded\");\n        run_callbacks()\n      }\n    }\n\n    function on_error(url) {\n      console.error(\"failed to load \" + url);\n    }\n\n    for (let i = 0; i < css_urls.length; i++) {\n      const url = css_urls[i];\n      const element = document.createElement(\"link\");\n      element.onload = on_load;\n      element.onerror = on_error.bind(null, url);\n      element.rel = \"stylesheet\";\n      element.type = \"text/css\";\n      element.href = url;\n      console.debug(\"Bokeh: injecting link tag for BokehJS stylesheet: \", url);\n      document.body.appendChild(element);\n    }\n\n    const hashes = {\"https://cdn.bokeh.org/bokeh/release/bokeh-2.3.3.min.js\": \"dM3QQsP+wXdHg42wTqW85BjZQdLNNIXqlPw/BgKoExPmTG7ZLML4EGqLMfqHT6ON\", \"https://cdn.bokeh.org/bokeh/release/bokeh-tables-2.3.3.min.js\": \"8x57I4YuIfu8XyZfFo0XVr2WAT8EK4rh/uDe3wF7YuW2FNUSNEpJbsPaB1nJ2fz2\", \"https://cdn.bokeh.org/bokeh/release/bokeh-widgets-2.3.3.min.js\": \"3QTqdz9LyAm2i0sG5XTePsHec3UHWwVsrOL68SYRoAXsafvfAyqtQ+h440+qIBhS\"};\n\n    for (let i = 0; i < js_urls.length; i++) {\n      const url = js_urls[i];\n      const element = document.createElement('script');\n      element.onload = on_load;\n      element.onerror = on_error.bind(null, url);\n      element.async = false;\n      element.src = url;\n      if (url in hashes) {\n        element.crossOrigin = \"anonymous\";\n        element.integrity = \"sha384-\" + hashes[url];\n      }\n      console.debug(\"Bokeh: injecting script tag for BokehJS library: \", url);\n      document.head.appendChild(element);\n    }\n  };\n\n  function inject_raw_css(css) {\n    const element = document.createElement(\"style\");\n    element.appendChild(document.createTextNode(css));\n    document.body.appendChild(element);\n  }\n\n  \n  var js_urls = [\"https://cdn.bokeh.org/bokeh/release/bokeh-2.3.3.min.js\", \"https://cdn.bokeh.org/bokeh/release/bokeh-widgets-2.3.3.min.js\", \"https://cdn.bokeh.org/bokeh/release/bokeh-tables-2.3.3.min.js\"];\n  var css_urls = [];\n  \n\n  var inline_js = [\n    function(Bokeh) {\n      Bokeh.set_log_level(\"info\");\n    },\n    function(Bokeh) {\n    \n    \n    }\n  ];\n\n  function run_inline_js() {\n    \n    if (root.Bokeh !== undefined || force === true) {\n      \n    for (var i = 0; i < inline_js.length; i++) {\n      inline_js[i].call(root, root.Bokeh);\n    }\n    } else if (Date.now() < root._bokeh_timeout) {\n      setTimeout(run_inline_js, 100);\n    } else if (!root._bokeh_failed_load) {\n      console.log(\"Bokeh: BokehJS failed to load within specified timeout.\");\n      root._bokeh_failed_load = true;\n    } else if (force !== true) {\n      var cell = $(document.getElementById(null)).parents('.cell').data().cell;\n      cell.output_area.append_execute_result(NB_LOAD_WARNING)\n    }\n\n  }\n\n  if (root._bokeh_is_loading === 0) {\n    console.debug(\"Bokeh: BokehJS loaded, going straight to plotting\");\n    run_inline_js();\n  } else {\n    load_libs(css_urls, js_urls, function() {\n      console.debug(\"Bokeh: BokehJS plotting callback run at\", now());\n      run_inline_js();\n    });\n  }\n}(window));"
          },
          "metadata": {}
        },
        {
          "output_type": "display_data",
          "data": {
            "text/html": [
              "\n",
              "\n",
              "\n",
              "\n",
              "\n",
              "\n",
              "  <div class=\"bk-root\" id=\"e8f4e3df-47d1-44d8-ab38-f1fb9a624392\" data-root-id=\"1219\"></div>\n"
            ]
          },
          "metadata": {}
        },
        {
          "output_type": "display_data",
          "data": {
            "application/javascript": [
              "(function(root) {\n",
              "  function embed_document(root) {\n",
              "    \n",
              "  var docs_json = {\"a33592da-45d9-42d7-8418-331610985cf5\":{\"defs\":[],\"roots\":{\"references\":[{\"attributes\":{\"below\":[{\"id\":\"1228\"}],\"center\":[{\"id\":\"1231\"},{\"id\":\"1235\"}],\"height\":400,\"left\":[{\"id\":\"1232\"}],\"renderers\":[{\"id\":\"1253\"}],\"title\":{\"id\":\"1279\"},\"toolbar\":{\"id\":\"1243\"},\"width\":800,\"x_range\":{\"id\":\"1220\"},\"x_scale\":{\"id\":\"1224\"},\"y_range\":{\"id\":\"1222\"},\"y_scale\":{\"id\":\"1226\"}},\"id\":\"1219\",\"subtype\":\"Figure\",\"type\":\"Plot\"},{\"attributes\":{\"callback\":null,\"tooltips\":[[\"\\uc785\\ub825\\ub41c \\uc218\",\"@x\"],[\"\\ubc18\\ubcf5 \\ud69f\\uc218\",\"@y\"]]},\"id\":\"1255\",\"type\":\"HoverTool\"},{\"attributes\":{},\"id\":\"1285\",\"type\":\"AllLabels\"},{\"attributes\":{\"active_multi\":null,\"tools\":[{\"id\":\"1236\"},{\"id\":\"1237\"},{\"id\":\"1238\"},{\"id\":\"1239\"},{\"id\":\"1240\"},{\"id\":\"1241\"},{\"id\":\"1255\"}]},\"id\":\"1243\",\"type\":\"Toolbar\"},{\"attributes\":{\"axis\":{\"id\":\"1232\"},\"dimension\":1,\"ticker\":null},\"id\":\"1235\",\"type\":\"Grid\"},{\"attributes\":{},\"id\":\"1222\",\"type\":\"DataRange1d\"},{\"attributes\":{},\"id\":\"1287\",\"type\":\"UnionRenderers\"},{\"attributes\":{\"bottom_units\":\"screen\",\"fill_alpha\":0.5,\"fill_color\":\"lightgrey\",\"left_units\":\"screen\",\"level\":\"overlay\",\"line_alpha\":1.0,\"line_color\":\"black\",\"line_dash\":[4,4],\"line_width\":2,\"right_units\":\"screen\",\"syncable\":false,\"top_units\":\"screen\"},\"id\":\"1242\",\"type\":\"BoxAnnotation\"},{\"attributes\":{\"overlay\":{\"id\":\"1242\"}},\"id\":\"1238\",\"type\":\"BoxZoomTool\"},{\"attributes\":{},\"id\":\"1236\",\"type\":\"PanTool\"},{\"attributes\":{},\"id\":\"1237\",\"type\":\"WheelZoomTool\"},{\"attributes\":{},\"id\":\"1233\",\"type\":\"BasicTicker\"},{\"attributes\":{},\"id\":\"1229\",\"type\":\"BasicTicker\"},{\"attributes\":{\"formatter\":{\"id\":\"1281\"},\"major_label_policy\":{\"id\":\"1282\"},\"ticker\":{\"id\":\"1233\"}},\"id\":\"1232\",\"type\":\"LinearAxis\"},{\"attributes\":{},\"id\":\"1239\",\"type\":\"SaveTool\"},{\"attributes\":{},\"id\":\"1220\",\"type\":\"DataRange1d\"},{\"attributes\":{},\"id\":\"1240\",\"type\":\"ResetTool\"},{\"attributes\":{\"source\":{\"id\":\"1250\"}},\"id\":\"1254\",\"type\":\"CDSView\"},{\"attributes\":{\"data_source\":{\"id\":\"1250\"},\"glyph\":{\"id\":\"1251\"},\"hover_glyph\":null,\"muted_glyph\":null,\"nonselection_glyph\":{\"id\":\"1252\"},\"view\":{\"id\":\"1254\"}},\"id\":\"1253\",\"type\":\"GlyphRenderer\"},{\"attributes\":{},\"id\":\"1224\",\"type\":\"LinearScale\"},{\"attributes\":{},\"id\":\"1241\",\"type\":\"HelpTool\"},{\"attributes\":{\"axis\":{\"id\":\"1228\"},\"ticker\":null},\"id\":\"1231\",\"type\":\"Grid\"},{\"attributes\":{},\"id\":\"1281\",\"type\":\"BasicTickFormatter\"},{\"attributes\":{},\"id\":\"1288\",\"type\":\"Selection\"},{\"attributes\":{},\"id\":\"1279\",\"type\":\"Title\"},{\"attributes\":{\"formatter\":{\"id\":\"1284\"},\"major_label_policy\":{\"id\":\"1285\"},\"ticker\":{\"id\":\"1229\"}},\"id\":\"1228\",\"type\":\"LinearAxis\"},{\"attributes\":{},\"id\":\"1282\",\"type\":\"AllLabels\"},{\"attributes\":{},\"id\":\"1284\",\"type\":\"BasicTickFormatter\"},{\"attributes\":{},\"id\":\"1226\",\"type\":\"LinearScale\"},{\"attributes\":{\"data\":{\"x\":[1,2,3,4,5,6,7,8,9,10,11,12,13,14,15,16,17,18,19,20,21,22,23,24,25,26,27,28,29,30,31,32,33,34,35,36,37,38,39,40,41,42,43,44,45,46,47,48,49,50,51,52,53,54,55,56,57,58,59,60,61,62,63,64,65,66,67,68,69,70,71,72,73,74,75,76,77,78,79,80,81,82,83,84,85,86,87,88,89,90,91,92,93,94,95,96,97,98,99,100,101,102,103,104,105,106,107,108,109,110,111,112,113,114,115,116,117,118,119,120,121,122,123,124,125,126,127,128,129,130,131,132,133,134,135,136,137,138,139,140,141,142,143,144,145,146,147,148,149,150,151,152,153,154,155,156,157,158,159,160,161,162,163,164,165,166,167,168,169,170,171,172,173,174,175,176,177,178,179,180,181,182,183,184,185,186,187,188,189,190,191,192,193,194,195,196,197,198,199,200,201,202,203,204,205,206,207,208,209,210,211,212,213,214,215,216,217,218,219,220,221,222,223,224,225,226,227,228,229,230,231,232,233,234,235,236,237,238,239,240,241,242,243,244,245,246,247,248,249,250,251,252,253,254,255,256,257,258,259,260,261,262,263,264,265,266,267,268,269,270,271,272,273,274,275,276,277,278,279,280,281,282,283,284,285,286,287,288,289,290,291,292,293,294,295,296,297,298,299,300,301,302,303,304,305,306,307,308,309,310,311,312,313,314,315,316,317,318,319,320,321,322,323,324,325,326,327,328,329,330,331,332,333,334,335,336,337,338,339,340,341,342,343,344,345,346,347,348,349,350,351,352,353,354,355,356,357,358,359,360,361,362,363,364,365,366,367,368,369,370,371,372,373,374,375,376,377,378,379,380,381,382,383,384,385,386,387,388,389,390,391,392,393,394,395,396,397,398,399,400,401,402,403,404,405,406,407,408,409,410,411,412,413,414,415,416,417,418,419,420,421,422,423,424,425,426,427,428,429,430,431,432,433,434,435,436,437,438,439,440,441,442,443,444,445,446,447,448,449,450,451,452,453,454,455,456,457,458,459,460,461,462,463,464,465,466,467,468,469,470,471,472,473,474,475,476,477,478,479,480,481,482,483,484,485,486,487,488,489,490,491,492,493,494,495,496,497,498,499,500,501,502,503,504,505,506,507,508,509,510,511,512,513,514,515,516,517,518,519,520,521,522,523,524,525,526,527,528,529,530,531,532,533,534,535,536,537,538,539,540,541,542,543,544,545,546,547,548,549,550,551,552,553,554,555,556,557,558,559,560,561,562,563,564,565,566,567,568,569,570,571,572,573,574,575,576,577,578,579,580,581,582,583,584,585,586,587,588,589,590,591,592,593,594,595,596,597,598,599,600,601,602,603,604,605,606,607,608,609,610,611,612,613,614,615,616,617,618,619,620,621,622,623,624,625,626,627,628,629,630,631,632,633,634,635,636,637,638,639,640,641,642,643,644,645,646,647,648,649,650,651,652,653,654,655,656,657,658,659,660,661,662,663,664,665,666,667,668,669,670,671,672,673,674,675,676,677,678,679,680,681,682,683,684,685,686,687,688,689,690,691,692,693,694,695,696,697,698,699,700,701,702,703,704,705,706,707,708,709,710,711,712,713,714,715,716,717,718,719,720,721,722,723,724,725,726,727,728,729,730,731,732,733,734,735,736,737,738,739,740,741,742,743,744,745,746,747,748,749,750,751,752,753,754,755,756,757,758,759,760,761,762,763,764,765,766,767,768,769,770,771,772,773,774,775,776,777,778,779,780,781,782,783,784,785,786,787,788,789,790,791,792,793,794,795,796,797,798,799,800,801,802,803,804,805,806,807,808,809,810,811,812,813,814,815,816,817,818,819,820,821,822,823,824,825,826,827,828,829,830,831,832,833,834,835,836,837,838,839,840,841,842,843,844,845,846,847,848,849,850,851,852,853,854,855,856,857,858,859,860,861,862,863,864,865,866,867,868,869,870,871,872,873,874,875,876,877,878,879,880,881,882,883,884,885,886,887,888,889,890,891,892,893,894,895,896,897,898,899,900,901,902,903,904,905,906,907,908,909,910,911,912,913,914,915,916,917,918,919,920,921,922,923,924,925,926,927,928,929,930,931,932,933,934,935,936,937,938,939,940,941,942,943,944,945,946,947,948,949,950,951,952,953,954,955,956,957,958,959,960,961,962,963,964,965,966,967,968,969,970,971,972,973,974,975,976,977,978,979,980,981,982,983,984,985,986,987,988,989,990,991,992,993,994,995,996,997,998,999],\"y\":[1,2,8,3,6,9,17,4,20,7,15,10,10,18,18,5,13,21,21,8,8,16,16,11,24,11,112,19,19,19,107,6,27,14,14,22,22,22,35,9,110,9,30,17,17,17,105,12,25,25,25,12,12,113,113,20,33,20,33,20,20,108,108,7,28,28,28,15,15,15,103,23,116,23,15,23,23,36,36,10,23,111,111,10,10,31,31,18,31,18,93,18,18,106,106,13,119,26,26,26,26,26,88,13,39,13,101,114,114,114,70,21,13,34,34,21,21,34,34,21,96,21,47,109,109,109,47,8,122,29,29,29,29,29,42,16,91,16,42,16,16,104,104,24,117,117,117,24,24,16,16,24,37,24,86,37,37,37,55,11,99,24,24,112,112,112,68,11,50,11,125,32,32,32,81,19,32,32,32,19,19,94,94,19,45,19,45,107,107,107,45,14,120,120,120,27,27,27,120,27,19,27,40,27,27,89,89,14,40,40,40,14,14,102,102,115,27,115,53,115,115,71,71,22,53,14,14,35,35,35,128,22,84,22,128,35,35,35,53,22,22,97,97,22,22,48,48,110,48,110,66,110,110,48,48,9,123,123,123,30,30,30,79,30,123,30,22,30,30,43,43,17,30,92,92,17,17,43,43,17,43,17,61,105,105,105,43,25,30,118,118,118,118,118,56,25,74,25,118,17,17,17,43,25,38,38,38,25,25,87,87,38,131,38,38,38,38,56,56,12,25,100,100,25,25,25,144,113,51,113,25,113,113,69,69,12,113,51,51,12,12,126,126,33,126,33,126,33,33,82,82,20,126,33,33,33,33,33,51,20,46,20,46,95,95,95,46,20,20,46,46,20,20,46,46,108,64,108,59,108,108,46,46,15,33,121,121,121,121,121,121,28,59,28,77,28,28,121,121,28,20,20,20,28,28,41,41,28,41,28,134,90,90,90,134,15,134,41,41,41,41,41,33,15,59,15,54,103,103,103,41,116,28,28,28,116,116,54,54,116,28,116,54,72,72,72,98,23,116,54,54,15,15,15,41,36,129,36,129,36,36,129,129,23,36,85,85,23,23,129,129,36,36,36,28,36,36,54,54,23,49,23,23,98,98,98,142,23,49,23,142,49,49,49,98,111,23,49,49,111,111,67,67,111,62,111,36,49,49,49,62,10,36,124,124,124,124,124,62,31,124,31,124,31,31,80,80,31,31,124,124,31,31,23,23,31,23,31,49,44,44,44,137,18,44,31,31,93,93,93,44,18,137,18,31,44,44,44,88,18,44,44,44,18,18,62,62,106,57,106,31,106,106,44,44,26,31,31,31,119,119,119,31,119,57,119,119,119,119,57,57,26,75,75,75,26,26,119,119,18,57,18,70,18,18,44,44,26,132,39,39,39,39,39,70,26,132,26,132,88,88,88,132,39,26,132,132,39,39,39,39,39,31,39,31,57,57,57,132,13,52,26,26,101,101,101,39,26,145,26,101,26,26,145,145,114,52,52,52,114,114,26,26,114,52,114,145,70,70,70,96,13,65,114,114,52,52,52,65,13,65,13,39,127,127,127,39,34,127,127,127,34,34,127,127,34,127,34,65,83,83,83,171,21,34,127,127,34,34,34,65,34,26,34,26,34,34,52,52,21,47,47,47,21,21,47,47,96,34,96,140,96,96,47,47,21,140,21,21,47,47,47,96,21,91,21,47,47,47,47,140,109,21,65,65,109,109,60,60,109,34,109,153,47,47,47,60,16,34,34,34,122,122,122,153,122,34,122,60,122,122,122,122,29,122,60,60,29,29,78,78,29,78,29,104,122,122,122,73,29,60,21,21,21,21,21,73,29,47,29,135,42,42,42,135,29,42,42,42,29,29,135,135,91,135,91,42,91,91,135,135,16,29,135,135,42,42,42,86,42,42,42,42,42,42,34,34,16,60,60,60,16,16,55,55,104,29,104,148,104,104,42,42,117,148,29,29,29,29,29,179,117,148,117,29,55,55,55,148,117,117,29,29,117,117,55,55,73,148,73,47,73,73,99,99,24,68,117,117,55,55,55,117,16,68,16,55,16,16,42,42,37,130,130,130,37,37,130,130,37,130,37,68,130,130,130,117,24,130,37,37,86,86,86,130,24,174,24,86,130,130,130,37,37,37,37,37,37,37,29,29,37,29,37,29,55,55,55,130,24,50,50,50,24,24,24,143,99,50,99,37,99,99,143,143,24,99,50,50,24,24,143,143,50,24,50,37,50,50,99,99,112,94,24,24,50,50,50,50]},\"selected\":{\"id\":\"1288\"},\"selection_policy\":{\"id\":\"1287\"}},\"id\":\"1250\",\"type\":\"ColumnDataSource\"},{\"attributes\":{\"line_alpha\":0.1,\"line_color\":\"#1f77b4\",\"x\":{\"field\":\"x\"},\"y\":{\"field\":\"y\"}},\"id\":\"1252\",\"type\":\"Line\"},{\"attributes\":{\"line_color\":\"#1f77b4\",\"x\":{\"field\":\"x\"},\"y\":{\"field\":\"y\"}},\"id\":\"1251\",\"type\":\"Line\"}],\"root_ids\":[\"1219\"]},\"title\":\"Bokeh Application\",\"version\":\"2.3.3\"}};\n",
              "  var render_items = [{\"docid\":\"a33592da-45d9-42d7-8418-331610985cf5\",\"root_ids\":[\"1219\"],\"roots\":{\"1219\":\"e8f4e3df-47d1-44d8-ab38-f1fb9a624392\"}}];\n",
              "  root.Bokeh.embed.embed_items_notebook(docs_json, render_items);\n",
              "\n",
              "  }\n",
              "  if (root.Bokeh !== undefined) {\n",
              "    embed_document(root);\n",
              "  } else {\n",
              "    var attempts = 0;\n",
              "    var timer = setInterval(function(root) {\n",
              "      if (root.Bokeh !== undefined) {\n",
              "        clearInterval(timer);\n",
              "        embed_document(root);\n",
              "      } else {\n",
              "        attempts++;\n",
              "        if (attempts > 100) {\n",
              "          clearInterval(timer);\n",
              "          console.log(\"Bokeh: ERROR: Unable to run BokehJS code because BokehJS library is missing\");\n",
              "        }\n",
              "      }\n",
              "    }, 10, root)\n",
              "  }\n",
              "})(window);"
            ],
            "application/vnd.bokehjs_exec.v0+json": ""
          },
          "metadata": {
            "application/vnd.bokehjs_exec.v0+json": {
              "id": "1219"
            }
          }
        }
      ]
    },
    {
      "cell_type": "markdown",
      "source": [
        "#### f. 기상 자료 시각화\n",
        "\n",
        "기상 자료를 시각화하기 위해서는 우선 시각화할 기상 자료를 준비해야 합니다. 시간 관계상 기상 자료를 가져오는 부가적인 작업을 피하기 위해 `mkhwgen` 파이썬 패키지를 이용해 보도록 하겠습니다. `mkhwgen` 패키지는 온난화대응농업연구소 문경환 박사님이 개발한 Weather Generation 알고리즘을 주식회사 에피넷에서 [파이썬 패키지 저장소](https://pypi.org/)에 게시한 것입니다."
      ],
      "metadata": {
        "id": "NuNXcKs5CKu7"
      }
    },
    {
      "cell_type": "code",
      "source": [
        "# Colab에 기본적으로 설치되어 있지 않은 패키지는 아래와 같이 수동으로 설치해 주서야 합니다.\n",
        "# mkhwgen를 설치합니다.\n",
        "\n",
        "! pip install mkhwgen"
      ],
      "metadata": {
        "colab": {
          "base_uri": "https://localhost:8080/"
        },
        "id": "39vwAeFuri_s",
        "outputId": "f6748475-fbbc-4a12-9031-8e16a84f6236"
      },
      "execution_count": 62,
      "outputs": [
        {
          "output_type": "stream",
          "name": "stdout",
          "text": [
            "Looking in indexes: https://pypi.org/simple, https://us-python.pkg.dev/colab-wheels/public/simple/\n",
            "Requirement already satisfied: mkhwgen in /usr/local/lib/python3.7/dist-packages (0.0.8)\n",
            "Requirement already satisfied: numpy in /usr/local/lib/python3.7/dist-packages (from mkhwgen) (1.21.6)\n",
            "Requirement already satisfied: pandas in /usr/local/lib/python3.7/dist-packages (from mkhwgen) (1.3.5)\n",
            "Requirement already satisfied: python-dateutil in /usr/local/lib/python3.7/dist-packages (from mkhwgen) (2.8.2)\n",
            "Requirement already satisfied: pytz>=2017.3 in /usr/local/lib/python3.7/dist-packages (from pandas->mkhwgen) (2022.2.1)\n",
            "Requirement already satisfied: six>=1.5 in /usr/local/lib/python3.7/dist-packages (from python-dateutil->mkhwgen) (1.15.0)\n"
          ]
        }
      ]
    },
    {
      "cell_type": "code",
      "source": [
        "import mkhwgen"
      ],
      "metadata": {
        "id": "JGpMM3KsQxZa"
      },
      "execution_count": 63,
      "outputs": []
    },
    {
      "cell_type": "code",
      "source": [
        "# 월별 자료를 기상으로 생성합니다.\n",
        "\n",
        "monthly_tmin = [0,2,4,8,16,32,16,8,4,2,1,0]\n",
        "monthly_tmax = [2,4,6,10,18,34,18,10,6,4,3,1]\n",
        "monthly_rain = [1,1,2,2,3,3,4,3,2,1,1,1]"
      ],
      "metadata": {
        "id": "L13VrrCUTF8j"
      },
      "execution_count": 64,
      "outputs": []
    },
    {
      "cell_type": "code",
      "source": [
        "# 일별 자료를 생성합니다.\n",
        "\n",
        "daily_weather = mkhwgen.generate(\n",
        "    2020, \n",
        "    1, \n",
        "    monthly_tmin=monthly_tmin, \n",
        "    monthly_tmax=monthly_tmax, \n",
        "    monthly_rain=monthly_rain,\n",
        ")\n",
        "\n",
        "daily_weather"
      ],
      "metadata": {
        "colab": {
          "base_uri": "https://localhost:8080/",
          "height": 424
        },
        "id": "ZBPgR0oisHYh",
        "outputId": "4528ff86-0894-410c-911c-40c508898dfb"
      },
      "execution_count": 65,
      "outputs": [
        {
          "output_type": "execute_result",
          "data": {
            "text/plain": [
              "     repeat_index  day_of_year      tmin      tmax  rain\n",
              "0               1            1  6.006452  2.948387   0.0\n",
              "1               1            2  1.306452  2.848387   0.0\n",
              "2               1            3  0.206452  3.048387   0.0\n",
              "3               1            4 -1.193548  0.748387   0.0\n",
              "4               1            5 -4.693548 -0.251613   0.0\n",
              "..            ...          ...       ...       ...   ...\n",
              "361             1          362 -1.412903  4.832258   0.0\n",
              "362             1          363 -1.612903  4.932258   0.0\n",
              "363             1          364 -0.612903  2.932258   0.0\n",
              "364             1          365  0.787097  0.732258   0.0\n",
              "365             1          366  2.387097 -1.967742   0.0\n",
              "\n",
              "[366 rows x 5 columns]"
            ],
            "text/html": [
              "\n",
              "  <div id=\"df-60bb8466-8a58-4080-94c2-8e6ae9273a2a\">\n",
              "    <div class=\"colab-df-container\">\n",
              "      <div>\n",
              "<style scoped>\n",
              "    .dataframe tbody tr th:only-of-type {\n",
              "        vertical-align: middle;\n",
              "    }\n",
              "\n",
              "    .dataframe tbody tr th {\n",
              "        vertical-align: top;\n",
              "    }\n",
              "\n",
              "    .dataframe thead th {\n",
              "        text-align: right;\n",
              "    }\n",
              "</style>\n",
              "<table border=\"1\" class=\"dataframe\">\n",
              "  <thead>\n",
              "    <tr style=\"text-align: right;\">\n",
              "      <th></th>\n",
              "      <th>repeat_index</th>\n",
              "      <th>day_of_year</th>\n",
              "      <th>tmin</th>\n",
              "      <th>tmax</th>\n",
              "      <th>rain</th>\n",
              "    </tr>\n",
              "  </thead>\n",
              "  <tbody>\n",
              "    <tr>\n",
              "      <th>0</th>\n",
              "      <td>1</td>\n",
              "      <td>1</td>\n",
              "      <td>6.006452</td>\n",
              "      <td>2.948387</td>\n",
              "      <td>0.0</td>\n",
              "    </tr>\n",
              "    <tr>\n",
              "      <th>1</th>\n",
              "      <td>1</td>\n",
              "      <td>2</td>\n",
              "      <td>1.306452</td>\n",
              "      <td>2.848387</td>\n",
              "      <td>0.0</td>\n",
              "    </tr>\n",
              "    <tr>\n",
              "      <th>2</th>\n",
              "      <td>1</td>\n",
              "      <td>3</td>\n",
              "      <td>0.206452</td>\n",
              "      <td>3.048387</td>\n",
              "      <td>0.0</td>\n",
              "    </tr>\n",
              "    <tr>\n",
              "      <th>3</th>\n",
              "      <td>1</td>\n",
              "      <td>4</td>\n",
              "      <td>-1.193548</td>\n",
              "      <td>0.748387</td>\n",
              "      <td>0.0</td>\n",
              "    </tr>\n",
              "    <tr>\n",
              "      <th>4</th>\n",
              "      <td>1</td>\n",
              "      <td>5</td>\n",
              "      <td>-4.693548</td>\n",
              "      <td>-0.251613</td>\n",
              "      <td>0.0</td>\n",
              "    </tr>\n",
              "    <tr>\n",
              "      <th>...</th>\n",
              "      <td>...</td>\n",
              "      <td>...</td>\n",
              "      <td>...</td>\n",
              "      <td>...</td>\n",
              "      <td>...</td>\n",
              "    </tr>\n",
              "    <tr>\n",
              "      <th>361</th>\n",
              "      <td>1</td>\n",
              "      <td>362</td>\n",
              "      <td>-1.412903</td>\n",
              "      <td>4.832258</td>\n",
              "      <td>0.0</td>\n",
              "    </tr>\n",
              "    <tr>\n",
              "      <th>362</th>\n",
              "      <td>1</td>\n",
              "      <td>363</td>\n",
              "      <td>-1.612903</td>\n",
              "      <td>4.932258</td>\n",
              "      <td>0.0</td>\n",
              "    </tr>\n",
              "    <tr>\n",
              "      <th>363</th>\n",
              "      <td>1</td>\n",
              "      <td>364</td>\n",
              "      <td>-0.612903</td>\n",
              "      <td>2.932258</td>\n",
              "      <td>0.0</td>\n",
              "    </tr>\n",
              "    <tr>\n",
              "      <th>364</th>\n",
              "      <td>1</td>\n",
              "      <td>365</td>\n",
              "      <td>0.787097</td>\n",
              "      <td>0.732258</td>\n",
              "      <td>0.0</td>\n",
              "    </tr>\n",
              "    <tr>\n",
              "      <th>365</th>\n",
              "      <td>1</td>\n",
              "      <td>366</td>\n",
              "      <td>2.387097</td>\n",
              "      <td>-1.967742</td>\n",
              "      <td>0.0</td>\n",
              "    </tr>\n",
              "  </tbody>\n",
              "</table>\n",
              "<p>366 rows × 5 columns</p>\n",
              "</div>\n",
              "      <button class=\"colab-df-convert\" onclick=\"convertToInteractive('df-60bb8466-8a58-4080-94c2-8e6ae9273a2a')\"\n",
              "              title=\"Convert this dataframe to an interactive table.\"\n",
              "              style=\"display:none;\">\n",
              "        \n",
              "  <svg xmlns=\"http://www.w3.org/2000/svg\" height=\"24px\"viewBox=\"0 0 24 24\"\n",
              "       width=\"24px\">\n",
              "    <path d=\"M0 0h24v24H0V0z\" fill=\"none\"/>\n",
              "    <path d=\"M18.56 5.44l.94 2.06.94-2.06 2.06-.94-2.06-.94-.94-2.06-.94 2.06-2.06.94zm-11 1L8.5 8.5l.94-2.06 2.06-.94-2.06-.94L8.5 2.5l-.94 2.06-2.06.94zm10 10l.94 2.06.94-2.06 2.06-.94-2.06-.94-.94-2.06-.94 2.06-2.06.94z\"/><path d=\"M17.41 7.96l-1.37-1.37c-.4-.4-.92-.59-1.43-.59-.52 0-1.04.2-1.43.59L10.3 9.45l-7.72 7.72c-.78.78-.78 2.05 0 2.83L4 21.41c.39.39.9.59 1.41.59.51 0 1.02-.2 1.41-.59l7.78-7.78 2.81-2.81c.8-.78.8-2.07 0-2.86zM5.41 20L4 18.59l7.72-7.72 1.47 1.35L5.41 20z\"/>\n",
              "  </svg>\n",
              "      </button>\n",
              "      \n",
              "  <style>\n",
              "    .colab-df-container {\n",
              "      display:flex;\n",
              "      flex-wrap:wrap;\n",
              "      gap: 12px;\n",
              "    }\n",
              "\n",
              "    .colab-df-convert {\n",
              "      background-color: #E8F0FE;\n",
              "      border: none;\n",
              "      border-radius: 50%;\n",
              "      cursor: pointer;\n",
              "      display: none;\n",
              "      fill: #1967D2;\n",
              "      height: 32px;\n",
              "      padding: 0 0 0 0;\n",
              "      width: 32px;\n",
              "    }\n",
              "\n",
              "    .colab-df-convert:hover {\n",
              "      background-color: #E2EBFA;\n",
              "      box-shadow: 0px 1px 2px rgba(60, 64, 67, 0.3), 0px 1px 3px 1px rgba(60, 64, 67, 0.15);\n",
              "      fill: #174EA6;\n",
              "    }\n",
              "\n",
              "    [theme=dark] .colab-df-convert {\n",
              "      background-color: #3B4455;\n",
              "      fill: #D2E3FC;\n",
              "    }\n",
              "\n",
              "    [theme=dark] .colab-df-convert:hover {\n",
              "      background-color: #434B5C;\n",
              "      box-shadow: 0px 1px 3px 1px rgba(0, 0, 0, 0.15);\n",
              "      filter: drop-shadow(0px 1px 2px rgba(0, 0, 0, 0.3));\n",
              "      fill: #FFFFFF;\n",
              "    }\n",
              "  </style>\n",
              "\n",
              "      <script>\n",
              "        const buttonEl =\n",
              "          document.querySelector('#df-60bb8466-8a58-4080-94c2-8e6ae9273a2a button.colab-df-convert');\n",
              "        buttonEl.style.display =\n",
              "          google.colab.kernel.accessAllowed ? 'block' : 'none';\n",
              "\n",
              "        async function convertToInteractive(key) {\n",
              "          const element = document.querySelector('#df-60bb8466-8a58-4080-94c2-8e6ae9273a2a');\n",
              "          const dataTable =\n",
              "            await google.colab.kernel.invokeFunction('convertToInteractive',\n",
              "                                                     [key], {});\n",
              "          if (!dataTable) return;\n",
              "\n",
              "          const docLinkHtml = 'Like what you see? Visit the ' +\n",
              "            '<a target=\"_blank\" href=https://colab.research.google.com/notebooks/data_table.ipynb>data table notebook</a>'\n",
              "            + ' to learn more about interactive tables.';\n",
              "          element.innerHTML = '';\n",
              "          dataTable['output_type'] = 'display_data';\n",
              "          await google.colab.output.renderOutput(dataTable, element);\n",
              "          const docLink = document.createElement('div');\n",
              "          docLink.innerHTML = docLinkHtml;\n",
              "          element.appendChild(docLink);\n",
              "        }\n",
              "      </script>\n",
              "    </div>\n",
              "  </div>\n",
              "  "
            ]
          },
          "metadata": {},
          "execution_count": 65
        }
      ]
    },
    {
      "cell_type": "code",
      "source": [
        "# 최고기온과 최저기온을 시각화해봅니다.\n",
        "\n",
        "from bokeh.models import HoverTool\n",
        "\n",
        "fig = figure(plot_width=800, plot_height=400)\n",
        "fig.line(range(len(daily_weather)), daily_weather['tmin'], line_color='blue')\n",
        "fig.line(range(len(daily_weather)), daily_weather['tmax'], line_color='red')\n",
        "\n",
        "tooltips1 = [\n",
        "    ['연중일자', '@x'],\n",
        "    ['온도', '@y']\n",
        "]\n",
        "\n",
        "fig.add_tools(HoverTool(tooltips=tooltips1))\n",
        "\n",
        "show(fig)"
      ],
      "metadata": {
        "colab": {
          "base_uri": "https://localhost:8080/",
          "height": 417
        },
        "id": "ONhVx-hTsJjs",
        "outputId": "c4af1344-ee95-4386-80a0-f127314e3c1a"
      },
      "execution_count": 66,
      "outputs": [
        {
          "output_type": "display_data",
          "data": {
            "application/javascript": [
              "\n",
              "(function(root) {\n",
              "  function now() {\n",
              "    return new Date();\n",
              "  }\n",
              "\n",
              "  var force = true;\n",
              "\n",
              "  if (typeof root._bokeh_onload_callbacks === \"undefined\" || force === true) {\n",
              "    root._bokeh_onload_callbacks = [];\n",
              "    root._bokeh_is_loading = undefined;\n",
              "  }\n",
              "\n",
              "  var JS_MIME_TYPE = 'application/javascript';\n",
              "  var HTML_MIME_TYPE = 'text/html';\n",
              "  var EXEC_MIME_TYPE = 'application/vnd.bokehjs_exec.v0+json';\n",
              "  var CLASS_NAME = 'output_bokeh rendered_html';\n",
              "\n",
              "  /**\n",
              "   * Render data to the DOM node\n",
              "   */\n",
              "  function render(props, node) {\n",
              "    var script = document.createElement(\"script\");\n",
              "    node.appendChild(script);\n",
              "  }\n",
              "\n",
              "  /**\n",
              "   * Handle when an output is cleared or removed\n",
              "   */\n",
              "  function handleClearOutput(event, handle) {\n",
              "    var cell = handle.cell;\n",
              "\n",
              "    var id = cell.output_area._bokeh_element_id;\n",
              "    var server_id = cell.output_area._bokeh_server_id;\n",
              "    // Clean up Bokeh references\n",
              "    if (id != null && id in Bokeh.index) {\n",
              "      Bokeh.index[id].model.document.clear();\n",
              "      delete Bokeh.index[id];\n",
              "    }\n",
              "\n",
              "    if (server_id !== undefined) {\n",
              "      // Clean up Bokeh references\n",
              "      var cmd = \"from bokeh.io.state import curstate; print(curstate().uuid_to_server['\" + server_id + \"'].get_sessions()[0].document.roots[0]._id)\";\n",
              "      cell.notebook.kernel.execute(cmd, {\n",
              "        iopub: {\n",
              "          output: function(msg) {\n",
              "            var id = msg.content.text.trim();\n",
              "            if (id in Bokeh.index) {\n",
              "              Bokeh.index[id].model.document.clear();\n",
              "              delete Bokeh.index[id];\n",
              "            }\n",
              "          }\n",
              "        }\n",
              "      });\n",
              "      // Destroy server and session\n",
              "      var cmd = \"import bokeh.io.notebook as ion; ion.destroy_server('\" + server_id + \"')\";\n",
              "      cell.notebook.kernel.execute(cmd);\n",
              "    }\n",
              "  }\n",
              "\n",
              "  /**\n",
              "   * Handle when a new output is added\n",
              "   */\n",
              "  function handleAddOutput(event, handle) {\n",
              "    var output_area = handle.output_area;\n",
              "    var output = handle.output;\n",
              "\n",
              "    // limit handleAddOutput to display_data with EXEC_MIME_TYPE content only\n",
              "    if ((output.output_type != \"display_data\") || (!Object.prototype.hasOwnProperty.call(output.data, EXEC_MIME_TYPE))) {\n",
              "      return\n",
              "    }\n",
              "\n",
              "    var toinsert = output_area.element.find(\".\" + CLASS_NAME.split(' ')[0]);\n",
              "\n",
              "    if (output.metadata[EXEC_MIME_TYPE][\"id\"] !== undefined) {\n",
              "      toinsert[toinsert.length - 1].firstChild.textContent = output.data[JS_MIME_TYPE];\n",
              "      // store reference to embed id on output_area\n",
              "      output_area._bokeh_element_id = output.metadata[EXEC_MIME_TYPE][\"id\"];\n",
              "    }\n",
              "    if (output.metadata[EXEC_MIME_TYPE][\"server_id\"] !== undefined) {\n",
              "      var bk_div = document.createElement(\"div\");\n",
              "      bk_div.innerHTML = output.data[HTML_MIME_TYPE];\n",
              "      var script_attrs = bk_div.children[0].attributes;\n",
              "      for (var i = 0; i < script_attrs.length; i++) {\n",
              "        toinsert[toinsert.length - 1].firstChild.setAttribute(script_attrs[i].name, script_attrs[i].value);\n",
              "        toinsert[toinsert.length - 1].firstChild.textContent = bk_div.children[0].textContent\n",
              "      }\n",
              "      // store reference to server id on output_area\n",
              "      output_area._bokeh_server_id = output.metadata[EXEC_MIME_TYPE][\"server_id\"];\n",
              "    }\n",
              "  }\n",
              "\n",
              "  function register_renderer(events, OutputArea) {\n",
              "\n",
              "    function append_mime(data, metadata, element) {\n",
              "      // create a DOM node to render to\n",
              "      var toinsert = this.create_output_subarea(\n",
              "        metadata,\n",
              "        CLASS_NAME,\n",
              "        EXEC_MIME_TYPE\n",
              "      );\n",
              "      this.keyboard_manager.register_events(toinsert);\n",
              "      // Render to node\n",
              "      var props = {data: data, metadata: metadata[EXEC_MIME_TYPE]};\n",
              "      render(props, toinsert[toinsert.length - 1]);\n",
              "      element.append(toinsert);\n",
              "      return toinsert\n",
              "    }\n",
              "\n",
              "    /* Handle when an output is cleared or removed */\n",
              "    events.on('clear_output.CodeCell', handleClearOutput);\n",
              "    events.on('delete.Cell', handleClearOutput);\n",
              "\n",
              "    /* Handle when a new output is added */\n",
              "    events.on('output_added.OutputArea', handleAddOutput);\n",
              "\n",
              "    /**\n",
              "     * Register the mime type and append_mime function with output_area\n",
              "     */\n",
              "    OutputArea.prototype.register_mime_type(EXEC_MIME_TYPE, append_mime, {\n",
              "      /* Is output safe? */\n",
              "      safe: true,\n",
              "      /* Index of renderer in `output_area.display_order` */\n",
              "      index: 0\n",
              "    });\n",
              "  }\n",
              "\n",
              "  // register the mime type if in Jupyter Notebook environment and previously unregistered\n",
              "  if (root.Jupyter !== undefined) {\n",
              "    var events = require('base/js/events');\n",
              "    var OutputArea = require('notebook/js/outputarea').OutputArea;\n",
              "\n",
              "    if (OutputArea.prototype.mime_types().indexOf(EXEC_MIME_TYPE) == -1) {\n",
              "      register_renderer(events, OutputArea);\n",
              "    }\n",
              "  }\n",
              "\n",
              "  \n",
              "  if (typeof (root._bokeh_timeout) === \"undefined\" || force === true) {\n",
              "    root._bokeh_timeout = Date.now() + 5000;\n",
              "    root._bokeh_failed_load = false;\n",
              "  }\n",
              "\n",
              "  var NB_LOAD_WARNING = {'data': {'text/html':\n",
              "     \"<div style='background-color: #fdd'>\\n\"+\n",
              "     \"<p>\\n\"+\n",
              "     \"BokehJS does not appear to have successfully loaded. If loading BokehJS from CDN, this \\n\"+\n",
              "     \"may be due to a slow or bad network connection. Possible fixes:\\n\"+\n",
              "     \"</p>\\n\"+\n",
              "     \"<ul>\\n\"+\n",
              "     \"<li>re-rerun `output_notebook()` to attempt to load from CDN again, or</li>\\n\"+\n",
              "     \"<li>use INLINE resources instead, as so:</li>\\n\"+\n",
              "     \"</ul>\\n\"+\n",
              "     \"<code>\\n\"+\n",
              "     \"from bokeh.resources import INLINE\\n\"+\n",
              "     \"output_notebook(resources=INLINE)\\n\"+\n",
              "     \"</code>\\n\"+\n",
              "     \"</div>\"}};\n",
              "\n",
              "  function display_loaded() {\n",
              "    var el = document.getElementById(null);\n",
              "    if (el != null) {\n",
              "      el.textContent = \"BokehJS is loading...\";\n",
              "    }\n",
              "    if (root.Bokeh !== undefined) {\n",
              "      if (el != null) {\n",
              "        el.textContent = \"BokehJS \" + root.Bokeh.version + \" successfully loaded.\";\n",
              "      }\n",
              "    } else if (Date.now() < root._bokeh_timeout) {\n",
              "      setTimeout(display_loaded, 100)\n",
              "    }\n",
              "  }\n",
              "\n",
              "\n",
              "  function run_callbacks() {\n",
              "    try {\n",
              "      root._bokeh_onload_callbacks.forEach(function(callback) {\n",
              "        if (callback != null)\n",
              "          callback();\n",
              "      });\n",
              "    } finally {\n",
              "      delete root._bokeh_onload_callbacks\n",
              "    }\n",
              "    console.debug(\"Bokeh: all callbacks have finished\");\n",
              "  }\n",
              "\n",
              "  function load_libs(css_urls, js_urls, callback) {\n",
              "    if (css_urls == null) css_urls = [];\n",
              "    if (js_urls == null) js_urls = [];\n",
              "\n",
              "    root._bokeh_onload_callbacks.push(callback);\n",
              "    if (root._bokeh_is_loading > 0) {\n",
              "      console.debug(\"Bokeh: BokehJS is being loaded, scheduling callback at\", now());\n",
              "      return null;\n",
              "    }\n",
              "    if (js_urls == null || js_urls.length === 0) {\n",
              "      run_callbacks();\n",
              "      return null;\n",
              "    }\n",
              "    console.debug(\"Bokeh: BokehJS not loaded, scheduling load and callback at\", now());\n",
              "    root._bokeh_is_loading = css_urls.length + js_urls.length;\n",
              "\n",
              "    function on_load() {\n",
              "      root._bokeh_is_loading--;\n",
              "      if (root._bokeh_is_loading === 0) {\n",
              "        console.debug(\"Bokeh: all BokehJS libraries/stylesheets loaded\");\n",
              "        run_callbacks()\n",
              "      }\n",
              "    }\n",
              "\n",
              "    function on_error(url) {\n",
              "      console.error(\"failed to load \" + url);\n",
              "    }\n",
              "\n",
              "    for (let i = 0; i < css_urls.length; i++) {\n",
              "      const url = css_urls[i];\n",
              "      const element = document.createElement(\"link\");\n",
              "      element.onload = on_load;\n",
              "      element.onerror = on_error.bind(null, url);\n",
              "      element.rel = \"stylesheet\";\n",
              "      element.type = \"text/css\";\n",
              "      element.href = url;\n",
              "      console.debug(\"Bokeh: injecting link tag for BokehJS stylesheet: \", url);\n",
              "      document.body.appendChild(element);\n",
              "    }\n",
              "\n",
              "    const hashes = {\"https://cdn.bokeh.org/bokeh/release/bokeh-2.3.3.min.js\": \"dM3QQsP+wXdHg42wTqW85BjZQdLNNIXqlPw/BgKoExPmTG7ZLML4EGqLMfqHT6ON\", \"https://cdn.bokeh.org/bokeh/release/bokeh-tables-2.3.3.min.js\": \"8x57I4YuIfu8XyZfFo0XVr2WAT8EK4rh/uDe3wF7YuW2FNUSNEpJbsPaB1nJ2fz2\", \"https://cdn.bokeh.org/bokeh/release/bokeh-widgets-2.3.3.min.js\": \"3QTqdz9LyAm2i0sG5XTePsHec3UHWwVsrOL68SYRoAXsafvfAyqtQ+h440+qIBhS\"};\n",
              "\n",
              "    for (let i = 0; i < js_urls.length; i++) {\n",
              "      const url = js_urls[i];\n",
              "      const element = document.createElement('script');\n",
              "      element.onload = on_load;\n",
              "      element.onerror = on_error.bind(null, url);\n",
              "      element.async = false;\n",
              "      element.src = url;\n",
              "      if (url in hashes) {\n",
              "        element.crossOrigin = \"anonymous\";\n",
              "        element.integrity = \"sha384-\" + hashes[url];\n",
              "      }\n",
              "      console.debug(\"Bokeh: injecting script tag for BokehJS library: \", url);\n",
              "      document.head.appendChild(element);\n",
              "    }\n",
              "  };\n",
              "\n",
              "  function inject_raw_css(css) {\n",
              "    const element = document.createElement(\"style\");\n",
              "    element.appendChild(document.createTextNode(css));\n",
              "    document.body.appendChild(element);\n",
              "  }\n",
              "\n",
              "  \n",
              "  var js_urls = [\"https://cdn.bokeh.org/bokeh/release/bokeh-2.3.3.min.js\", \"https://cdn.bokeh.org/bokeh/release/bokeh-widgets-2.3.3.min.js\", \"https://cdn.bokeh.org/bokeh/release/bokeh-tables-2.3.3.min.js\"];\n",
              "  var css_urls = [];\n",
              "  \n",
              "\n",
              "  var inline_js = [\n",
              "    function(Bokeh) {\n",
              "      Bokeh.set_log_level(\"info\");\n",
              "    },\n",
              "    function(Bokeh) {\n",
              "    \n",
              "    \n",
              "    }\n",
              "  ];\n",
              "\n",
              "  function run_inline_js() {\n",
              "    \n",
              "    if (root.Bokeh !== undefined || force === true) {\n",
              "      \n",
              "    for (var i = 0; i < inline_js.length; i++) {\n",
              "      inline_js[i].call(root, root.Bokeh);\n",
              "    }\n",
              "    } else if (Date.now() < root._bokeh_timeout) {\n",
              "      setTimeout(run_inline_js, 100);\n",
              "    } else if (!root._bokeh_failed_load) {\n",
              "      console.log(\"Bokeh: BokehJS failed to load within specified timeout.\");\n",
              "      root._bokeh_failed_load = true;\n",
              "    } else if (force !== true) {\n",
              "      var cell = $(document.getElementById(null)).parents('.cell').data().cell;\n",
              "      cell.output_area.append_execute_result(NB_LOAD_WARNING)\n",
              "    }\n",
              "\n",
              "  }\n",
              "\n",
              "  if (root._bokeh_is_loading === 0) {\n",
              "    console.debug(\"Bokeh: BokehJS loaded, going straight to plotting\");\n",
              "    run_inline_js();\n",
              "  } else {\n",
              "    load_libs(css_urls, js_urls, function() {\n",
              "      console.debug(\"Bokeh: BokehJS plotting callback run at\", now());\n",
              "      run_inline_js();\n",
              "    });\n",
              "  }\n",
              "}(window));"
            ],
            "application/vnd.bokehjs_load.v0+json": "\n(function(root) {\n  function now() {\n    return new Date();\n  }\n\n  var force = true;\n\n  if (typeof root._bokeh_onload_callbacks === \"undefined\" || force === true) {\n    root._bokeh_onload_callbacks = [];\n    root._bokeh_is_loading = undefined;\n  }\n\n  \n\n  \n  if (typeof (root._bokeh_timeout) === \"undefined\" || force === true) {\n    root._bokeh_timeout = Date.now() + 5000;\n    root._bokeh_failed_load = false;\n  }\n\n  var NB_LOAD_WARNING = {'data': {'text/html':\n     \"<div style='background-color: #fdd'>\\n\"+\n     \"<p>\\n\"+\n     \"BokehJS does not appear to have successfully loaded. If loading BokehJS from CDN, this \\n\"+\n     \"may be due to a slow or bad network connection. Possible fixes:\\n\"+\n     \"</p>\\n\"+\n     \"<ul>\\n\"+\n     \"<li>re-rerun `output_notebook()` to attempt to load from CDN again, or</li>\\n\"+\n     \"<li>use INLINE resources instead, as so:</li>\\n\"+\n     \"</ul>\\n\"+\n     \"<code>\\n\"+\n     \"from bokeh.resources import INLINE\\n\"+\n     \"output_notebook(resources=INLINE)\\n\"+\n     \"</code>\\n\"+\n     \"</div>\"}};\n\n  function display_loaded() {\n    var el = document.getElementById(null);\n    if (el != null) {\n      el.textContent = \"BokehJS is loading...\";\n    }\n    if (root.Bokeh !== undefined) {\n      if (el != null) {\n        el.textContent = \"BokehJS \" + root.Bokeh.version + \" successfully loaded.\";\n      }\n    } else if (Date.now() < root._bokeh_timeout) {\n      setTimeout(display_loaded, 100)\n    }\n  }\n\n\n  function run_callbacks() {\n    try {\n      root._bokeh_onload_callbacks.forEach(function(callback) {\n        if (callback != null)\n          callback();\n      });\n    } finally {\n      delete root._bokeh_onload_callbacks\n    }\n    console.debug(\"Bokeh: all callbacks have finished\");\n  }\n\n  function load_libs(css_urls, js_urls, callback) {\n    if (css_urls == null) css_urls = [];\n    if (js_urls == null) js_urls = [];\n\n    root._bokeh_onload_callbacks.push(callback);\n    if (root._bokeh_is_loading > 0) {\n      console.debug(\"Bokeh: BokehJS is being loaded, scheduling callback at\", now());\n      return null;\n    }\n    if (js_urls == null || js_urls.length === 0) {\n      run_callbacks();\n      return null;\n    }\n    console.debug(\"Bokeh: BokehJS not loaded, scheduling load and callback at\", now());\n    root._bokeh_is_loading = css_urls.length + js_urls.length;\n\n    function on_load() {\n      root._bokeh_is_loading--;\n      if (root._bokeh_is_loading === 0) {\n        console.debug(\"Bokeh: all BokehJS libraries/stylesheets loaded\");\n        run_callbacks()\n      }\n    }\n\n    function on_error(url) {\n      console.error(\"failed to load \" + url);\n    }\n\n    for (let i = 0; i < css_urls.length; i++) {\n      const url = css_urls[i];\n      const element = document.createElement(\"link\");\n      element.onload = on_load;\n      element.onerror = on_error.bind(null, url);\n      element.rel = \"stylesheet\";\n      element.type = \"text/css\";\n      element.href = url;\n      console.debug(\"Bokeh: injecting link tag for BokehJS stylesheet: \", url);\n      document.body.appendChild(element);\n    }\n\n    const hashes = {\"https://cdn.bokeh.org/bokeh/release/bokeh-2.3.3.min.js\": \"dM3QQsP+wXdHg42wTqW85BjZQdLNNIXqlPw/BgKoExPmTG7ZLML4EGqLMfqHT6ON\", \"https://cdn.bokeh.org/bokeh/release/bokeh-tables-2.3.3.min.js\": \"8x57I4YuIfu8XyZfFo0XVr2WAT8EK4rh/uDe3wF7YuW2FNUSNEpJbsPaB1nJ2fz2\", \"https://cdn.bokeh.org/bokeh/release/bokeh-widgets-2.3.3.min.js\": \"3QTqdz9LyAm2i0sG5XTePsHec3UHWwVsrOL68SYRoAXsafvfAyqtQ+h440+qIBhS\"};\n\n    for (let i = 0; i < js_urls.length; i++) {\n      const url = js_urls[i];\n      const element = document.createElement('script');\n      element.onload = on_load;\n      element.onerror = on_error.bind(null, url);\n      element.async = false;\n      element.src = url;\n      if (url in hashes) {\n        element.crossOrigin = \"anonymous\";\n        element.integrity = \"sha384-\" + hashes[url];\n      }\n      console.debug(\"Bokeh: injecting script tag for BokehJS library: \", url);\n      document.head.appendChild(element);\n    }\n  };\n\n  function inject_raw_css(css) {\n    const element = document.createElement(\"style\");\n    element.appendChild(document.createTextNode(css));\n    document.body.appendChild(element);\n  }\n\n  \n  var js_urls = [\"https://cdn.bokeh.org/bokeh/release/bokeh-2.3.3.min.js\", \"https://cdn.bokeh.org/bokeh/release/bokeh-widgets-2.3.3.min.js\", \"https://cdn.bokeh.org/bokeh/release/bokeh-tables-2.3.3.min.js\"];\n  var css_urls = [];\n  \n\n  var inline_js = [\n    function(Bokeh) {\n      Bokeh.set_log_level(\"info\");\n    },\n    function(Bokeh) {\n    \n    \n    }\n  ];\n\n  function run_inline_js() {\n    \n    if (root.Bokeh !== undefined || force === true) {\n      \n    for (var i = 0; i < inline_js.length; i++) {\n      inline_js[i].call(root, root.Bokeh);\n    }\n    } else if (Date.now() < root._bokeh_timeout) {\n      setTimeout(run_inline_js, 100);\n    } else if (!root._bokeh_failed_load) {\n      console.log(\"Bokeh: BokehJS failed to load within specified timeout.\");\n      root._bokeh_failed_load = true;\n    } else if (force !== true) {\n      var cell = $(document.getElementById(null)).parents('.cell').data().cell;\n      cell.output_area.append_execute_result(NB_LOAD_WARNING)\n    }\n\n  }\n\n  if (root._bokeh_is_loading === 0) {\n    console.debug(\"Bokeh: BokehJS loaded, going straight to plotting\");\n    run_inline_js();\n  } else {\n    load_libs(css_urls, js_urls, function() {\n      console.debug(\"Bokeh: BokehJS plotting callback run at\", now());\n      run_inline_js();\n    });\n  }\n}(window));"
          },
          "metadata": {}
        },
        {
          "output_type": "display_data",
          "data": {
            "text/html": [
              "\n",
              "\n",
              "\n",
              "\n",
              "\n",
              "\n",
              "  <div class=\"bk-root\" id=\"b391db66-8b71-458b-9ebf-2ccfa6cbd746\" data-root-id=\"1345\"></div>\n"
            ]
          },
          "metadata": {}
        },
        {
          "output_type": "display_data",
          "data": {
            "application/javascript": [
              "(function(root) {\n",
              "  function embed_document(root) {\n",
              "    \n",
              "  var docs_json = {\"c0087be4-6235-4fab-9242-84b68a67c858\":{\"defs\":[],\"roots\":{\"references\":[{\"attributes\":{\"below\":[{\"id\":\"1354\"}],\"center\":[{\"id\":\"1357\"},{\"id\":\"1361\"}],\"height\":400,\"left\":[{\"id\":\"1358\"}],\"renderers\":[{\"id\":\"1379\"},{\"id\":\"1384\"}],\"title\":{\"id\":\"1421\"},\"toolbar\":{\"id\":\"1369\"},\"width\":800,\"x_range\":{\"id\":\"1346\"},\"x_scale\":{\"id\":\"1350\"},\"y_range\":{\"id\":\"1348\"},\"y_scale\":{\"id\":\"1352\"}},\"id\":\"1345\",\"subtype\":\"Figure\",\"type\":\"Plot\"},{\"attributes\":{\"source\":{\"id\":\"1376\"}},\"id\":\"1380\",\"type\":\"CDSView\"},{\"attributes\":{},\"id\":\"1348\",\"type\":\"DataRange1d\"},{\"attributes\":{},\"id\":\"1366\",\"type\":\"ResetTool\"},{\"attributes\":{\"data_source\":{\"id\":\"1376\"},\"glyph\":{\"id\":\"1377\"},\"hover_glyph\":null,\"muted_glyph\":null,\"nonselection_glyph\":{\"id\":\"1378\"},\"view\":{\"id\":\"1380\"}},\"id\":\"1379\",\"type\":\"GlyphRenderer\"},{\"attributes\":{},\"id\":\"1367\",\"type\":\"HelpTool\"},{\"attributes\":{},\"id\":\"1352\",\"type\":\"LinearScale\"},{\"attributes\":{\"line_color\":\"red\",\"x\":{\"field\":\"x\"},\"y\":{\"field\":\"y\"}},\"id\":\"1382\",\"type\":\"Line\"},{\"attributes\":{\"data\":{\"x\":[0,1,2,3,4,5,6,7,8,9,10,11,12,13,14,15,16,17,18,19,20,21,22,23,24,25,26,27,28,29,30,31,32,33,34,35,36,37,38,39,40,41,42,43,44,45,46,47,48,49,50,51,52,53,54,55,56,57,58,59,60,61,62,63,64,65,66,67,68,69,70,71,72,73,74,75,76,77,78,79,80,81,82,83,84,85,86,87,88,89,90,91,92,93,94,95,96,97,98,99,100,101,102,103,104,105,106,107,108,109,110,111,112,113,114,115,116,117,118,119,120,121,122,123,124,125,126,127,128,129,130,131,132,133,134,135,136,137,138,139,140,141,142,143,144,145,146,147,148,149,150,151,152,153,154,155,156,157,158,159,160,161,162,163,164,165,166,167,168,169,170,171,172,173,174,175,176,177,178,179,180,181,182,183,184,185,186,187,188,189,190,191,192,193,194,195,196,197,198,199,200,201,202,203,204,205,206,207,208,209,210,211,212,213,214,215,216,217,218,219,220,221,222,223,224,225,226,227,228,229,230,231,232,233,234,235,236,237,238,239,240,241,242,243,244,245,246,247,248,249,250,251,252,253,254,255,256,257,258,259,260,261,262,263,264,265,266,267,268,269,270,271,272,273,274,275,276,277,278,279,280,281,282,283,284,285,286,287,288,289,290,291,292,293,294,295,296,297,298,299,300,301,302,303,304,305,306,307,308,309,310,311,312,313,314,315,316,317,318,319,320,321,322,323,324,325,326,327,328,329,330,331,332,333,334,335,336,337,338,339,340,341,342,343,344,345,346,347,348,349,350,351,352,353,354,355,356,357,358,359,360,361,362,363,364,365],\"y\":{\"__ndarray__\":\"YLI8QPlLNkDGGENATJY/P2jTgL5jjIFAoE1jwGpA28A3DdjAB7RJwDcNmMDQpoHADWiTv3TO+b/+kuU+DWjTv845575jjJFAwGS5P8nyFz6y/CU/y18CQZa/5ECWv8RAMFmuQP6SLUH+ki1BY4yBQGOMsUBjjOFAmCwnQWqEDUGdtwhB1AjbQG2i5EAHPM5Add5iQA54HECE5R6+TyOsPzjgcT9Bqy9Add4iQDpvgUCh1cdAQasPQKgRFkBsEyU/tomSP1wM6b4luxbABa0+P7aJ0j9touRA1AirQDpvoUDUCNtA1Aj7QG2i9EA3UQpBEUIoQbsd6kDuUI1AdTtUQNyhWkCH6tZAux2aQIfqpkC3Q/U/ux2KQBFCEEF3qC5BVLfjQFS300CH6uZAh+q2QBFCCEFEdSNB3Q49QUR1K0HdDg1BIYTgQEIIQUCobgdAhBDCP9yhOkBUt5NA3KFaQFS3g0AhhJBAVLeDQKuq4kCJiFhA3t2VQKuq4kB3d59AIiIWQVVVCUGJiAxB7+46Qby7D0GJiBxB7+5CQe/uOkF3d89A3t3VQERE3EBERPxA3t3lQERE7EBVVQlB7+5CQe/uAkGJiGxBRESGQby7f0EREY9BiYhUQby7R0FVVWlBvLtnQU4DWkGBNn1BDWifQXTOqUENaKNB2jS0QacBuUF0zpFBQJumQacBnUENaKdBDWifQacBpUGnAZlBDWiXQdo0oEHaNJhBQJuCQXTOjUHaNJRBdM6RQUCbhkEa0GZB55xrQeecQ0HaNIxBTgNyQdo0gEG0aVBBpwGBQXTOiUFPG/5B2kAGQkGnFEIOdA9CDnQLQg50A0JPG/5BTxv+QacNA0Ib6P5BdNoJQrWB9EEb6O5BTxvmQbWB7EHotPtBdNoBQg50CUKnDRNC2kAWQg50EULaQBZCQacOQqcND0LaQARCG+j+QacNC0JBpxRCdNofQqcNF0JeRa5BKxKrQSsSr0HFq5RB+N6jQV5FmkHFq5BBKxKXQfjen0FeRaJBKxKTQfjej0ErEo9B+N6bQSsSj0Ej8WpB7713QcWrtEFeRYZBkXiBQfjeg0H43pNBXkWOQcWrhEGReI1BkXiNQZF4iUHFq4RBI/FqQbyKbEGJV0FBwdELQY6eEEH0BCdBjp4YQbbW2kBPcIRAttbaQBw90UAoOBJB9AQ/QfQET0HpCf5AKDgCQYKj10DB0TtBwdEzQcHRQ0H0BEdBjp5IQY6eMEHB0QtBwdEzQY6eIEGOniBB9AQfQfQED0H0BCdB9ARHQVtrTUFba2VBW2stQSIiikC8u8NAREQQQXd3E0GJiNBAIiKaQO/utkCJiLBAvLujQHd3R0BERBRAq6p6QLy7k0CJiKBAERFhQLy7s0BVVa1AiYjgQLy700C8u/NA3t0BQauqDkFVVe1A7+7mQEREAEF3dwtBVVXtQImI0ECrqnpAd3cnQP0lG0EwWRZBlr8cQWCy7ED5S+ZA/SUDQcYY80Atf+lAk+XfQGCy3ED5S5ZAYLLMQC1/iUCT5Y9AYLKMQEyWvz8ZY4w//SXLPln+UkAyxhg/MFn+PpsGNL/AZBlAWf4SQLL85T9Z/jJAy18yP8BkGUA1oE2/DWjTvRljjD8HOhFBoNNqQdQGVkE6bRxB2kDvQKDTCkEOdIJADnTCQA50okB02phAN9DJPzfQyT8YS07A/WKpv4JOK0B02phAgk5rQJ02sD8mv9i+lvyCvxvoND4b6CRAQaeVQIJOC0BLfkHAN9CJPzCWnL9+sTTAS35hwH6xNMDuUN0+hBAiQDtUtz8ViTfAi8QrvgghxD8j8Sq/D9WNQEm8CsBJvCrASbxqwIvEi8BeReK/fO9dwCPxKr93qG4/qtshP1S3E0F3qG4/1e2QP3U79EC3Q1VAdTuUQIvEK76EEEJAux2qPtyhmkAP1Z1AHqo7QER1Oz/43vu/\",\"dtype\":\"float32\",\"order\":\"little\",\"shape\":[366]}},\"selected\":{\"id\":\"1432\"},\"selection_policy\":{\"id\":\"1431\"}},\"id\":\"1381\",\"type\":\"ColumnDataSource\"},{\"attributes\":{\"formatter\":{\"id\":\"1426\"},\"major_label_policy\":{\"id\":\"1427\"},\"ticker\":{\"id\":\"1355\"}},\"id\":\"1354\",\"type\":\"LinearAxis\"},{\"attributes\":{},\"id\":\"1359\",\"type\":\"BasicTicker\"},{\"attributes\":{\"callback\":null,\"tooltips\":[[\"\\uc5f0\\uc911\\uc77c\\uc790\",\"@x\"],[\"\\uc628\\ub3c4\",\"@y\"]]},\"id\":\"1386\",\"type\":\"HoverTool\"},{\"attributes\":{},\"id\":\"1427\",\"type\":\"AllLabels\"},{\"attributes\":{},\"id\":\"1355\",\"type\":\"BasicTicker\"},{\"attributes\":{},\"id\":\"1426\",\"type\":\"BasicTickFormatter\"},{\"attributes\":{\"axis\":{\"id\":\"1354\"},\"ticker\":null},\"id\":\"1357\",\"type\":\"Grid\"},{\"attributes\":{\"data\":{\"x\":[0,1,2,3,4,5,6,7,8,9,10,11,12,13,14,15,16,17,18,19,20,21,22,23,24,25,26,27,28,29,30,31,32,33,34,35,36,37,38,39,40,41,42,43,44,45,46,47,48,49,50,51,52,53,54,55,56,57,58,59,60,61,62,63,64,65,66,67,68,69,70,71,72,73,74,75,76,77,78,79,80,81,82,83,84,85,86,87,88,89,90,91,92,93,94,95,96,97,98,99,100,101,102,103,104,105,106,107,108,109,110,111,112,113,114,115,116,117,118,119,120,121,122,123,124,125,126,127,128,129,130,131,132,133,134,135,136,137,138,139,140,141,142,143,144,145,146,147,148,149,150,151,152,153,154,155,156,157,158,159,160,161,162,163,164,165,166,167,168,169,170,171,172,173,174,175,176,177,178,179,180,181,182,183,184,185,186,187,188,189,190,191,192,193,194,195,196,197,198,199,200,201,202,203,204,205,206,207,208,209,210,211,212,213,214,215,216,217,218,219,220,221,222,223,224,225,226,227,228,229,230,231,232,233,234,235,236,237,238,239,240,241,242,243,244,245,246,247,248,249,250,251,252,253,254,255,256,257,258,259,260,261,262,263,264,265,266,267,268,269,270,271,272,273,274,275,276,277,278,279,280,281,282,283,284,285,286,287,288,289,290,291,292,293,294,295,296,297,298,299,300,301,302,303,304,305,306,307,308,309,310,311,312,313,314,315,316,317,318,319,320,321,322,323,324,325,326,327,328,329,330,331,332,333,334,335,336,337,338,339,340,341,342,343,344,345,346,347,348,349,350,351,352,353,354,355,356,357,358,359,360,361,362,363,364,365],\"y\":{\"__ndarray__\":\"2jTAQM45pz8NaFM+MsaYv4wxlsBZ/uLAk+UHwVn+8sDAZNnA85e8wEyWH8Dzl6zAZfnLvwPaND8Cbdo/Nw1oP3/JcsAmy4/AwGSZwLL8BcDQpgE/Am3aP0CblkCgTQNBOucMQbRpYEB/yRLATgM6QKBNA0HTgB5B04AWQRKW60CiZAdBRcn+QHj8sUBafSk/eovhP9m1Cb+5p9G/dm0CwHZtIsCGdN6/4PGHPxKWm0CrL4VAeovhP7s2ocBDOk/AMaRzvucthj5DOm/AMaRzvvQWQz9/OOC+R1iuP6svlUBXXypAqy/lQG8xFEHWlxpBjDH2QCbL/0CMMZZATJYfQMBkmUCMMYZAWf6iQDLG2D9/yVJAGWMsQDrnnL6MMYZAJsvfQFn+0kCy/GVAWf6yQPlLBkHAZNlAjDG2QMBkuUCMMbZAf8kyQGX5yz9OA9q9A9o0v0yWvz0wWX4/svxFQGX5iz/zl7xAWf6yQCa/KECMJQ9AWfJ7QCz5vUCTX9RAlvwWQf1iFUHJLzJBxpLnQJNflED5xapA8ot1QFnye0BgLKFA+cXaQJNf1ED5xapALPmtQCz5zUDJLxJBMJYQQZb8DkEs+f1AMJYoQTCWUEHJL0pBlvxOQTCWWEEwlmBBseSBQXzvbUFYkYhBryJhQRWJR0GvIklBfO9dQfEqgkHxKpJBJF6hQSRepUFYkahB8SquQYvEs0GLxI9BvveKQSRekUGLxINBWJGQQXzvJUHiVTxBi8SDQSRegUF87y1BfO9FQRWJV0FJvHJBFYlXQUm8SkHiVXxBfO91Qb73kkGg0wBCpw3kQaDTDEKg0wZCOm0CQqDTAkKnDehBpw3YQUGn2UHUBgBCpw34QQ509kEOdN5BQafpQUGn7UGnDeRBQafpQQ508kEOdP5BOm0EQm2gDUI6bRBC1AYQQtQGBEIOdP5BDnT2QaDTCkJtoA1COm0SQtQGGkI3DaxBNw2cQdCmkUE3DYRBnXOOQQPagEHQpolB0KaJQZ1zhkGdc4ZB0KaNQZ1zkkGdc5JBnXOCQQPagEHTgFZB04BuQdOAdkGdc4JBbRpQQZ1zhkFtGnBBNw2AQTcNhEFqQIdBB7QxQdOATkEHtDFBbRpwQaBNa0FtGkhBxasIQVYkzkBWJL5AEq9CQKxIHEBWJI5AvIqkQCsSD0HvvfdAI/H6QCsSF0HvvfdAI/HqQPjeA0FWJN5AiVfxQIlXwUBeRQpBxasgQcWrEEGReB1BXkUSQfjeA0HFqwBB7733QPjeG0HFqxBBKxIfQV5FOkH43itBkXhFQby7+z/e3T1AiYiYQCIikkBVVZVAiYiYQLy7i0CJiLhAREQkQEREBECrqipAIiKCQKuqSkCJiJhAd3c3QO/uvkDv7u4/q6oqQEREZEAiIuJAVVXlQCIi0kCJiOhAIiKiQO/urkBVVaVARERkQHd3t793d3c/REREQAqODkFw9CRBpCcQQQqODkGttdZACo4eQaQnGEF6gvNArbXGQK21xkBHT4BAKDh6QPQER0COniBA6QnOP/QEJ0Bbaw1AYR8Xvwz7WMDs48LAHxfmwKWUUsAM+zjAF/axv0oppb/s44LAlVJKvxf28b9+XJi/7OOCwNjHRcAs+YU/Y8lPQH6xlECW/GJAfrG0QOUXm0AYS75A5RfLQDCWfEBLfqFAfrHkPpb8IkDUBvq/frHkPk8b6L5LfrE+LPmFP/nFkj/Gkp8/nTYQwL9Ycj/JLxY+YCz5P+i0gb4DnRbAN9AJwKDTxr8b6JTA6LSRwIJOi8BOA1q+y19SQG0aUL+T5S8/akDbv6BNA78tf0k/MsY4QGX5K0D9JYs/nXPOv9OANr9Z/pI+aNMgwAJtWsDOOUfANw2ovw1oU7ybBlTAmwYUwDWgDcB/ycJATJbPQGX5K0A65xy/zjkHwAPatL+dc86/Ouccvy1/ST8yxhhA\",\"dtype\":\"float32\",\"order\":\"little\",\"shape\":[366]}},\"selected\":{\"id\":\"1430\"},\"selection_policy\":{\"id\":\"1429\"}},\"id\":\"1376\",\"type\":\"ColumnDataSource\"},{\"attributes\":{\"axis\":{\"id\":\"1358\"},\"dimension\":1,\"ticker\":null},\"id\":\"1361\",\"type\":\"Grid\"},{\"attributes\":{},\"id\":\"1423\",\"type\":\"BasicTickFormatter\"},{\"attributes\":{\"formatter\":{\"id\":\"1423\"},\"major_label_policy\":{\"id\":\"1424\"},\"ticker\":{\"id\":\"1359\"}},\"id\":\"1358\",\"type\":\"LinearAxis\"},{\"attributes\":{\"line_alpha\":0.1,\"line_color\":\"red\",\"x\":{\"field\":\"x\"},\"y\":{\"field\":\"y\"}},\"id\":\"1383\",\"type\":\"Line\"},{\"attributes\":{\"data_source\":{\"id\":\"1381\"},\"glyph\":{\"id\":\"1382\"},\"hover_glyph\":null,\"muted_glyph\":null,\"nonselection_glyph\":{\"id\":\"1383\"},\"view\":{\"id\":\"1385\"}},\"id\":\"1384\",\"type\":\"GlyphRenderer\"},{\"attributes\":{},\"id\":\"1424\",\"type\":\"AllLabels\"},{\"attributes\":{\"source\":{\"id\":\"1381\"}},\"id\":\"1385\",\"type\":\"CDSView\"},{\"attributes\":{\"line_color\":\"blue\",\"x\":{\"field\":\"x\"},\"y\":{\"field\":\"y\"}},\"id\":\"1377\",\"type\":\"Line\"},{\"attributes\":{},\"id\":\"1421\",\"type\":\"Title\"},{\"attributes\":{\"line_alpha\":0.1,\"line_color\":\"blue\",\"x\":{\"field\":\"x\"},\"y\":{\"field\":\"y\"}},\"id\":\"1378\",\"type\":\"Line\"},{\"attributes\":{\"bottom_units\":\"screen\",\"fill_alpha\":0.5,\"fill_color\":\"lightgrey\",\"left_units\":\"screen\",\"level\":\"overlay\",\"line_alpha\":1.0,\"line_color\":\"black\",\"line_dash\":[4,4],\"line_width\":2,\"right_units\":\"screen\",\"syncable\":false,\"top_units\":\"screen\"},\"id\":\"1368\",\"type\":\"BoxAnnotation\"},{\"attributes\":{},\"id\":\"1362\",\"type\":\"PanTool\"},{\"attributes\":{},\"id\":\"1430\",\"type\":\"Selection\"},{\"attributes\":{\"active_multi\":null,\"tools\":[{\"id\":\"1362\"},{\"id\":\"1363\"},{\"id\":\"1364\"},{\"id\":\"1365\"},{\"id\":\"1366\"},{\"id\":\"1367\"},{\"id\":\"1386\"}]},\"id\":\"1369\",\"type\":\"Toolbar\"},{\"attributes\":{},\"id\":\"1429\",\"type\":\"UnionRenderers\"},{\"attributes\":{},\"id\":\"1363\",\"type\":\"WheelZoomTool\"},{\"attributes\":{},\"id\":\"1346\",\"type\":\"DataRange1d\"},{\"attributes\":{},\"id\":\"1365\",\"type\":\"SaveTool\"},{\"attributes\":{},\"id\":\"1431\",\"type\":\"UnionRenderers\"},{\"attributes\":{\"overlay\":{\"id\":\"1368\"}},\"id\":\"1364\",\"type\":\"BoxZoomTool\"},{\"attributes\":{},\"id\":\"1432\",\"type\":\"Selection\"},{\"attributes\":{},\"id\":\"1350\",\"type\":\"LinearScale\"}],\"root_ids\":[\"1345\"]},\"title\":\"Bokeh Application\",\"version\":\"2.3.3\"}};\n",
              "  var render_items = [{\"docid\":\"c0087be4-6235-4fab-9242-84b68a67c858\",\"root_ids\":[\"1345\"],\"roots\":{\"1345\":\"b391db66-8b71-458b-9ebf-2ccfa6cbd746\"}}];\n",
              "  root.Bokeh.embed.embed_items_notebook(docs_json, render_items);\n",
              "\n",
              "  }\n",
              "  if (root.Bokeh !== undefined) {\n",
              "    embed_document(root);\n",
              "  } else {\n",
              "    var attempts = 0;\n",
              "    var timer = setInterval(function(root) {\n",
              "      if (root.Bokeh !== undefined) {\n",
              "        clearInterval(timer);\n",
              "        embed_document(root);\n",
              "      } else {\n",
              "        attempts++;\n",
              "        if (attempts > 100) {\n",
              "          clearInterval(timer);\n",
              "          console.log(\"Bokeh: ERROR: Unable to run BokehJS code because BokehJS library is missing\");\n",
              "        }\n",
              "      }\n",
              "    }, 10, root)\n",
              "  }\n",
              "})(window);"
            ],
            "application/vnd.bokehjs_exec.v0+json": ""
          },
          "metadata": {
            "application/vnd.bokehjs_exec.v0+json": {
              "id": "1345"
            }
          }
        }
      ]
    },
    {
      "cell_type": "markdown",
      "source": [
        "이상으로 첫 번째 `Python과 Colab`에 대해 알아보는 실습을 마치도록하겠습니다.\n",
        "\n",
        "감사합니다."
      ],
      "metadata": {
        "id": "3AwU4SjrTVJx"
      }
    }
  ]
}